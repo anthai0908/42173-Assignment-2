{
  "cells": [
    {
      "cell_type": "code",
      "source": [
        "pip install datasets transformers evaluate adapters"
      ],
      "metadata": {
        "id": "uCwqTCKlw6jM",
        "colab": {
          "base_uri": "https://localhost:8080/"
        },
        "outputId": "99f2e108-0ddc-4764-d70f-54d2090e1e50"
      },
      "execution_count": null,
      "outputs": [
        {
          "output_type": "stream",
          "name": "stdout",
          "text": [
            "Requirement already satisfied: datasets in /usr/local/lib/python3.10/dist-packages (3.0.1)\n",
            "Requirement already satisfied: transformers in /usr/local/lib/python3.10/dist-packages (4.43.4)\n",
            "Requirement already satisfied: evaluate in /usr/local/lib/python3.10/dist-packages (0.4.3)\n",
            "Requirement already satisfied: adapters in /usr/local/lib/python3.10/dist-packages (1.0.0)\n",
            "Requirement already satisfied: filelock in /usr/local/lib/python3.10/dist-packages (from datasets) (3.16.1)\n",
            "Requirement already satisfied: numpy>=1.17 in /usr/local/lib/python3.10/dist-packages (from datasets) (1.26.4)\n",
            "Requirement already satisfied: pyarrow>=15.0.0 in /usr/local/lib/python3.10/dist-packages (from datasets) (16.1.0)\n",
            "Requirement already satisfied: dill<0.3.9,>=0.3.0 in /usr/local/lib/python3.10/dist-packages (from datasets) (0.3.8)\n",
            "Requirement already satisfied: pandas in /usr/local/lib/python3.10/dist-packages (from datasets) (2.2.2)\n",
            "Requirement already satisfied: requests>=2.32.2 in /usr/local/lib/python3.10/dist-packages (from datasets) (2.32.3)\n",
            "Requirement already satisfied: tqdm>=4.66.3 in /usr/local/lib/python3.10/dist-packages (from datasets) (4.66.5)\n",
            "Requirement already satisfied: xxhash in /usr/local/lib/python3.10/dist-packages (from datasets) (3.5.0)\n",
            "Requirement already satisfied: multiprocess in /usr/local/lib/python3.10/dist-packages (from datasets) (0.70.16)\n",
            "Requirement already satisfied: fsspec<=2024.6.1,>=2023.1.0 in /usr/local/lib/python3.10/dist-packages (from fsspec[http]<=2024.6.1,>=2023.1.0->datasets) (2024.6.1)\n",
            "Requirement already satisfied: aiohttp in /usr/local/lib/python3.10/dist-packages (from datasets) (3.10.10)\n",
            "Requirement already satisfied: huggingface-hub>=0.22.0 in /usr/local/lib/python3.10/dist-packages (from datasets) (0.24.7)\n",
            "Requirement already satisfied: packaging in /usr/local/lib/python3.10/dist-packages (from datasets) (24.1)\n",
            "Requirement already satisfied: pyyaml>=5.1 in /usr/local/lib/python3.10/dist-packages (from datasets) (6.0.2)\n",
            "Requirement already satisfied: regex!=2019.12.17 in /usr/local/lib/python3.10/dist-packages (from transformers) (2024.9.11)\n",
            "Requirement already satisfied: safetensors>=0.4.1 in /usr/local/lib/python3.10/dist-packages (from transformers) (0.4.5)\n",
            "Requirement already satisfied: tokenizers<0.20,>=0.19 in /usr/local/lib/python3.10/dist-packages (from transformers) (0.19.1)\n",
            "Requirement already satisfied: aiohappyeyeballs>=2.3.0 in /usr/local/lib/python3.10/dist-packages (from aiohttp->datasets) (2.4.3)\n",
            "Requirement already satisfied: aiosignal>=1.1.2 in /usr/local/lib/python3.10/dist-packages (from aiohttp->datasets) (1.3.1)\n",
            "Requirement already satisfied: attrs>=17.3.0 in /usr/local/lib/python3.10/dist-packages (from aiohttp->datasets) (24.2.0)\n",
            "Requirement already satisfied: frozenlist>=1.1.1 in /usr/local/lib/python3.10/dist-packages (from aiohttp->datasets) (1.4.1)\n",
            "Requirement already satisfied: multidict<7.0,>=4.5 in /usr/local/lib/python3.10/dist-packages (from aiohttp->datasets) (6.1.0)\n",
            "Requirement already satisfied: yarl<2.0,>=1.12.0 in /usr/local/lib/python3.10/dist-packages (from aiohttp->datasets) (1.14.0)\n",
            "Requirement already satisfied: async-timeout<5.0,>=4.0 in /usr/local/lib/python3.10/dist-packages (from aiohttp->datasets) (4.0.3)\n",
            "Requirement already satisfied: typing-extensions>=3.7.4.3 in /usr/local/lib/python3.10/dist-packages (from huggingface-hub>=0.22.0->datasets) (4.12.2)\n",
            "Requirement already satisfied: charset-normalizer<4,>=2 in /usr/local/lib/python3.10/dist-packages (from requests>=2.32.2->datasets) (3.4.0)\n",
            "Requirement already satisfied: idna<4,>=2.5 in /usr/local/lib/python3.10/dist-packages (from requests>=2.32.2->datasets) (3.10)\n",
            "Requirement already satisfied: urllib3<3,>=1.21.1 in /usr/local/lib/python3.10/dist-packages (from requests>=2.32.2->datasets) (2.2.3)\n",
            "Requirement already satisfied: certifi>=2017.4.17 in /usr/local/lib/python3.10/dist-packages (from requests>=2.32.2->datasets) (2024.8.30)\n",
            "Requirement already satisfied: python-dateutil>=2.8.2 in /usr/local/lib/python3.10/dist-packages (from pandas->datasets) (2.8.2)\n",
            "Requirement already satisfied: pytz>=2020.1 in /usr/local/lib/python3.10/dist-packages (from pandas->datasets) (2024.2)\n",
            "Requirement already satisfied: tzdata>=2022.7 in /usr/local/lib/python3.10/dist-packages (from pandas->datasets) (2024.2)\n",
            "Requirement already satisfied: six>=1.5 in /usr/local/lib/python3.10/dist-packages (from python-dateutil>=2.8.2->pandas->datasets) (1.16.0)\n",
            "Requirement already satisfied: propcache>=0.2.0 in /usr/local/lib/python3.10/dist-packages (from yarl<2.0,>=1.12.0->aiohttp->datasets) (0.2.0)\n"
          ]
        }
      ]
    },
    {
      "cell_type": "code",
      "source": [
        "pip install sacrebleu"
      ],
      "metadata": {
        "colab": {
          "base_uri": "https://localhost:8080/"
        },
        "id": "BClMODCezwFr",
        "outputId": "d8480f28-1500-4edf-a45f-d8c6d25fd078"
      },
      "execution_count": null,
      "outputs": [
        {
          "output_type": "stream",
          "name": "stdout",
          "text": [
            "Requirement already satisfied: sacrebleu in /usr/local/lib/python3.10/dist-packages (2.4.3)\n",
            "Requirement already satisfied: portalocker in /usr/local/lib/python3.10/dist-packages (from sacrebleu) (2.10.1)\n",
            "Requirement already satisfied: regex in /usr/local/lib/python3.10/dist-packages (from sacrebleu) (2024.9.11)\n",
            "Requirement already satisfied: tabulate>=0.8.9 in /usr/local/lib/python3.10/dist-packages (from sacrebleu) (0.9.0)\n",
            "Requirement already satisfied: numpy>=1.17 in /usr/local/lib/python3.10/dist-packages (from sacrebleu) (1.26.4)\n",
            "Requirement already satisfied: colorama in /usr/local/lib/python3.10/dist-packages (from sacrebleu) (0.4.6)\n",
            "Requirement already satisfied: lxml in /usr/local/lib/python3.10/dist-packages (from sacrebleu) (4.9.4)\n"
          ]
        }
      ]
    },
    {
      "cell_type": "code",
      "execution_count": null,
      "metadata": {
        "id": "GbfxVdE4wsbw"
      },
      "outputs": [],
      "source": [
        "from datasets import load_dataset\n",
        "from transformers import T5Config, T5ForConditionalGeneration, T5Tokenizer, Seq2SeqTrainer, Seq2SeqTrainingArguments, Adafactor, DataCollatorForSeq2Seq\n",
        "import sacrebleu\n",
        "import numpy as np\n",
        "import tensorboard\n",
        "import evaluate\n",
        "from safetensors.torch import load_file\n",
        "from adapters import AdapterConfig, T5AdapterModel\n"
      ]
    },
    {
      "cell_type": "code",
      "source": [
        "from google.colab import drive\n",
        "drive.mount('/content/drive')"
      ],
      "metadata": {
        "colab": {
          "base_uri": "https://localhost:8080/"
        },
        "id": "UgZZDLppw0R1",
        "outputId": "7c38a2e6-2299-4fa9-8f3c-136e48293973"
      },
      "execution_count": 1,
      "outputs": [
        {
          "output_type": "stream",
          "name": "stdout",
          "text": [
            "Mounted at /content/drive\n"
          ]
        }
      ]
    },
    {
      "cell_type": "code",
      "execution_count": null,
      "metadata": {
        "id": "NTUwbkTvwsby",
        "colab": {
          "base_uri": "https://localhost:8080/"
        },
        "outputId": "7647cafe-5b98-4bd4-dc4d-d3919cc4d11e"
      },
      "outputs": [
        {
          "output_type": "stream",
          "name": "stderr",
          "text": [
            "/usr/local/lib/python3.10/dist-packages/huggingface_hub/utils/_token.py:89: UserWarning: \n",
            "The secret `HF_TOKEN` does not exist in your Colab secrets.\n",
            "To authenticate with the Hugging Face Hub, create a token in your settings tab (https://huggingface.co/settings/tokens), set it as secret in your Google Colab and restart your session.\n",
            "You will be able to reuse this secret in all of your notebooks.\n",
            "Please note that authentication is recommended but still optional to access public models or datasets.\n",
            "  warnings.warn(\n",
            "You are using the default legacy behaviour of the <class 'transformers.models.t5.tokenization_t5.T5Tokenizer'>. This is expected, and simply means that the `legacy` (previous) behavior will be used so nothing changes for you. If you want to use the new behaviour, set `legacy=False`. This should only be set if you understand what it means, and thoroughly read the reason why this was added as explained in https://github.com/huggingface/transformers/pull/24565\n"
          ]
        }
      ],
      "source": [
        "dataset_nmt = load_dataset('json', data_files='/content/drive/MyDrive/Assignment 2/wmt_en_de_train.json')\n",
        "validation_nmt = load_dataset('json', data_files= '/content/drive/MyDrive/Assignment 2/wmt_en_de_validation.json')\n",
        "config = T5Config.from_pretrained('t5-base')\n",
        "model = T5ForConditionalGeneration(config)\n",
        "tokenizer = T5Tokenizer.from_pretrained('T5-base',use_fast = True)\n",
        "data_collator = DataCollatorForSeq2Seq(tokenizer= tokenizer, model = model)"
      ]
    },
    {
      "cell_type": "code",
      "execution_count": null,
      "metadata": {
        "colab": {
          "base_uri": "https://localhost:8080/"
        },
        "id": "3FhQWeiCwsby",
        "outputId": "ae8740db-7acf-4280-d34d-57f6e5669f82"
      },
      "outputs": [
        {
          "output_type": "stream",
          "name": "stdout",
          "text": [
            "DatasetDict({\n",
            "    train: Dataset({\n",
            "        features: ['translation'],\n",
            "        num_rows: 34782245\n",
            "    })\n",
            "})\n",
            "DatasetDict({\n",
            "    train: Dataset({\n",
            "        features: ['translation'],\n",
            "        num_rows: 16000\n",
            "    })\n",
            "    test: Dataset({\n",
            "        features: ['translation'],\n",
            "        num_rows: 4000\n",
            "    })\n",
            "})\n",
            "Train set size: 16000\n",
            "Test set size: 4000\n",
            "DatasetDict({\n",
            "    train: Dataset({\n",
            "        features: ['translation'],\n",
            "        num_rows: 16000\n",
            "    })\n",
            "    test: Dataset({\n",
            "        features: ['translation'],\n",
            "        num_rows: 4000\n",
            "    })\n",
            "})\n"
          ]
        }
      ],
      "source": [
        "from torch.utils.data import IterableDataset\n",
        "print (dataset_nmt)\n",
        "# Split dataset and remove unwanted columns\n",
        "data_splits_nmt = dataset_nmt['train'].select(range(20_000)).train_test_split(test_size=0.2, shuffle=True)\n",
        "print((data_splits_nmt))\n",
        "# Check the number of rows\n",
        "print(f\"Train set size: {data_splits_nmt['train'].num_rows}\")\n",
        "print(f\"Test set size: {data_splits_nmt['test'].num_rows}\")\n",
        "print(data_splits_nmt)"
      ]
    },
    {
      "cell_type": "code",
      "execution_count": null,
      "metadata": {
        "colab": {
          "base_uri": "https://localhost:8080/",
          "height": 82,
          "referenced_widgets": [
            "2186614e6a8441d2832e5c39137a1bf7",
            "04fb6fc877a54fe3b100b273011d4b9f",
            "a3c61d7607b64f5db8642a3300944c5e",
            "796f60fc34954a5a8f2a70ca1b52ab84",
            "009799f1bb514c6fb590698149d8cc87",
            "663fc78b35c74d46a7938f8580286980",
            "13f77fbccbec4133929763809aef0922",
            "f2f2872fd79b4a44828d65197c87f0d9",
            "1a06071070b242f29d7807348d160316",
            "032d07c00fff4b90b65ff276c0e8515b",
            "de28fcdd65db435591bfaf65799d882c",
            "b843319fdf0b47fc98cc1bfc1967a99c",
            "2e0785bb84744d6191509443c7b775e2",
            "649e8dd722804af9a76241bed173aed7",
            "6cfebd8dafb647a882b3a26c5908a8da",
            "8aecf1a5cd264917b461657a0195d857",
            "3683d1afeef54d88b1427dd1c8ab61ab",
            "79a1f7fc58d34fb99f73b3496ffc329c",
            "cd25520771f74295a87c185965d6679f",
            "013c0f963bdd4f3a8046671eb87f0daa",
            "84befab7c2be425d84fd9404303b495e",
            "ca8385678f064d5e8e8ca70e0847a67e"
          ]
        },
        "id": "G4wNrP6Swsby",
        "outputId": "cabb0156-d2af-45ab-d3f2-026a212fca25"
      },
      "outputs": [
        {
          "output_type": "display_data",
          "data": {
            "text/plain": [
              "Map:   0%|          | 0/16000 [00:00<?, ? examples/s]"
            ],
            "application/vnd.jupyter.widget-view+json": {
              "version_major": 2,
              "version_minor": 0,
              "model_id": "2186614e6a8441d2832e5c39137a1bf7"
            }
          },
          "metadata": {}
        },
        {
          "output_type": "display_data",
          "data": {
            "text/plain": [
              "Map:   0%|          | 0/4000 [00:00<?, ? examples/s]"
            ],
            "application/vnd.jupyter.widget-view+json": {
              "version_major": 2,
              "version_minor": 0,
              "model_id": "b843319fdf0b47fc98cc1bfc1967a99c"
            }
          },
          "metadata": {}
        }
      ],
      "source": [
        "\n",
        "\n",
        "# Preprocess function to tokenize the data\n",
        "def preprocess_function(examples, tokenizer, input_length = 512):\n",
        "    inputs = ['Translate from English to German: ' + ex['en'] for ex in examples['translation']]  # English source text\n",
        "    targets = [ex['de'] for ex in examples['translation']]  # German target text\n",
        "\n",
        "    # Tokenize the inputs (source text)\n",
        "    model_inputs = tokenizer(inputs, max_length=input_length, truncation=True, padding = True)\n",
        "\n",
        "    # Tokenize the targets (target text)\n",
        "    labels = tokenizer(targets, max_length=input_length, truncation=True, padding = True)\n",
        "\n",
        "    # Set the labels in the model inputs\n",
        "    model_inputs['labels'] = labels['input_ids']\n",
        "\n",
        "    return model_inputs\n",
        "\n",
        "tokenized_train_dataset = data_splits_nmt['train'].map(preprocess_function,\n",
        "            batch_size =10000,\n",
        "            batched=True,\n",
        "            fn_kwargs={\n",
        "                'tokenizer': tokenizer,\n",
        "                'input_length': 512,\n",
        "            },\n",
        "            remove_columns= 'translation',\n",
        "            writer_batch_size = 10000)\n",
        "tokenized_test_dataset = data_splits_nmt['test'].map(preprocess_function,\n",
        "            batch_size =10000,\n",
        "            batched=True,\n",
        "            fn_kwargs={\n",
        "                'tokenizer': tokenizer,\n",
        "                'input_length': 512,\n",
        "            },\n",
        "            remove_columns= 'translation',\n",
        "            writer_batch_size = 10000)\n",
        "tokenized_validated_dataset = validation_nmt['train'].map(preprocess_function,\n",
        "            batch_size = 10000,\n",
        "            batched= True,\n",
        "            fn_kwargs= {'tokenizer': tokenizer, 'input_length' : 512},\n",
        "            remove_columns= 'translation',\n",
        "            writer_batch_size= 10_000)"
      ]
    },
    {
      "cell_type": "code",
      "execution_count": null,
      "metadata": {
        "id": "pGSn2WcSwsbz"
      },
      "outputs": [],
      "source": [
        "import numpy as np\n",
        "import evaluate\n",
        "\n",
        "bleu_metric = evaluate.load(\"bleu\")\n",
        "\n",
        "def compute_metrics(eval_preds):\n",
        "    preds, labels = eval_preds\n",
        "\n",
        "    # Decode labels, replacing -100 with the pad token\n",
        "    labels = np.where(labels != -100, labels, tokenizer.pad_token_id)\n",
        "    decoded_preds = tokenizer.batch_decode(preds, skip_special_tokens=True)\n",
        "    decoded_labels = tokenizer.batch_decode(labels, skip_special_tokens=True)\n",
        "\n",
        "    # Strip unnecessary whitespaces\n",
        "    decoded_preds = [pred.strip() for pred in decoded_preds]\n",
        "    decoded_labels = [[label.strip()] for label in decoded_labels]  # BLEU expects a list of references for each prediction\n",
        "\n",
        "    # Compute BLEU score\n",
        "    result = bleu_metric.compute(predictions=decoded_preds, references=decoded_labels)\n",
        "\n",
        "    return {\"bleu\": result[\"bleu\"]}\n"
      ]
    },
    {
      "cell_type": "code",
      "execution_count": null,
      "metadata": {
        "colab": {
          "base_uri": "https://localhost:8080/",
          "height": 994
        },
        "id": "2l5asdytwsbz",
        "outputId": "d7fdc6a9-47c4-4aaa-a116-88842af82824"
      },
      "outputs": [
        {
          "data": {
            "text/html": [
              "\n",
              "    <div>\n",
              "      \n",
              "      <progress value='160' max='186' style='width:300px; height:20px; vertical-align: middle;'></progress>\n",
              "      [160/186 1:54:20 < 18:48, 0.02 it/s, Epoch 2.54/3]\n",
              "    </div>\n",
              "    <table border=\"1\" class=\"dataframe\">\n",
              "  <thead>\n",
              " <tr style=\"text-align: left;\">\n",
              "      <th>Step</th>\n",
              "      <th>Training Loss</th>\n",
              "      <th>Validation Loss</th>\n",
              "      <th>Bleu</th>\n",
              "    </tr>\n",
              "  </thead>\n",
              "  <tbody>\n",
              "    <tr>\n",
              "      <td>20</td>\n",
              "      <td>1.148200</td>\n",
              "      <td>1.385659</td>\n",
              "      <td>0.000000</td>\n",
              "    </tr>\n",
              "    <tr>\n",
              "      <td>40</td>\n",
              "      <td>1.081900</td>\n",
              "      <td>1.309365</td>\n",
              "      <td>0.000000</td>\n",
              "    </tr>\n",
              "    <tr>\n",
              "      <td>60</td>\n",
              "      <td>1.038400</td>\n",
              "      <td>1.255258</td>\n",
              "      <td>0.001424</td>\n",
              "    </tr>\n",
              "    <tr>\n",
              "      <td>80</td>\n",
              "      <td>1.000100</td>\n",
              "      <td>1.217483</td>\n",
              "      <td>0.001536</td>\n",
              "    </tr>\n",
              "    <tr>\n",
              "      <td>100</td>\n",
              "      <td>0.960700</td>\n",
              "      <td>1.190291</td>\n",
              "      <td>0.001233</td>\n",
              "    </tr>\n",
              "    <tr>\n",
              "      <td>120</td>\n",
              "      <td>0.958800</td>\n",
              "      <td>1.170023</td>\n",
              "      <td>0.001571</td>\n",
              "    </tr>\n",
              "    <tr>\n",
              "      <td>140</td>\n",
              "      <td>0.940300</td>\n",
              "      <td>1.157143</td>\n",
              "      <td>0.002507</td>\n",
              "    </tr>\n",
              "  </tbody>\n",
              "</table><p>"
            ],
            "text/plain": [
              "<IPython.core.display.HTML object>"
            ]
          },
          "metadata": {},
          "output_type": "display_data"
        },
        {
          "output_type": "display_data",
          "data": {
            "text/plain": [
              "<IPython.core.display.HTML object>"
            ],
            "text/html": [
              "\n",
              "    <div>\n",
              "      \n",
              "      <progress value='186' max='186' style='width:300px; height:20px; vertical-align: middle;'></progress>\n",
              "      [186/186 2:24:42, Epoch 2/3]\n",
              "    </div>\n",
              "    <table border=\"1\" class=\"dataframe\">\n",
              "  <thead>\n",
              " <tr style=\"text-align: left;\">\n",
              "      <th>Step</th>\n",
              "      <th>Training Loss</th>\n",
              "      <th>Validation Loss</th>\n",
              "      <th>Bleu</th>\n",
              "    </tr>\n",
              "  </thead>\n",
              "  <tbody>\n",
              "    <tr>\n",
              "      <td>20</td>\n",
              "      <td>1.148200</td>\n",
              "      <td>1.385659</td>\n",
              "      <td>0.000000</td>\n",
              "    </tr>\n",
              "    <tr>\n",
              "      <td>40</td>\n",
              "      <td>1.081900</td>\n",
              "      <td>1.309365</td>\n",
              "      <td>0.000000</td>\n",
              "    </tr>\n",
              "    <tr>\n",
              "      <td>60</td>\n",
              "      <td>1.038400</td>\n",
              "      <td>1.255258</td>\n",
              "      <td>0.001424</td>\n",
              "    </tr>\n",
              "    <tr>\n",
              "      <td>80</td>\n",
              "      <td>1.000100</td>\n",
              "      <td>1.217483</td>\n",
              "      <td>0.001536</td>\n",
              "    </tr>\n",
              "    <tr>\n",
              "      <td>100</td>\n",
              "      <td>0.960700</td>\n",
              "      <td>1.190291</td>\n",
              "      <td>0.001233</td>\n",
              "    </tr>\n",
              "    <tr>\n",
              "      <td>120</td>\n",
              "      <td>0.958800</td>\n",
              "      <td>1.170023</td>\n",
              "      <td>0.001571</td>\n",
              "    </tr>\n",
              "    <tr>\n",
              "      <td>140</td>\n",
              "      <td>0.940300</td>\n",
              "      <td>1.157143</td>\n",
              "      <td>0.002507</td>\n",
              "    </tr>\n",
              "    <tr>\n",
              "      <td>160</td>\n",
              "      <td>0.919400</td>\n",
              "      <td>1.149024</td>\n",
              "      <td>0.001769</td>\n",
              "    </tr>\n",
              "    <tr>\n",
              "      <td>180</td>\n",
              "      <td>0.920200</td>\n",
              "      <td>1.144609</td>\n",
              "      <td>0.001961</td>\n",
              "    </tr>\n",
              "  </tbody>\n",
              "</table><p>"
            ]
          },
          "metadata": {}
        },
        {
          "output_type": "stream",
          "name": "stderr",
          "text": [
            "There were missing keys in the checkpoint model loaded: ['encoder.embed_tokens.weight', 'decoder.embed_tokens.weight', 'lm_head.weight'].\n"
          ]
        },
        {
          "output_type": "display_data",
          "data": {
            "text/plain": [
              "<IPython.core.display.HTML object>"
            ],
            "text/html": [
              "\n",
              "    <div>\n",
              "      \n",
              "      <progress value='94' max='94' style='width:300px; height:20px; vertical-align: middle;'></progress>\n",
              "      [94/94 07:34]\n",
              "    </div>\n",
              "    "
            ]
          },
          "metadata": {}
        },
        {
          "output_type": "execute_result",
          "data": {
            "text/plain": [
              "{'eval_loss': 1.984094500541687,\n",
              " 'eval_bleu': 0.0,\n",
              " 'eval_runtime': 558.7955,\n",
              " 'eval_samples_per_second': 5.365,\n",
              " 'eval_steps_per_second': 0.168,\n",
              " 'epoch': 2.976}"
            ]
          },
          "metadata": {},
          "execution_count": 12
        }
      ],
      "source": [
        "#without pretraining\n",
        "\n",
        "# Define your training arguments\n",
        "training_args = Seq2SeqTrainingArguments(\n",
        "    output_dir='/content/drive/MyDrive/Assignment 2/Submission/results',\n",
        "    eval_strategy=\"steps\",\n",
        "    eval_steps=20,\n",
        "    per_device_train_batch_size=32,\n",
        "    per_device_eval_batch_size =32,\n",
        "    dataloader_num_workers=8,\n",
        "    num_train_epochs=3,\n",
        "    learning_rate=0.01,\n",
        "    weight_decay=0.01,\n",
        "    gradient_accumulation_steps=8,\n",
        "    predict_with_generate=True,\n",
        "    logging_dir='/content/drive/MyDrive/Assignment 2/Submission/logs',\n",
        "    logging_steps=20,\n",
        "    save_total_limit=2,\n",
        "    save_steps=20,\n",
        "    load_best_model_at_end=True,\n",
        "    greater_is_better=False,\n",
        "    report_to=\"tensorboard\",\n",
        "    generation_max_length= 256\n",
        ")\n",
        "\n",
        "# Initialize the Trainer with AdaFactor optimizer\n",
        "trainer = Seq2SeqTrainer(\n",
        "    model=model,\n",
        "    args=training_args,\n",
        "    train_dataset=tokenized_train_dataset,\n",
        "    eval_dataset=tokenized_test_dataset,\n",
        "    optimizers=(Adafactor(model.parameters(), lr=0.001, relative_step=False), None),\n",
        "    data_collator=data_collator,\n",
        "    compute_metrics=compute_metrics\n",
        ")\n",
        "\n",
        "# Start training\n",
        "trainer.train()\n",
        "trainer.evaluate(tokenized_validated_dataset)\n"
      ]
    },
    {
      "cell_type": "code",
      "source": [
        "model = T5ForConditionalGeneration.from_pretrained('/content/drive/MyDrive/Assignment 2/Submission/checkpoints_not_pretrained/checkpoint-186')"
      ],
      "metadata": {
        "id": "2-QMvHc9JReK"
      },
      "execution_count": null,
      "outputs": []
    },
    {
      "cell_type": "code",
      "source": [
        "#Translation of the unpretrained model after finetuning\n",
        "import torch\n",
        "for batch_index, batch in enumerate(tokenized_validated_dataset):\n",
        "    if batch_index > 10:\n",
        "        break\n",
        "    inputs = batch['input_ids']\n",
        "    inputs_tensor = torch.tensor([inputs]).to('cuda')\n",
        "    label_tensor = torch.tensor([batch['labels']]).to('cuda')\n",
        "    # Ensure model2 is in evaluation mode if necessary\n",
        "    model.to('cuda')\n",
        "    model.eval()\n",
        "\n",
        "    # Get model output\n",
        "    with torch.no_grad():\n",
        "        outputs = model.generate(inputs_tensor)\n",
        "\n",
        "    # Decoding the model output (assuming outputs are logits)\n",
        "    decoded_label = tokenizer.batch_decode(label_tensor, skip_special_tokens=True)\n",
        "    decoded_sentence = tokenizer.batch_decode(outputs, skip_special_tokens=True)\n",
        "    print(f\"Decoded labels: {decoded_label}\")\n",
        "    print(f\"Decoded sentence: {decoded_sentence}\")"
      ],
      "metadata": {
        "colab": {
          "base_uri": "https://localhost:8080/"
        },
        "id": "x6miZxoZF0YX",
        "outputId": "828a9fcd-d702-4f4f-cebf-b96ca7726f2f"
      },
      "execution_count": null,
      "outputs": [
        {
          "output_type": "stream",
          "name": "stderr",
          "text": [
            "/usr/local/lib/python3.10/dist-packages/transformers/generation/utils.py:1259: UserWarning: Using the model-agnostic default `max_length` (=20) to control the generation length. We recommend setting `max_new_tokens` to control the maximum length of the generation.\n",
            "  warnings.warn(\n"
          ]
        },
        {
          "output_type": "stream",
          "name": "stdout",
          "text": [
            "Decoded labels: ['München 1856: Vier Karten, die Ihren Blick auf die Stadt verändern']\n",
            "Decoded sentence: ['Die hat die Kommission hat.']\n",
            "Decoded labels: ['Eine Irren-Anstalt, wo sich heute Jugendliche begegnen sollen.']\n",
            "Decoded sentence: ['Die es es es.']\n",
            "Decoded labels: ['Eine Gruftkapelle, wo nun für den S-Bahn-Tunnel gegraben wird.']\n",
            "Decoded sentence: ['Die es es es es es es']\n",
            "Decoded labels: ['Kleingärtner bewirtschaften den einstigen Grund von Bauern.']\n",
            "Decoded sentence: ['Die hat hat die Kommission hat.']\n",
            "Decoded labels: ['Die älteste offizielle Karte Münchens fördert spannende Geschichten zu Tage.']\n",
            "Decoded sentence: ['Die es hat.']\n",
            "Decoded labels: ['Es nervt, wenn Landkarten nicht aktuell sind.']\n",
            "Decoded sentence: ['Die es nicht nicht nicht nicht nicht nicht nicht nicht nicht nicht nicht nicht nicht nicht nicht']\n",
            "Decoded labels: ['Das kennt jeder, der sich schon mal aufregen musste, weil das Auto-Navi statt einer Umgehungsstraße eine grüne Wiese anzeigte.']\n",
            "Decoded sentence: ['Die es es es es es es']\n",
            "Decoded labels: ['Die historischen Landkarten des digitalen Bayern-Atlases, ein Angebot des Geoportals Bayern der Staatsregierung, sind alles andere als aktuell - doch gerade deshalb sehr aufschlussreich.']\n",
            "Decoded sentence: ['Die es es es es es es']\n",
            "Decoded labels: ['Besonders wenn man sie mit aktuellen Online-Karten vergleicht.']\n",
            "Decoded sentence: ['Die es es hat.']\n",
            "Decoded labels: ['Dann wird deutlich, wie sich Städte und Gemeinden im Verbreitungsgebiet des Münchner Merkur seit dem 19. Jahrhundert verändert haben.']\n",
            "Decoded sentence: ['Die hat die Kommission hat die hat die hat die hat die']\n",
            "Decoded labels: ['Der digitale Bayern-Atlas ist ein Flickenteppich, den man als solchen nicht gleich erkennt.']\n",
            "Decoded sentence: ['Die es es es es es es']\n"
          ]
        }
      ]
    },
    {
      "cell_type": "code",
      "execution_count": null,
      "metadata": {
        "id": "WOoLdUALwsbz",
        "colab": {
          "base_uri": "https://localhost:8080/",
          "height": 886
        },
        "outputId": "ef7204d8-4736-40e4-f48a-1775146472a4"
      },
      "outputs": [
        {
          "data": {
            "text/html": [
              "\n",
              "    <div>\n",
              "      \n",
              "      <progress value='161' max='186' style='width:300px; height:20px; vertical-align: middle;'></progress>\n",
              "      [161/186 1:58:33 < 18:38, 0.02 it/s, Epoch 2.56/3]\n",
              "    </div>\n",
              "    <table border=\"1\" class=\"dataframe\">\n",
              "  <thead>\n",
              " <tr style=\"text-align: left;\">\n",
              "      <th>Step</th>\n",
              "      <th>Training Loss</th>\n",
              "      <th>Validation Loss</th>\n",
              "      <th>Bleu</th>\n",
              "    </tr>\n",
              "  </thead>\n",
              "  <tbody>\n",
              "    <tr>\n",
              "      <td>20</td>\n",
              "      <td>3.863800</td>\n",
              "      <td>1.702601</td>\n",
              "      <td>0.000000</td>\n",
              "    </tr>\n",
              "    <tr>\n",
              "      <td>40</td>\n",
              "      <td>1.221200</td>\n",
              "      <td>1.464314</td>\n",
              "      <td>0.000000</td>\n",
              "    </tr>\n",
              "    <tr>\n",
              "      <td>60</td>\n",
              "      <td>1.116500</td>\n",
              "      <td>1.375240</td>\n",
              "      <td>0.000000</td>\n",
              "    </tr>\n",
              "    <tr>\n",
              "      <td>80</td>\n",
              "      <td>1.057800</td>\n",
              "      <td>1.320515</td>\n",
              "      <td>0.000000</td>\n",
              "    </tr>\n",
              "    <tr>\n",
              "      <td>100</td>\n",
              "      <td>1.020300</td>\n",
              "      <td>1.282874</td>\n",
              "      <td>0.000000</td>\n",
              "    </tr>\n",
              "    <tr>\n",
              "      <td>120</td>\n",
              "      <td>1.008100</td>\n",
              "      <td>1.257433</td>\n",
              "      <td>0.000000</td>\n",
              "    </tr>\n",
              "    <tr>\n",
              "      <td>140</td>\n",
              "      <td>0.978200</td>\n",
              "      <td>1.241369</td>\n",
              "      <td>0.000000</td>\n",
              "    </tr>\n",
              "  </tbody>\n",
              "</table><p>\n",
              "    <div>\n",
              "      \n",
              "      <progress value='54' max='125' style='width:300px; height:20px; vertical-align: middle;'></progress>\n",
              "      [ 54/125 04:26 < 05:56, 0.20 it/s]\n",
              "    </div>\n",
              "    "
            ],
            "text/plain": [
              "<IPython.core.display.HTML object>"
            ]
          },
          "metadata": {},
          "output_type": "display_data"
        },
        {
          "output_type": "display_data",
          "data": {
            "text/plain": [
              "<IPython.core.display.HTML object>"
            ],
            "text/html": [
              "\n",
              "    <div>\n",
              "      \n",
              "      <progress value='186' max='186' style='width:300px; height:20px; vertical-align: middle;'></progress>\n",
              "      [186/186 2:30:08, Epoch 2/3]\n",
              "    </div>\n",
              "    <table border=\"1\" class=\"dataframe\">\n",
              "  <thead>\n",
              " <tr style=\"text-align: left;\">\n",
              "      <th>Step</th>\n",
              "      <th>Training Loss</th>\n",
              "      <th>Validation Loss</th>\n",
              "      <th>Bleu</th>\n",
              "    </tr>\n",
              "  </thead>\n",
              "  <tbody>\n",
              "    <tr>\n",
              "      <td>20</td>\n",
              "      <td>3.863800</td>\n",
              "      <td>1.702601</td>\n",
              "      <td>0.000000</td>\n",
              "    </tr>\n",
              "    <tr>\n",
              "      <td>40</td>\n",
              "      <td>1.221200</td>\n",
              "      <td>1.464314</td>\n",
              "      <td>0.000000</td>\n",
              "    </tr>\n",
              "    <tr>\n",
              "      <td>60</td>\n",
              "      <td>1.116500</td>\n",
              "      <td>1.375240</td>\n",
              "      <td>0.000000</td>\n",
              "    </tr>\n",
              "    <tr>\n",
              "      <td>80</td>\n",
              "      <td>1.057800</td>\n",
              "      <td>1.320515</td>\n",
              "      <td>0.000000</td>\n",
              "    </tr>\n",
              "    <tr>\n",
              "      <td>100</td>\n",
              "      <td>1.020300</td>\n",
              "      <td>1.282874</td>\n",
              "      <td>0.000000</td>\n",
              "    </tr>\n",
              "    <tr>\n",
              "      <td>120</td>\n",
              "      <td>1.008100</td>\n",
              "      <td>1.257433</td>\n",
              "      <td>0.000000</td>\n",
              "    </tr>\n",
              "    <tr>\n",
              "      <td>140</td>\n",
              "      <td>0.978200</td>\n",
              "      <td>1.241369</td>\n",
              "      <td>0.000000</td>\n",
              "    </tr>\n",
              "    <tr>\n",
              "      <td>160</td>\n",
              "      <td>0.973900</td>\n",
              "      <td>1.231695</td>\n",
              "      <td>0.000000</td>\n",
              "    </tr>\n",
              "    <tr>\n",
              "      <td>180</td>\n",
              "      <td>0.956500</td>\n",
              "      <td>1.227472</td>\n",
              "      <td>0.000000</td>\n",
              "    </tr>\n",
              "  </tbody>\n",
              "</table><p>"
            ]
          },
          "metadata": {}
        },
        {
          "output_type": "stream",
          "name": "stderr",
          "text": [
            "There were missing keys in the checkpoint model loaded: ['encoder.embed_tokens.weight', 'decoder.embed_tokens.weight', 'lm_head.weight'].\n"
          ]
        },
        {
          "output_type": "execute_result",
          "data": {
            "text/plain": [
              "TrainOutput(global_step=186, training_loss=1.3434423656873806, metrics={'train_runtime': 9016.7673, 'train_samples_per_second': 5.323, 'train_steps_per_second': 0.021, 'total_flos': 1.30256092790784e+16, 'train_loss': 1.3434423656873806, 'epoch': 2.976})"
            ]
          },
          "metadata": {},
          "execution_count": 9
        }
      ],
      "source": [
        "\n",
        "#For pretrained T5\n",
        "# Load the tokenizer for T5\n",
        "tokenizer = T5Tokenizer.from_pretrained(\"t5-base\")  # Replace with your specific model if needed\n",
        "config = T5Config.from_pretrained(\"t5-base\")\n",
        "# Load the SafeTensors file\n",
        "file_path = \"/content/drive/MyDrive/checkpoint-26700/model.safetensors\"\n",
        "model_weights = load_file(file_path)\n",
        "\n",
        "# Initialize the T5 model\n",
        "model2 = T5ForConditionalGeneration(config)  # Replace with your model if needed\n",
        "\n",
        "# Load the weights into the model\n",
        "model2.load_state_dict(model_weights, strict = False )\n",
        "\n",
        "# Define your training arguments\n",
        "training_args = Seq2SeqTrainingArguments(\n",
        "    output_dir='/content/drive/MyDrive/Assignment 2/Submission/results',\n",
        "    eval_strategy=\"steps\",\n",
        "    eval_steps=20,\n",
        "    per_device_train_batch_size=32,\n",
        "    per_device_eval_batch_size =32,\n",
        "    dataloader_num_workers=8,\n",
        "    num_train_epochs=3,\n",
        "    learning_rate=0.01,\n",
        "    weight_decay=0.01,\n",
        "    gradient_accumulation_steps=8,\n",
        "    predict_with_generate=True,\n",
        "    logging_dir='/content/drive/MyDrive/Assignment 2/Submission/logs',\n",
        "    logging_steps=20,\n",
        "    save_total_limit=2,\n",
        "    save_steps=20,\n",
        "    load_best_model_at_end=True,\n",
        "    greater_is_better=False,\n",
        "    report_to=\"tensorboard\",\n",
        "    generation_max_length= 256\n",
        ")\n",
        "\n",
        "# Initialize the Trainer with AdaFactor optimizer\n",
        "trainer = Seq2SeqTrainer(\n",
        "    model=model2,\n",
        "    args=training_args,\n",
        "    train_dataset=tokenized_train_dataset,\n",
        "    eval_dataset=tokenized_test_dataset,\n",
        "    optimizers=(Adafactor(model2.parameters(), lr=0.001, relative_step=False), None),\n",
        "    data_collator=data_collator,\n",
        "    compute_metrics=compute_metrics\n",
        ")\n",
        "\n",
        "# Start training\n",
        "trainer.train()"
      ]
    },
    {
      "cell_type": "code",
      "source": [],
      "metadata": {
        "id": "JWNop0VxFxXE"
      },
      "execution_count": null,
      "outputs": []
    },
    {
      "cell_type": "code",
      "source": [
        "trainer.evaluate(tokenized_validated_dataset)"
      ],
      "metadata": {
        "colab": {
          "base_uri": "https://localhost:8080/",
          "height": 172
        },
        "id": "OI96EKtC7oZa",
        "outputId": "241bebf6-2bc0-4575-8e7f-a9faf0fb64b9"
      },
      "execution_count": null,
      "outputs": [
        {
          "output_type": "display_data",
          "data": {
            "text/plain": [
              "<IPython.core.display.HTML object>"
            ],
            "text/html": [
              "\n",
              "    <div>\n",
              "      \n",
              "      <progress value='94' max='94' style='width:300px; height:20px; vertical-align: middle;'></progress>\n",
              "      [94/94 07:44]\n",
              "    </div>\n",
              "    "
            ]
          },
          "metadata": {}
        },
        {
          "output_type": "execute_result",
          "data": {
            "text/plain": [
              "{'eval_loss': 1.9622403383255005,\n",
              " 'eval_bleu': 0.0,\n",
              " 'eval_runtime': 620.5351,\n",
              " 'eval_samples_per_second': 4.831,\n",
              " 'eval_steps_per_second': 0.151,\n",
              " 'epoch': 2.976}"
            ]
          },
          "metadata": {},
          "execution_count": 10
        }
      ]
    },
    {
      "cell_type": "code",
      "source": [
        "#Translation of pretrained model after finetuning\n",
        "import torch\n",
        "for batch_index, batch in enumerate(tokenized_validated_dataset):\n",
        "    if batch_index > 10:\n",
        "        break\n",
        "    inputs = batch['input_ids']\n",
        "    inputs_tensor = torch.tensor([inputs]).to('cuda')\n",
        "    label_tensor = torch.tensor([batch['labels']]).to('cuda')\n",
        "    # Ensure model2 is in evaluation mode if necessary\n",
        "    model2.eval()\n",
        "\n",
        "    # Get model output\n",
        "    with torch.no_grad():\n",
        "        outputs = model2.generate(inputs_tensor)\n",
        "\n",
        "    # Decoding the model output (assuming outputs are logits)\n",
        "    decoded_label = tokenizer.batch_decode(label_tensor, skip_special_tokens=True)\n",
        "    decoded_sentence = tokenizer.batch_decode(outputs, skip_special_tokens=True)\n",
        "    print(f\"Decoded labels: {decoded_label}\")\n",
        "    print(f\"Decoded sentence: {decoded_sentence}\")\n"
      ],
      "metadata": {
        "colab": {
          "base_uri": "https://localhost:8080/"
        },
        "id": "8zfe4jBIEpHb",
        "outputId": "9454a1a8-844f-41e0-b358-35b249f7cbba"
      },
      "execution_count": null,
      "outputs": [
        {
          "output_type": "stream",
          "name": "stdout",
          "text": [
            "Decoded labels: ['München 1856: Vier Karten, die Ihren Blick auf die Stadt verändern']\n",
            "Decoded sentence: ['ich ich ich ich ich ich ich ich ich']\n",
            "Decoded labels: ['Eine Irren-Anstalt, wo sich heute Jugendliche begegnen sollen.']\n",
            "Decoded sentence: ['Ich ich es es es es es']\n",
            "Decoded labels: ['Eine Gruftkapelle, wo nun für den S-Bahn-Tunnel gegraben wird.']\n",
            "Decoded sentence: ['Ich ich ich ich ich es es es,']\n",
            "Decoded labels: ['Kleingärtner bewirtschaften den einstigen Grund von Bauern.']\n",
            "Decoded sentence: ['Die es es es es es es']\n",
            "Decoded labels: ['Die älteste offizielle Karte Münchens fördert spannende Geschichten zu Tage.']\n",
            "Decoded sentence: ['Ich es es es es es es']\n",
            "Decoded labels: ['Es nervt, wenn Landkarten nicht aktuell sind.']\n",
            "Decoded sentence: ['Ich ich ich ich ich ich ich ich ich ich']\n",
            "Decoded labels: ['Das kennt jeder, der sich schon mal aufregen musste, weil das Auto-Navi statt einer Umgehungsstraße eine grüne Wiese anzeigte.']\n",
            "Decoded sentence: ['Ich ich ich ich ich ich ich ich ich ich']\n",
            "Decoded labels: ['Die historischen Landkarten des digitalen Bayern-Atlases, ein Angebot des Geoportals Bayern der Staatsregierung, sind alles andere als aktuell - doch gerade deshalb sehr aufschlussreich.']\n",
            "Decoded sentence: ['Ich ich ich ich ich ich ich ich ich ich']\n",
            "Decoded labels: ['Besonders wenn man sie mit aktuellen Online-Karten vergleicht.']\n",
            "Decoded sentence: ['Ich ich ich ich ich ich ich ich ich ich']\n",
            "Decoded labels: ['Dann wird deutlich, wie sich Städte und Gemeinden im Verbreitungsgebiet des Münchner Merkur seit dem 19. Jahrhundert verändert haben.']\n",
            "Decoded sentence: ['Ich es es es es es es']\n",
            "Decoded labels: ['Der digitale Bayern-Atlas ist ein Flickenteppich, den man als solchen nicht gleich erkennt.']\n",
            "Decoded sentence: ['Ich ich ich ich ich ich ich ich ich ich']\n"
          ]
        }
      ]
    }
  ],
  "metadata": {
    "kernelspec": {
      "display_name": "Python 3",
      "name": "python3"
    },
    "language_info": {
      "codemirror_mode": {
        "name": "ipython",
        "version": 3
      },
      "file_extension": ".py",
      "mimetype": "text/x-python",
      "name": "python",
      "nbconvert_exporter": "python",
      "pygments_lexer": "ipython3",
      "version": "3.12.4"
    },
    "colab": {
      "provenance": [],
      "machine_shape": "hm"
    },
    "widgets": {
      "application/vnd.jupyter.widget-state+json": {
        "2186614e6a8441d2832e5c39137a1bf7": {
          "model_module": "@jupyter-widgets/controls",
          "model_name": "HBoxModel",
          "model_module_version": "1.5.0",
          "state": {
            "_dom_classes": [],
            "_model_module": "@jupyter-widgets/controls",
            "_model_module_version": "1.5.0",
            "_model_name": "HBoxModel",
            "_view_count": null,
            "_view_module": "@jupyter-widgets/controls",
            "_view_module_version": "1.5.0",
            "_view_name": "HBoxView",
            "box_style": "",
            "children": [
              "IPY_MODEL_04fb6fc877a54fe3b100b273011d4b9f",
              "IPY_MODEL_a3c61d7607b64f5db8642a3300944c5e",
              "IPY_MODEL_796f60fc34954a5a8f2a70ca1b52ab84"
            ],
            "layout": "IPY_MODEL_009799f1bb514c6fb590698149d8cc87"
          }
        },
        "04fb6fc877a54fe3b100b273011d4b9f": {
          "model_module": "@jupyter-widgets/controls",
          "model_name": "HTMLModel",
          "model_module_version": "1.5.0",
          "state": {
            "_dom_classes": [],
            "_model_module": "@jupyter-widgets/controls",
            "_model_module_version": "1.5.0",
            "_model_name": "HTMLModel",
            "_view_count": null,
            "_view_module": "@jupyter-widgets/controls",
            "_view_module_version": "1.5.0",
            "_view_name": "HTMLView",
            "description": "",
            "description_tooltip": null,
            "layout": "IPY_MODEL_663fc78b35c74d46a7938f8580286980",
            "placeholder": "​",
            "style": "IPY_MODEL_13f77fbccbec4133929763809aef0922",
            "value": "Map: 100%"
          }
        },
        "a3c61d7607b64f5db8642a3300944c5e": {
          "model_module": "@jupyter-widgets/controls",
          "model_name": "FloatProgressModel",
          "model_module_version": "1.5.0",
          "state": {
            "_dom_classes": [],
            "_model_module": "@jupyter-widgets/controls",
            "_model_module_version": "1.5.0",
            "_model_name": "FloatProgressModel",
            "_view_count": null,
            "_view_module": "@jupyter-widgets/controls",
            "_view_module_version": "1.5.0",
            "_view_name": "ProgressView",
            "bar_style": "success",
            "description": "",
            "description_tooltip": null,
            "layout": "IPY_MODEL_f2f2872fd79b4a44828d65197c87f0d9",
            "max": 16000,
            "min": 0,
            "orientation": "horizontal",
            "style": "IPY_MODEL_1a06071070b242f29d7807348d160316",
            "value": 16000
          }
        },
        "796f60fc34954a5a8f2a70ca1b52ab84": {
          "model_module": "@jupyter-widgets/controls",
          "model_name": "HTMLModel",
          "model_module_version": "1.5.0",
          "state": {
            "_dom_classes": [],
            "_model_module": "@jupyter-widgets/controls",
            "_model_module_version": "1.5.0",
            "_model_name": "HTMLModel",
            "_view_count": null,
            "_view_module": "@jupyter-widgets/controls",
            "_view_module_version": "1.5.0",
            "_view_name": "HTMLView",
            "description": "",
            "description_tooltip": null,
            "layout": "IPY_MODEL_032d07c00fff4b90b65ff276c0e8515b",
            "placeholder": "​",
            "style": "IPY_MODEL_de28fcdd65db435591bfaf65799d882c",
            "value": " 16000/16000 [00:08&lt;00:00, 1944.64 examples/s]"
          }
        },
        "009799f1bb514c6fb590698149d8cc87": {
          "model_module": "@jupyter-widgets/base",
          "model_name": "LayoutModel",
          "model_module_version": "1.2.0",
          "state": {
            "_model_module": "@jupyter-widgets/base",
            "_model_module_version": "1.2.0",
            "_model_name": "LayoutModel",
            "_view_count": null,
            "_view_module": "@jupyter-widgets/base",
            "_view_module_version": "1.2.0",
            "_view_name": "LayoutView",
            "align_content": null,
            "align_items": null,
            "align_self": null,
            "border": null,
            "bottom": null,
            "display": null,
            "flex": null,
            "flex_flow": null,
            "grid_area": null,
            "grid_auto_columns": null,
            "grid_auto_flow": null,
            "grid_auto_rows": null,
            "grid_column": null,
            "grid_gap": null,
            "grid_row": null,
            "grid_template_areas": null,
            "grid_template_columns": null,
            "grid_template_rows": null,
            "height": null,
            "justify_content": null,
            "justify_items": null,
            "left": null,
            "margin": null,
            "max_height": null,
            "max_width": null,
            "min_height": null,
            "min_width": null,
            "object_fit": null,
            "object_position": null,
            "order": null,
            "overflow": null,
            "overflow_x": null,
            "overflow_y": null,
            "padding": null,
            "right": null,
            "top": null,
            "visibility": null,
            "width": null
          }
        },
        "663fc78b35c74d46a7938f8580286980": {
          "model_module": "@jupyter-widgets/base",
          "model_name": "LayoutModel",
          "model_module_version": "1.2.0",
          "state": {
            "_model_module": "@jupyter-widgets/base",
            "_model_module_version": "1.2.0",
            "_model_name": "LayoutModel",
            "_view_count": null,
            "_view_module": "@jupyter-widgets/base",
            "_view_module_version": "1.2.0",
            "_view_name": "LayoutView",
            "align_content": null,
            "align_items": null,
            "align_self": null,
            "border": null,
            "bottom": null,
            "display": null,
            "flex": null,
            "flex_flow": null,
            "grid_area": null,
            "grid_auto_columns": null,
            "grid_auto_flow": null,
            "grid_auto_rows": null,
            "grid_column": null,
            "grid_gap": null,
            "grid_row": null,
            "grid_template_areas": null,
            "grid_template_columns": null,
            "grid_template_rows": null,
            "height": null,
            "justify_content": null,
            "justify_items": null,
            "left": null,
            "margin": null,
            "max_height": null,
            "max_width": null,
            "min_height": null,
            "min_width": null,
            "object_fit": null,
            "object_position": null,
            "order": null,
            "overflow": null,
            "overflow_x": null,
            "overflow_y": null,
            "padding": null,
            "right": null,
            "top": null,
            "visibility": null,
            "width": null
          }
        },
        "13f77fbccbec4133929763809aef0922": {
          "model_module": "@jupyter-widgets/controls",
          "model_name": "DescriptionStyleModel",
          "model_module_version": "1.5.0",
          "state": {
            "_model_module": "@jupyter-widgets/controls",
            "_model_module_version": "1.5.0",
            "_model_name": "DescriptionStyleModel",
            "_view_count": null,
            "_view_module": "@jupyter-widgets/base",
            "_view_module_version": "1.2.0",
            "_view_name": "StyleView",
            "description_width": ""
          }
        },
        "f2f2872fd79b4a44828d65197c87f0d9": {
          "model_module": "@jupyter-widgets/base",
          "model_name": "LayoutModel",
          "model_module_version": "1.2.0",
          "state": {
            "_model_module": "@jupyter-widgets/base",
            "_model_module_version": "1.2.0",
            "_model_name": "LayoutModel",
            "_view_count": null,
            "_view_module": "@jupyter-widgets/base",
            "_view_module_version": "1.2.0",
            "_view_name": "LayoutView",
            "align_content": null,
            "align_items": null,
            "align_self": null,
            "border": null,
            "bottom": null,
            "display": null,
            "flex": null,
            "flex_flow": null,
            "grid_area": null,
            "grid_auto_columns": null,
            "grid_auto_flow": null,
            "grid_auto_rows": null,
            "grid_column": null,
            "grid_gap": null,
            "grid_row": null,
            "grid_template_areas": null,
            "grid_template_columns": null,
            "grid_template_rows": null,
            "height": null,
            "justify_content": null,
            "justify_items": null,
            "left": null,
            "margin": null,
            "max_height": null,
            "max_width": null,
            "min_height": null,
            "min_width": null,
            "object_fit": null,
            "object_position": null,
            "order": null,
            "overflow": null,
            "overflow_x": null,
            "overflow_y": null,
            "padding": null,
            "right": null,
            "top": null,
            "visibility": null,
            "width": null
          }
        },
        "1a06071070b242f29d7807348d160316": {
          "model_module": "@jupyter-widgets/controls",
          "model_name": "ProgressStyleModel",
          "model_module_version": "1.5.0",
          "state": {
            "_model_module": "@jupyter-widgets/controls",
            "_model_module_version": "1.5.0",
            "_model_name": "ProgressStyleModel",
            "_view_count": null,
            "_view_module": "@jupyter-widgets/base",
            "_view_module_version": "1.2.0",
            "_view_name": "StyleView",
            "bar_color": null,
            "description_width": ""
          }
        },
        "032d07c00fff4b90b65ff276c0e8515b": {
          "model_module": "@jupyter-widgets/base",
          "model_name": "LayoutModel",
          "model_module_version": "1.2.0",
          "state": {
            "_model_module": "@jupyter-widgets/base",
            "_model_module_version": "1.2.0",
            "_model_name": "LayoutModel",
            "_view_count": null,
            "_view_module": "@jupyter-widgets/base",
            "_view_module_version": "1.2.0",
            "_view_name": "LayoutView",
            "align_content": null,
            "align_items": null,
            "align_self": null,
            "border": null,
            "bottom": null,
            "display": null,
            "flex": null,
            "flex_flow": null,
            "grid_area": null,
            "grid_auto_columns": null,
            "grid_auto_flow": null,
            "grid_auto_rows": null,
            "grid_column": null,
            "grid_gap": null,
            "grid_row": null,
            "grid_template_areas": null,
            "grid_template_columns": null,
            "grid_template_rows": null,
            "height": null,
            "justify_content": null,
            "justify_items": null,
            "left": null,
            "margin": null,
            "max_height": null,
            "max_width": null,
            "min_height": null,
            "min_width": null,
            "object_fit": null,
            "object_position": null,
            "order": null,
            "overflow": null,
            "overflow_x": null,
            "overflow_y": null,
            "padding": null,
            "right": null,
            "top": null,
            "visibility": null,
            "width": null
          }
        },
        "de28fcdd65db435591bfaf65799d882c": {
          "model_module": "@jupyter-widgets/controls",
          "model_name": "DescriptionStyleModel",
          "model_module_version": "1.5.0",
          "state": {
            "_model_module": "@jupyter-widgets/controls",
            "_model_module_version": "1.5.0",
            "_model_name": "DescriptionStyleModel",
            "_view_count": null,
            "_view_module": "@jupyter-widgets/base",
            "_view_module_version": "1.2.0",
            "_view_name": "StyleView",
            "description_width": ""
          }
        },
        "b843319fdf0b47fc98cc1bfc1967a99c": {
          "model_module": "@jupyter-widgets/controls",
          "model_name": "HBoxModel",
          "model_module_version": "1.5.0",
          "state": {
            "_dom_classes": [],
            "_model_module": "@jupyter-widgets/controls",
            "_model_module_version": "1.5.0",
            "_model_name": "HBoxModel",
            "_view_count": null,
            "_view_module": "@jupyter-widgets/controls",
            "_view_module_version": "1.5.0",
            "_view_name": "HBoxView",
            "box_style": "",
            "children": [
              "IPY_MODEL_2e0785bb84744d6191509443c7b775e2",
              "IPY_MODEL_649e8dd722804af9a76241bed173aed7",
              "IPY_MODEL_6cfebd8dafb647a882b3a26c5908a8da"
            ],
            "layout": "IPY_MODEL_8aecf1a5cd264917b461657a0195d857"
          }
        },
        "2e0785bb84744d6191509443c7b775e2": {
          "model_module": "@jupyter-widgets/controls",
          "model_name": "HTMLModel",
          "model_module_version": "1.5.0",
          "state": {
            "_dom_classes": [],
            "_model_module": "@jupyter-widgets/controls",
            "_model_module_version": "1.5.0",
            "_model_name": "HTMLModel",
            "_view_count": null,
            "_view_module": "@jupyter-widgets/controls",
            "_view_module_version": "1.5.0",
            "_view_name": "HTMLView",
            "description": "",
            "description_tooltip": null,
            "layout": "IPY_MODEL_3683d1afeef54d88b1427dd1c8ab61ab",
            "placeholder": "​",
            "style": "IPY_MODEL_79a1f7fc58d34fb99f73b3496ffc329c",
            "value": "Map: 100%"
          }
        },
        "649e8dd722804af9a76241bed173aed7": {
          "model_module": "@jupyter-widgets/controls",
          "model_name": "FloatProgressModel",
          "model_module_version": "1.5.0",
          "state": {
            "_dom_classes": [],
            "_model_module": "@jupyter-widgets/controls",
            "_model_module_version": "1.5.0",
            "_model_name": "FloatProgressModel",
            "_view_count": null,
            "_view_module": "@jupyter-widgets/controls",
            "_view_module_version": "1.5.0",
            "_view_name": "ProgressView",
            "bar_style": "success",
            "description": "",
            "description_tooltip": null,
            "layout": "IPY_MODEL_cd25520771f74295a87c185965d6679f",
            "max": 4000,
            "min": 0,
            "orientation": "horizontal",
            "style": "IPY_MODEL_013c0f963bdd4f3a8046671eb87f0daa",
            "value": 4000
          }
        },
        "6cfebd8dafb647a882b3a26c5908a8da": {
          "model_module": "@jupyter-widgets/controls",
          "model_name": "HTMLModel",
          "model_module_version": "1.5.0",
          "state": {
            "_dom_classes": [],
            "_model_module": "@jupyter-widgets/controls",
            "_model_module_version": "1.5.0",
            "_model_name": "HTMLModel",
            "_view_count": null,
            "_view_module": "@jupyter-widgets/controls",
            "_view_module_version": "1.5.0",
            "_view_name": "HTMLView",
            "description": "",
            "description_tooltip": null,
            "layout": "IPY_MODEL_84befab7c2be425d84fd9404303b495e",
            "placeholder": "​",
            "style": "IPY_MODEL_ca8385678f064d5e8e8ca70e0847a67e",
            "value": " 4000/4000 [00:01&lt;00:00, 2206.75 examples/s]"
          }
        },
        "8aecf1a5cd264917b461657a0195d857": {
          "model_module": "@jupyter-widgets/base",
          "model_name": "LayoutModel",
          "model_module_version": "1.2.0",
          "state": {
            "_model_module": "@jupyter-widgets/base",
            "_model_module_version": "1.2.0",
            "_model_name": "LayoutModel",
            "_view_count": null,
            "_view_module": "@jupyter-widgets/base",
            "_view_module_version": "1.2.0",
            "_view_name": "LayoutView",
            "align_content": null,
            "align_items": null,
            "align_self": null,
            "border": null,
            "bottom": null,
            "display": null,
            "flex": null,
            "flex_flow": null,
            "grid_area": null,
            "grid_auto_columns": null,
            "grid_auto_flow": null,
            "grid_auto_rows": null,
            "grid_column": null,
            "grid_gap": null,
            "grid_row": null,
            "grid_template_areas": null,
            "grid_template_columns": null,
            "grid_template_rows": null,
            "height": null,
            "justify_content": null,
            "justify_items": null,
            "left": null,
            "margin": null,
            "max_height": null,
            "max_width": null,
            "min_height": null,
            "min_width": null,
            "object_fit": null,
            "object_position": null,
            "order": null,
            "overflow": null,
            "overflow_x": null,
            "overflow_y": null,
            "padding": null,
            "right": null,
            "top": null,
            "visibility": null,
            "width": null
          }
        },
        "3683d1afeef54d88b1427dd1c8ab61ab": {
          "model_module": "@jupyter-widgets/base",
          "model_name": "LayoutModel",
          "model_module_version": "1.2.0",
          "state": {
            "_model_module": "@jupyter-widgets/base",
            "_model_module_version": "1.2.0",
            "_model_name": "LayoutModel",
            "_view_count": null,
            "_view_module": "@jupyter-widgets/base",
            "_view_module_version": "1.2.0",
            "_view_name": "LayoutView",
            "align_content": null,
            "align_items": null,
            "align_self": null,
            "border": null,
            "bottom": null,
            "display": null,
            "flex": null,
            "flex_flow": null,
            "grid_area": null,
            "grid_auto_columns": null,
            "grid_auto_flow": null,
            "grid_auto_rows": null,
            "grid_column": null,
            "grid_gap": null,
            "grid_row": null,
            "grid_template_areas": null,
            "grid_template_columns": null,
            "grid_template_rows": null,
            "height": null,
            "justify_content": null,
            "justify_items": null,
            "left": null,
            "margin": null,
            "max_height": null,
            "max_width": null,
            "min_height": null,
            "min_width": null,
            "object_fit": null,
            "object_position": null,
            "order": null,
            "overflow": null,
            "overflow_x": null,
            "overflow_y": null,
            "padding": null,
            "right": null,
            "top": null,
            "visibility": null,
            "width": null
          }
        },
        "79a1f7fc58d34fb99f73b3496ffc329c": {
          "model_module": "@jupyter-widgets/controls",
          "model_name": "DescriptionStyleModel",
          "model_module_version": "1.5.0",
          "state": {
            "_model_module": "@jupyter-widgets/controls",
            "_model_module_version": "1.5.0",
            "_model_name": "DescriptionStyleModel",
            "_view_count": null,
            "_view_module": "@jupyter-widgets/base",
            "_view_module_version": "1.2.0",
            "_view_name": "StyleView",
            "description_width": ""
          }
        },
        "cd25520771f74295a87c185965d6679f": {
          "model_module": "@jupyter-widgets/base",
          "model_name": "LayoutModel",
          "model_module_version": "1.2.0",
          "state": {
            "_model_module": "@jupyter-widgets/base",
            "_model_module_version": "1.2.0",
            "_model_name": "LayoutModel",
            "_view_count": null,
            "_view_module": "@jupyter-widgets/base",
            "_view_module_version": "1.2.0",
            "_view_name": "LayoutView",
            "align_content": null,
            "align_items": null,
            "align_self": null,
            "border": null,
            "bottom": null,
            "display": null,
            "flex": null,
            "flex_flow": null,
            "grid_area": null,
            "grid_auto_columns": null,
            "grid_auto_flow": null,
            "grid_auto_rows": null,
            "grid_column": null,
            "grid_gap": null,
            "grid_row": null,
            "grid_template_areas": null,
            "grid_template_columns": null,
            "grid_template_rows": null,
            "height": null,
            "justify_content": null,
            "justify_items": null,
            "left": null,
            "margin": null,
            "max_height": null,
            "max_width": null,
            "min_height": null,
            "min_width": null,
            "object_fit": null,
            "object_position": null,
            "order": null,
            "overflow": null,
            "overflow_x": null,
            "overflow_y": null,
            "padding": null,
            "right": null,
            "top": null,
            "visibility": null,
            "width": null
          }
        },
        "013c0f963bdd4f3a8046671eb87f0daa": {
          "model_module": "@jupyter-widgets/controls",
          "model_name": "ProgressStyleModel",
          "model_module_version": "1.5.0",
          "state": {
            "_model_module": "@jupyter-widgets/controls",
            "_model_module_version": "1.5.0",
            "_model_name": "ProgressStyleModel",
            "_view_count": null,
            "_view_module": "@jupyter-widgets/base",
            "_view_module_version": "1.2.0",
            "_view_name": "StyleView",
            "bar_color": null,
            "description_width": ""
          }
        },
        "84befab7c2be425d84fd9404303b495e": {
          "model_module": "@jupyter-widgets/base",
          "model_name": "LayoutModel",
          "model_module_version": "1.2.0",
          "state": {
            "_model_module": "@jupyter-widgets/base",
            "_model_module_version": "1.2.0",
            "_model_name": "LayoutModel",
            "_view_count": null,
            "_view_module": "@jupyter-widgets/base",
            "_view_module_version": "1.2.0",
            "_view_name": "LayoutView",
            "align_content": null,
            "align_items": null,
            "align_self": null,
            "border": null,
            "bottom": null,
            "display": null,
            "flex": null,
            "flex_flow": null,
            "grid_area": null,
            "grid_auto_columns": null,
            "grid_auto_flow": null,
            "grid_auto_rows": null,
            "grid_column": null,
            "grid_gap": null,
            "grid_row": null,
            "grid_template_areas": null,
            "grid_template_columns": null,
            "grid_template_rows": null,
            "height": null,
            "justify_content": null,
            "justify_items": null,
            "left": null,
            "margin": null,
            "max_height": null,
            "max_width": null,
            "min_height": null,
            "min_width": null,
            "object_fit": null,
            "object_position": null,
            "order": null,
            "overflow": null,
            "overflow_x": null,
            "overflow_y": null,
            "padding": null,
            "right": null,
            "top": null,
            "visibility": null,
            "width": null
          }
        },
        "ca8385678f064d5e8e8ca70e0847a67e": {
          "model_module": "@jupyter-widgets/controls",
          "model_name": "DescriptionStyleModel",
          "model_module_version": "1.5.0",
          "state": {
            "_model_module": "@jupyter-widgets/controls",
            "_model_module_version": "1.5.0",
            "_model_name": "DescriptionStyleModel",
            "_view_count": null,
            "_view_module": "@jupyter-widgets/base",
            "_view_module_version": "1.2.0",
            "_view_name": "StyleView",
            "description_width": ""
          }
        }
      }
    }
  },
  "nbformat": 4,
  "nbformat_minor": 0
}