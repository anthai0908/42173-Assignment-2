{
  "cells": [
    {
      "cell_type": "code",
      "execution_count": 1,
      "metadata": {
        "colab": {
          "base_uri": "https://localhost:8080/"
        },
        "id": "PiLmwjxZGSy_",
        "outputId": "691338dc-4c45-4900-f6d6-549755c29ed6"
      },
      "outputs": [
        {
          "output_type": "stream",
          "name": "stdout",
          "text": [
            "Requirement already satisfied: datasets in /usr/local/lib/python3.10/dist-packages (3.0.1)\n",
            "Requirement already satisfied: utils in /usr/local/lib/python3.10/dist-packages (1.0.2)\n",
            "Requirement already satisfied: neptune in /usr/local/lib/python3.10/dist-packages (1.12.0)\n",
            "Requirement already satisfied: omegaconf in /usr/local/lib/python3.10/dist-packages (2.3.0)\n",
            "Requirement already satisfied: hydra-core in /usr/local/lib/python3.10/dist-packages (1.3.2)\n",
            "Requirement already satisfied: matplotlib in /usr/local/lib/python3.10/dist-packages (3.7.1)\n",
            "Requirement already satisfied: filelock in /usr/local/lib/python3.10/dist-packages (from datasets) (3.16.1)\n",
            "Requirement already satisfied: numpy>=1.17 in /usr/local/lib/python3.10/dist-packages (from datasets) (1.26.4)\n",
            "Requirement already satisfied: pyarrow>=15.0.0 in /usr/local/lib/python3.10/dist-packages (from datasets) (16.1.0)\n",
            "Requirement already satisfied: dill<0.3.9,>=0.3.0 in /usr/local/lib/python3.10/dist-packages (from datasets) (0.3.8)\n",
            "Requirement already satisfied: pandas in /usr/local/lib/python3.10/dist-packages (from datasets) (2.2.2)\n",
            "Requirement already satisfied: requests>=2.32.2 in /usr/local/lib/python3.10/dist-packages (from datasets) (2.32.3)\n",
            "Requirement already satisfied: tqdm>=4.66.3 in /usr/local/lib/python3.10/dist-packages (from datasets) (4.66.5)\n",
            "Requirement already satisfied: xxhash in /usr/local/lib/python3.10/dist-packages (from datasets) (3.5.0)\n",
            "Requirement already satisfied: multiprocess in /usr/local/lib/python3.10/dist-packages (from datasets) (0.70.16)\n",
            "Requirement already satisfied: fsspec<=2024.6.1,>=2023.1.0 in /usr/local/lib/python3.10/dist-packages (from fsspec[http]<=2024.6.1,>=2023.1.0->datasets) (2024.6.1)\n",
            "Requirement already satisfied: aiohttp in /usr/local/lib/python3.10/dist-packages (from datasets) (3.10.10)\n",
            "Requirement already satisfied: huggingface-hub>=0.22.0 in /usr/local/lib/python3.10/dist-packages (from datasets) (0.24.7)\n",
            "Requirement already satisfied: packaging in /usr/local/lib/python3.10/dist-packages (from datasets) (24.1)\n",
            "Requirement already satisfied: pyyaml>=5.1 in /usr/local/lib/python3.10/dist-packages (from datasets) (6.0.2)\n",
            "Requirement already satisfied: GitPython>=2.0.8 in /usr/local/lib/python3.10/dist-packages (from neptune) (3.1.43)\n",
            "Requirement already satisfied: Pillow>=1.1.6 in /usr/local/lib/python3.10/dist-packages (from neptune) (10.4.0)\n",
            "Requirement already satisfied: PyJWT in /usr/local/lib/python3.10/dist-packages (from neptune) (2.9.0)\n",
            "Requirement already satisfied: boto3>=1.28.0 in /usr/local/lib/python3.10/dist-packages (from neptune) (1.35.40)\n",
            "Requirement already satisfied: bravado<12.0.0,>=11.0.0 in /usr/local/lib/python3.10/dist-packages (from neptune) (11.0.3)\n",
            "Requirement already satisfied: click>=7.0 in /usr/local/lib/python3.10/dist-packages (from neptune) (8.1.7)\n",
            "Requirement already satisfied: future>=0.17.1 in /usr/local/lib/python3.10/dist-packages (from neptune) (1.0.0)\n",
            "Requirement already satisfied: oauthlib>=2.1.0 in /usr/local/lib/python3.10/dist-packages (from neptune) (3.2.2)\n",
            "Requirement already satisfied: psutil in /usr/local/lib/python3.10/dist-packages (from neptune) (5.9.5)\n",
            "Requirement already satisfied: requests-oauthlib>=1.0.0 in /usr/local/lib/python3.10/dist-packages (from neptune) (1.3.1)\n",
            "Requirement already satisfied: six>=1.12.0 in /usr/local/lib/python3.10/dist-packages (from neptune) (1.16.0)\n",
            "Requirement already satisfied: swagger-spec-validator>=2.7.4 in /usr/local/lib/python3.10/dist-packages (from neptune) (3.0.4)\n",
            "Requirement already satisfied: typing-extensions>=3.10.0 in /usr/local/lib/python3.10/dist-packages (from neptune) (4.12.2)\n",
            "Requirement already satisfied: urllib3 in /usr/local/lib/python3.10/dist-packages (from neptune) (2.2.3)\n",
            "Requirement already satisfied: websocket-client!=1.0.0,>=0.35.0 in /usr/local/lib/python3.10/dist-packages (from neptune) (1.8.0)\n",
            "Requirement already satisfied: antlr4-python3-runtime==4.9.* in /usr/local/lib/python3.10/dist-packages (from omegaconf) (4.9.3)\n",
            "Requirement already satisfied: contourpy>=1.0.1 in /usr/local/lib/python3.10/dist-packages (from matplotlib) (1.3.0)\n",
            "Requirement already satisfied: cycler>=0.10 in /usr/local/lib/python3.10/dist-packages (from matplotlib) (0.12.1)\n",
            "Requirement already satisfied: fonttools>=4.22.0 in /usr/local/lib/python3.10/dist-packages (from matplotlib) (4.54.1)\n",
            "Requirement already satisfied: kiwisolver>=1.0.1 in /usr/local/lib/python3.10/dist-packages (from matplotlib) (1.4.7)\n",
            "Requirement already satisfied: pyparsing>=2.3.1 in /usr/local/lib/python3.10/dist-packages (from matplotlib) (3.1.4)\n",
            "Requirement already satisfied: python-dateutil>=2.7 in /usr/local/lib/python3.10/dist-packages (from matplotlib) (2.8.2)\n",
            "Requirement already satisfied: botocore<1.36.0,>=1.35.40 in /usr/local/lib/python3.10/dist-packages (from boto3>=1.28.0->neptune) (1.35.40)\n",
            "Requirement already satisfied: jmespath<2.0.0,>=0.7.1 in /usr/local/lib/python3.10/dist-packages (from boto3>=1.28.0->neptune) (1.0.1)\n",
            "Requirement already satisfied: s3transfer<0.11.0,>=0.10.0 in /usr/local/lib/python3.10/dist-packages (from boto3>=1.28.0->neptune) (0.10.3)\n",
            "Requirement already satisfied: bravado-core>=5.16.1 in /usr/local/lib/python3.10/dist-packages (from bravado<12.0.0,>=11.0.0->neptune) (6.1.1)\n",
            "Requirement already satisfied: msgpack in /usr/local/lib/python3.10/dist-packages (from bravado<12.0.0,>=11.0.0->neptune) (1.0.8)\n",
            "Requirement already satisfied: simplejson in /usr/local/lib/python3.10/dist-packages (from bravado<12.0.0,>=11.0.0->neptune) (3.19.3)\n",
            "Requirement already satisfied: monotonic in /usr/local/lib/python3.10/dist-packages (from bravado<12.0.0,>=11.0.0->neptune) (1.6)\n",
            "Requirement already satisfied: aiohappyeyeballs>=2.3.0 in /usr/local/lib/python3.10/dist-packages (from aiohttp->datasets) (2.4.3)\n",
            "Requirement already satisfied: aiosignal>=1.1.2 in /usr/local/lib/python3.10/dist-packages (from aiohttp->datasets) (1.3.1)\n",
            "Requirement already satisfied: attrs>=17.3.0 in /usr/local/lib/python3.10/dist-packages (from aiohttp->datasets) (24.2.0)\n",
            "Requirement already satisfied: frozenlist>=1.1.1 in /usr/local/lib/python3.10/dist-packages (from aiohttp->datasets) (1.4.1)\n",
            "Requirement already satisfied: multidict<7.0,>=4.5 in /usr/local/lib/python3.10/dist-packages (from aiohttp->datasets) (6.1.0)\n",
            "Requirement already satisfied: yarl<2.0,>=1.12.0 in /usr/local/lib/python3.10/dist-packages (from aiohttp->datasets) (1.14.0)\n",
            "Requirement already satisfied: async-timeout<5.0,>=4.0 in /usr/local/lib/python3.10/dist-packages (from aiohttp->datasets) (4.0.3)\n",
            "Requirement already satisfied: gitdb<5,>=4.0.1 in /usr/local/lib/python3.10/dist-packages (from GitPython>=2.0.8->neptune) (4.0.11)\n",
            "Requirement already satisfied: charset-normalizer<4,>=2 in /usr/local/lib/python3.10/dist-packages (from requests>=2.32.2->datasets) (3.4.0)\n",
            "Requirement already satisfied: idna<4,>=2.5 in /usr/local/lib/python3.10/dist-packages (from requests>=2.32.2->datasets) (3.10)\n",
            "Requirement already satisfied: certifi>=2017.4.17 in /usr/local/lib/python3.10/dist-packages (from requests>=2.32.2->datasets) (2024.8.30)\n",
            "Requirement already satisfied: jsonschema in /usr/local/lib/python3.10/dist-packages (from swagger-spec-validator>=2.7.4->neptune) (4.23.0)\n",
            "Requirement already satisfied: importlib-resources>=1.3 in /usr/local/lib/python3.10/dist-packages (from swagger-spec-validator>=2.7.4->neptune) (6.4.5)\n",
            "Requirement already satisfied: pytz>=2020.1 in /usr/local/lib/python3.10/dist-packages (from pandas->datasets) (2024.2)\n",
            "Requirement already satisfied: tzdata>=2022.7 in /usr/local/lib/python3.10/dist-packages (from pandas->datasets) (2024.2)\n",
            "Requirement already satisfied: jsonref in /usr/local/lib/python3.10/dist-packages (from bravado-core>=5.16.1->bravado<12.0.0,>=11.0.0->neptune) (1.1.0)\n",
            "Requirement already satisfied: smmap<6,>=3.0.1 in /usr/local/lib/python3.10/dist-packages (from gitdb<5,>=4.0.1->GitPython>=2.0.8->neptune) (5.0.1)\n",
            "Requirement already satisfied: jsonschema-specifications>=2023.03.6 in /usr/local/lib/python3.10/dist-packages (from jsonschema->swagger-spec-validator>=2.7.4->neptune) (2024.10.1)\n",
            "Requirement already satisfied: referencing>=0.28.4 in /usr/local/lib/python3.10/dist-packages (from jsonschema->swagger-spec-validator>=2.7.4->neptune) (0.35.1)\n",
            "Requirement already satisfied: rpds-py>=0.7.1 in /usr/local/lib/python3.10/dist-packages (from jsonschema->swagger-spec-validator>=2.7.4->neptune) (0.20.0)\n",
            "Requirement already satisfied: propcache>=0.2.0 in /usr/local/lib/python3.10/dist-packages (from yarl<2.0,>=1.12.0->aiohttp->datasets) (0.2.0)\n",
            "Requirement already satisfied: fqdn in /usr/local/lib/python3.10/dist-packages (from jsonschema[format-nongpl]>=2.5.1->bravado-core>=5.16.1->bravado<12.0.0,>=11.0.0->neptune) (1.5.1)\n",
            "Requirement already satisfied: isoduration in /usr/local/lib/python3.10/dist-packages (from jsonschema[format-nongpl]>=2.5.1->bravado-core>=5.16.1->bravado<12.0.0,>=11.0.0->neptune) (20.11.0)\n",
            "Requirement already satisfied: jsonpointer>1.13 in /usr/local/lib/python3.10/dist-packages (from jsonschema[format-nongpl]>=2.5.1->bravado-core>=5.16.1->bravado<12.0.0,>=11.0.0->neptune) (3.0.0)\n",
            "Requirement already satisfied: rfc3339-validator in /usr/local/lib/python3.10/dist-packages (from jsonschema[format-nongpl]>=2.5.1->bravado-core>=5.16.1->bravado<12.0.0,>=11.0.0->neptune) (0.1.4)\n",
            "Requirement already satisfied: rfc3986-validator>0.1.0 in /usr/local/lib/python3.10/dist-packages (from jsonschema[format-nongpl]>=2.5.1->bravado-core>=5.16.1->bravado<12.0.0,>=11.0.0->neptune) (0.1.1)\n",
            "Requirement already satisfied: uri-template in /usr/local/lib/python3.10/dist-packages (from jsonschema[format-nongpl]>=2.5.1->bravado-core>=5.16.1->bravado<12.0.0,>=11.0.0->neptune) (1.3.0)\n",
            "Requirement already satisfied: webcolors>=24.6.0 in /usr/local/lib/python3.10/dist-packages (from jsonschema[format-nongpl]>=2.5.1->bravado-core>=5.16.1->bravado<12.0.0,>=11.0.0->neptune) (24.8.0)\n",
            "Requirement already satisfied: arrow>=0.15.0 in /usr/local/lib/python3.10/dist-packages (from isoduration->jsonschema[format-nongpl]>=2.5.1->bravado-core>=5.16.1->bravado<12.0.0,>=11.0.0->neptune) (1.3.0)\n",
            "Requirement already satisfied: types-python-dateutil>=2.8.10 in /usr/local/lib/python3.10/dist-packages (from arrow>=0.15.0->isoduration->jsonschema[format-nongpl]>=2.5.1->bravado-core>=5.16.1->bravado<12.0.0,>=11.0.0->neptune) (2.9.0.20241003)\n"
          ]
        }
      ],
      "source": [
        "pip install datasets utils neptune omegaconf hydra-core matplotlib"
      ]
    },
    {
      "cell_type": "code",
      "execution_count": 4,
      "metadata": {
        "id": "dtYjsBduJ56N"
      },
      "outputs": [],
      "source": [
        "import numpy as np\n",
        "from datasets.iterable_dataset import IterableDataset\n",
        "from torch.utils.data import DataLoader\n",
        "from dataclasses import dataclass\n",
        "from transformers import T5Tokenizer, BatchEncoding\n",
        "from typing import List, Dict\n",
        "import torch\n",
        "import datasets\n",
        "from transformers import Adafactor\n",
        "import math\n",
        "from torch.optim.lr_scheduler import (\n",
        "            SequentialLR,\n",
        "            LinearLR,\n",
        "            LambdaLR,\n",
        "        )\n",
        "from collections import defaultdict\n",
        "\n",
        "from accelerate.logging import get_logger\n",
        "from omegaconf import OmegaConf, open_dict\n",
        "import logging\n",
        "import datasets\n",
        "import transformers\n",
        "import neptune\n",
        "import os\n",
        "import time\n",
        "import matplotlib.pyplot as plt\n",
        "from tqdm import tqdm\n",
        "def compute_input_and_target_lengths(inputs_length = 512, noise_density = 0.15, mean_noise_span_length =3):\n",
        "    \"\"\"This function is copy of `random_spans_helper <https://github.com/google-research/text-to-text-transfer-transformer/blob/84f8bcc14b5f2c03de51bd3587609ba8f6bbd1cd/t5/data/preprocessors.py#L2466>`__ .\n",
        "\n",
        "    [Copied from https://github.com/huggingface/transformers/blob/main/examples/flax/language-modeling/run_t5_mlm_flax.py]\n",
        "    Training parameters to avoid padding with random_spans_noise_mask.\n",
        "    When training a model with random_spans_noise_mask, we would like to set the other\n",
        "    training hyperparmeters in a way that avoids padding.\n",
        "    This function helps us compute these hyperparameters.\n",
        "    We assume that each noise span in the input is replaced by extra_tokens_per_span_inputs sentinel tokens,\n",
        "    and each non-noise span in the targets is replaced by extra_tokens_per_span_targets sentinel tokens.\n",
        "    This function tells us the required number of tokens in the raw example (for split_tokens())\n",
        "    as well as the length of the encoded targets. Note that this function assumes\n",
        "    the inputs and targets will have EOS appended and includes that in the reported length.\n",
        "\n",
        "    Args:\n",
        "        inputs_length: an integer - desired length of the tokenized inputs sequence\n",
        "        noise_density: a float\n",
        "        mean_noise_span_length: a float\n",
        "    Returns:\n",
        "        tokens_length: length of original text in tokens\n",
        "        targets_length: an integer - length in tokens of encoded targets sequence\n",
        "    \"\"\"\n",
        "\n",
        "    def _tokens_length_to_inputs_length_targets_length(tokens_length):\n",
        "        num_noise_tokens = int(round(tokens_length * noise_density))\n",
        "        num_nonnoise_tokens = tokens_length - num_noise_tokens\n",
        "        num_noise_spans = int(round(num_noise_tokens / mean_noise_span_length))\n",
        "        # inputs contain all nonnoise tokens, sentinels for all noise spans\n",
        "        # and one EOS token.\n",
        "        _input_length = num_nonnoise_tokens + num_noise_spans + 1\n",
        "        _output_length = num_noise_tokens + num_noise_spans + 1\n",
        "        return _input_length, _output_length\n",
        "\n",
        "    tokens_length = inputs_length\n",
        "\n",
        "    while _tokens_length_to_inputs_length_targets_length(tokens_length + 1)[0] <= inputs_length:\n",
        "        tokens_length += 1\n",
        "\n",
        "    inputs_length, targets_length = _tokens_length_to_inputs_length_targets_length(tokens_length)\n",
        "\n",
        "    # minor hack to get the targets length to be equal to inputs length\n",
        "    # which is more likely to have been set to a nice round number.\n",
        "    if noise_density == 0.5 and targets_length > inputs_length:\n",
        "        tokens_length -= 1\n",
        "        targets_length -= 1\n",
        "    return tokens_length, targets_length\n",
        "\n",
        "\n",
        "def tokenize_function(examples, tokenizer, in_length):\n",
        "    tokenizer_out = tokenizer(\n",
        "        text=examples[\"text\"],\n",
        "        return_attention_mask=False,\n",
        "    )\n",
        "\n",
        "    input_ids = tokenizer_out[\"input_ids\"]\n",
        "\n",
        "    concatenated_ids = np.concatenate(input_ids)\n",
        "\n",
        "    total_length = concatenated_ids.shape[0]\n",
        "    total_length = (total_length // in_length) * in_length\n",
        "\n",
        "    concatenated_ids = concatenated_ids[:total_length].reshape(-1, in_length)\n",
        "    result = {\"input_ids\": concatenated_ids}\n",
        "\n",
        "    return result\n",
        "\n",
        "def process_dataset(dataset_splits, tokenizer):\n",
        "\n",
        "    final_datasets = {}\n",
        "    for split, dataset_split in dataset_splits.items():\n",
        "        # We increase the input_length, because instead of masking tokens T5 replaces\n",
        "        # masked spans with a single token, therefore to avoid padding we need to have\n",
        "        # longer sequences at the start, before masking\n",
        "        before_mask_input_length, _ = compute_input_and_target_lengths(\n",
        "            inputs_length=512,\n",
        "            noise_density=0.15,\n",
        "            mean_noise_span_length=3,\n",
        "        )\n",
        "        dataset_split = dataset_split.map(\n",
        "            tokenize_function,\n",
        "            batch_size =10000,\n",
        "            batched=True,\n",
        "            fn_kwargs={\n",
        "                'tokenizer': tokenizer,\n",
        "                'in_length': before_mask_input_length,\n",
        "            },\n",
        "            remove_columns=['text'],\n",
        "            writer_batch_size = 10000\n",
        "        )\n",
        "        dataset_split = dataset_split.to_iterable_dataset(num_shards = 128)\n",
        "\n",
        "        dataset_split = dataset_split.shuffle(buffer_size=100_000, seed=43)\n",
        "        final_datasets[split] = dataset_split\n",
        "\n",
        "    return final_datasets\n",
        "\n",
        "def get_data_collator(tokenizer):\n",
        "\n",
        "    data_collator = DataCollatorForT5MLM(\n",
        "        tokenizer=tokenizer,\n",
        "        noise_density=0.15,\n",
        "        mean_noise_span_length = 3,\n",
        "        input_length=512,\n",
        "        target_length=114,\n",
        "        pad_token_id=0,\n",
        "    )\n",
        "\n",
        "\n",
        "    return data_collator\n",
        "\n",
        "def get_dataloaders(tokenizer, data_splits):\n",
        "\n",
        "    dataset = process_dataset(dataset_splits=data_splits, tokenizer=tokenizer)\n",
        "    data_collator = get_data_collator(tokenizer=tokenizer)\n",
        "\n",
        "    is_iterable = isinstance(dataset['train'], IterableDataset)\n",
        "\n",
        "    dataloaders = {}\n",
        "\n",
        "    for split in ['train', 'test']:\n",
        "        batch_size = 16\n",
        "\n",
        "        shuffle = (split == 'train') and not is_iterable\n",
        "\n",
        "\n",
        "        dataloaders[split] = DataLoader(\n",
        "            dataset[split],\n",
        "            shuffle=shuffle,\n",
        "            collate_fn=data_collator,\n",
        "            batch_size=batch_size,\n",
        "            pin_memory=True,\n",
        "            num_workers=16,\n",
        "            drop_last=False\n",
        "        )\n",
        "\n",
        "\n",
        "\n",
        "    return dataloaders['train'], dataloaders['test']\n",
        "\n",
        "@dataclass\n",
        "class DataCollatorForT5MLM:\n",
        "    \"\"\"\n",
        "    [Copied from https://github.com/huggingface/transformers/blob/main/examples/flax/language-modeling/run_t5_mlm_flax.py]\n",
        "    Data collator used for T5 span-masked language modeling.\n",
        "    It is made sure that after masking the inputs are of length `data_args.max_seq_length` and targets are also of fixed length.\n",
        "    For more information on how T5 span-masked language modeling works, one can take a look\n",
        "    at the `official paper <https://arxiv.org/pdf/1910.10683.pdf>`__\n",
        "    or the `official code for preprocessing <https://github.com/google-research/text-to-text-transfer-transformer/blob/master/t5/data/preprocessors.py>`__ .\n",
        "    Args:\n",
        "        tokenizer (:class:`~transformers.PreTrainedTokenizer` or :class:`~transformers.PreTrainedTokenizerFast`):\n",
        "            The tokenizer used for encoding the data.\n",
        "        noise_density (:obj:`float`):\n",
        "            The probability with which to (randomly) mask tokens in the input.\n",
        "        mean_noise_span_length (:obj:`float`):\n",
        "            The average span length of the masked tokens.\n",
        "        input_length (:obj:`int`):\n",
        "            The expected input length after masking.\n",
        "        target_length (:obj:`int`):\n",
        "            The expected target length after masking.\n",
        "        pad_token_id: (:obj:`int`):\n",
        "            The pad token id of the model\n",
        "        decoder_start_token_id: (:obj:`int):\n",
        "            The decoder start token id of the model\n",
        "    \"\"\"\n",
        "    def __init__(self, tokenizer: T5Tokenizer,\n",
        "                 noise_density: float,\n",
        "                 mean_noise_span_length: float,\n",
        "                 input_length: int,\n",
        "                 target_length: int,\n",
        "                 pad_token_id: int):\n",
        "        self.tokenizer = tokenizer\n",
        "        self.noise_density = noise_density\n",
        "        self.mean_noise_span_length = mean_noise_span_length\n",
        "        self.input_length = input_length\n",
        "        self.target_length = target_length\n",
        "        self.pad_token_id = pad_token_id\n",
        "\n",
        "    def __call__(self, examples: List[Dict[str, np.ndarray]]) -> BatchEncoding:\n",
        "        # convert list to dict and tensorize input\n",
        "        batch = BatchEncoding(\n",
        "            {\n",
        "                k: np.array([examples[i][k] for i in range(len(examples))])\n",
        "                for k, v in examples[0].items()\n",
        "            }\n",
        "        )\n",
        "\n",
        "        input_ids = batch[\"input_ids\"]\n",
        "        batch_size, expandend_input_length = input_ids.shape\n",
        "\n",
        "        mask_indices = np.asarray(\n",
        "            [\n",
        "                self.random_spans_noise_mask(expandend_input_length)\n",
        "                for i in range(batch_size)\n",
        "            ]\n",
        "        )\n",
        "        labels_mask = ~mask_indices\n",
        "\n",
        "        input_ids_sentinel = self.create_sentinel_ids(mask_indices.astype(np.int8))\n",
        "        labels_sentinel = self.create_sentinel_ids(labels_mask.astype(np.int8))\n",
        "\n",
        "        batch[\"input_ids\"] = self.filter_input_ids(input_ids, input_ids_sentinel)\n",
        "        batch[\"labels\"] = self.filter_input_ids(input_ids, labels_sentinel)\n",
        "\n",
        "        if batch[\"input_ids\"].shape[-1] != self.input_length:\n",
        "            raise ValueError(\n",
        "                f\"`input_ids` are incorrectly preprocessed. `input_ids` length is {batch['input_ids'].shape[-1]}, but\"\n",
        "                f\" should be {self.input_length}.\"\n",
        "            )\n",
        "\n",
        "        if batch[\"labels\"].shape[-1] != self.target_length:\n",
        "            raise ValueError(\n",
        "                f\"`labels` are incorrectly preprocessed. `labels` length is {batch['labels'].shape[-1]}, but should be\"\n",
        "                f\" {self.target_length}.\"\n",
        "            )\n",
        "\n",
        "        batch = {k: torch.from_numpy(v) for k, v in batch.items()}\n",
        "        return batch\n",
        "\n",
        "    def create_sentinel_ids(self, mask_indices):\n",
        "        \"\"\"\n",
        "        Sentinel ids creation given the indices that should be masked.\n",
        "        The start indices of each mask are replaced by the sentinel ids in increasing\n",
        "        order. Consecutive mask indices to be deleted are replaced with `-1`.\n",
        "        \"\"\"\n",
        "        start_indices = mask_indices - np.roll(mask_indices, 1, axis=-1) * mask_indices\n",
        "        start_indices[:, 0] = mask_indices[:, 0]\n",
        "\n",
        "        sentinel_ids = np.where(\n",
        "            start_indices != 0, np.cumsum(start_indices, axis=-1), start_indices\n",
        "        )\n",
        "        sentinel_ids = np.where(\n",
        "            sentinel_ids != 0, (len(self.tokenizer) - sentinel_ids), 0\n",
        "        )\n",
        "        sentinel_ids -= mask_indices - start_indices\n",
        "\n",
        "        return sentinel_ids\n",
        "\n",
        "    def filter_input_ids(self, input_ids, sentinel_ids):\n",
        "        \"\"\"\n",
        "        Puts sentinel mask on `input_ids` and fuse consecutive mask tokens into a single mask token by deleting.\n",
        "        This will reduce the sequence length from `expanded_inputs_length` to `input_length`.\n",
        "        \"\"\"\n",
        "        batch_size = input_ids.shape[0]\n",
        "\n",
        "        input_ids_full = np.where(sentinel_ids != 0, sentinel_ids, input_ids)\n",
        "        # input_ids tokens and sentinel tokens are >= 0, tokens < 0 are\n",
        "        # masked tokens coming after sentinel tokens and should be removed\n",
        "        input_ids = input_ids_full[input_ids_full >= 0].reshape((batch_size, -1))\n",
        "        input_ids = np.concatenate(\n",
        "            [\n",
        "                input_ids,\n",
        "                np.full((batch_size, 1), self.tokenizer.eos_token_id, dtype=np.int32),\n",
        "            ],\n",
        "            axis=-1,\n",
        "        )\n",
        "        return input_ids\n",
        "\n",
        "    def random_spans_noise_mask(self, length):\n",
        "        \"\"\"This function is copy of `random_spans_helper <https://github.com/google-research/text-to-text-transfer-transformer/blob/84f8bcc14b5f2c03de51bd3587609ba8f6bbd1cd/t5/data/preprocessors.py#L2682>`__ .\n",
        "\n",
        "        Noise mask consisting of random spans of noise tokens.\n",
        "        The number of noise tokens and the number of noise spans and non-noise spans\n",
        "        are determined deterministically as follows:\n",
        "        num_noise_tokens = round(length * noise_density)\n",
        "        num_nonnoise_spans = num_noise_spans = round(num_noise_tokens / mean_noise_span_length)\n",
        "        Spans alternate between non-noise and noise, beginning with non-noise.\n",
        "        Subject to the above restrictions, all masks are equally likely.\n",
        "\n",
        "        Args:\n",
        "            length: an int32 scalar (length of the incoming token sequence)\n",
        "            noise_density: a float - approximate density of output mask\n",
        "            mean_noise_span_length: a number\n",
        "\n",
        "        Returns:\n",
        "            a boolean tensor with shape [length]\n",
        "        \"\"\"\n",
        "\n",
        "        orig_length = length\n",
        "        num_noise_tokens = int(np.round(length * self.noise_density))\n",
        "        # avoid degeneracy by ensuring positive numbers of noise and nonnoise tokens.\n",
        "        num_noise_tokens = min(max(num_noise_tokens, 1), length - 1)\n",
        "        num_noise_spans = int(np.round(num_noise_tokens / self.mean_noise_span_length))\n",
        "\n",
        "        # avoid degeneracy by ensuring positive number of noise spans\n",
        "        num_noise_spans = max(num_noise_spans, 1)\n",
        "        num_nonnoise_tokens = length - num_noise_tokens\n",
        "\n",
        "        # pick the lengths of the noise spans and the non-noise spans\n",
        "        def _random_segmentation(num_items, num_segments):\n",
        "            \"\"\"Partition a sequence of items randomly into non-empty segments.\n",
        "            Args:\n",
        "                num_items: an integer scalar > 0\n",
        "                num_segments: an integer scalar in [1, num_items]\n",
        "            Returns:\n",
        "                a Tensor with shape [num_segments] containing positive integers that add\n",
        "                up to num_items\n",
        "            \"\"\"\n",
        "            mask_indices = np.arange(num_items - 1) < (num_segments - 1)\n",
        "            np.random.shuffle(mask_indices)\n",
        "            first_in_segment = np.pad(mask_indices, [[1, 0]])\n",
        "            segment_id = np.cumsum(first_in_segment)\n",
        "            # count length of sub segments assuming that list is sorted\n",
        "            _, segment_length = np.unique(segment_id, return_counts=True)\n",
        "            return segment_length\n",
        "\n",
        "        noise_span_lengths = _random_segmentation(num_noise_tokens, num_noise_spans)\n",
        "        nonnoise_span_lengths = _random_segmentation(\n",
        "            num_nonnoise_tokens, num_noise_spans\n",
        "        )\n",
        "\n",
        "        interleaved_span_lengths = np.reshape(\n",
        "            np.stack([nonnoise_span_lengths, noise_span_lengths], axis=1),\n",
        "            [num_noise_spans * 2],\n",
        "        )\n",
        "        span_starts = np.cumsum(interleaved_span_lengths)[:-1]\n",
        "        span_start_indicator = np.zeros((length,), dtype=np.int8)\n",
        "        span_start_indicator[span_starts] = True\n",
        "        span_num = np.cumsum(span_start_indicator)\n",
        "        is_noise = np.equal(span_num % 2, 1)\n",
        "\n",
        "        return is_noise[:orig_length]\n",
        "\n",
        "def get_optimizer(model):\n",
        "    no_decay = [\"bias\", \"LayerNorm\", \"layernorm\", \"layer_norm\", \"ln\"]\n",
        "\n",
        "    optimizer_grouped_parameters = [\n",
        "        {\n",
        "            \"params\": [p for n, p in model.named_parameters() if not any(nd in n for nd in no_decay)],\n",
        "            \"weight_decay\": 0.01,  # Add a non-zero weight decay for parameters that need it\n",
        "        },\n",
        "        {\n",
        "            \"params\": [p for n, p in model.named_parameters() if any(nd in n for nd in no_decay)],\n",
        "            \"weight_decay\": 0.0,  # No weight decay for LayerNorm and bias\n",
        "        },\n",
        "    ]\n",
        "\n",
        "    optimizer = Adafactor(\n",
        "            optimizer_grouped_parameters,\n",
        "            lr=2e-2,\n",
        "            relative_step=False,\n",
        "        )\n",
        "\n",
        "    return optimizer\n",
        "\n",
        "def train(model, train_dataloader, test_dataloader, accelerator, lr_scheduler,\n",
        "          optimizer, total_train_step):\n",
        "    model.train()\n",
        "    current_train_step = 0\n",
        "    batch_num = 0\n",
        "    training_loss = []\n",
        "    test_loss = []\n",
        "    while current_train_step < total_train_step:\n",
        "        print(f\"Beginning epoch: {current_train_step + 1}\")\n",
        "        optimizer.zero_grad(set_to_none=True)\n",
        "\n",
        "        for batch_id, batch in enumerate(train_dataloader, start=1):\n",
        "            loss = forward(model, batch)\n",
        "            accelerator.backward(loss)\n",
        "\n",
        "            if batch_id % 50 == 0:\n",
        "                optimizer.step()\n",
        "                lr_scheduler.step()\n",
        "                optimizer.zero_grad(set_to_none=True)\n",
        "            if (batch_id + batch_num*current_train_step) % 100 ==0:\n",
        "                maybe_save_checkpoint(accelerator, (batch_id + batch_num*current_train_step))\n",
        "                print(f\"The train loss after {(batch_id + batch_num*current_train_step)} batches is: {loss.item()}\")\n",
        "                training_loss.append(loss.item())\n",
        "        test_avg_loss = maybe_eval_predict(model, test_dataloader)\n",
        "        test_loss.append(test_avg_loss)\n",
        "        print(f\"Average test loss after epoch {current_train_step+1}: {test_avg_loss} \\n\")\n",
        "        batch_num = batch_id\n",
        "        current_train_step += 1\n",
        "    return training_loss, test_loss\n",
        "\n",
        "def maybe_eval_predict(model, dataloader):\n",
        "    total_loss = 0\n",
        "    num_batches = 0\n",
        "    model.eval()  # Set the model to evaluation mode\n",
        "    with torch.no_grad():\n",
        "        for batch in dataloader:\n",
        "            loss = forward(model, batch)\n",
        "            total_loss += loss.item()  # Accumulate loss\n",
        "            num_batches += 1\n",
        "    avg_loss = total_loss / num_batches if num_batches > 0 else float('inf')  # Calculate average loss\n",
        "    model.train()  # Switch back to training mode\n",
        "    return avg_loss\n",
        "\n",
        "def forward(model, batch):\n",
        "    outputs = model(**batch)\n",
        "    loss = outputs.loss\n",
        "    return loss\n",
        "\n",
        "\n",
        "def maybe_save_checkpoint(accelerator, batch_id):\n",
        "    output_dir = f'./checkpoints/checkpoint-{batch_id}'\n",
        "    accelerator.save_state(output_dir=output_dir)\n",
        "\n",
        "\n",
        "def get_lr_scheduler(optimizer):\n",
        "    num_steps_optimizer1 = math.ceil(20_000 * 0.9)\n",
        "    iters_left_for_optimizer2 = 20_000 - num_steps_optimizer1\n",
        "    scheduler1 = LambdaLR(\n",
        "        optimizer,\n",
        "        lambda step: min(\n",
        "            1e-2, 1.0 / math.sqrt(step)\n",
        "        ) / 2e-2 if step else 1e-2 / 2e-2\n",
        "    )\n",
        "    scheduler2 = LinearLR(\n",
        "        optimizer,\n",
        "        start_factor=(\n",
        "            min(1e-2, 1.0 / math.sqrt(num_steps_optimizer1)) / 2e-2\n",
        "        ),\n",
        "        end_factor=0,\n",
        "        total_iters=iters_left_for_optimizer2,\n",
        "        last_epoch=-1,\n",
        "    )\n",
        "    lr_scheduler = SequentialLR(\n",
        "        optimizer,\n",
        "        schedulers=[scheduler1, scheduler2],\n",
        "        milestones=[num_steps_optimizer1]\n",
        "    )\n",
        "\n",
        "    return lr_scheduler\n",
        "\n",
        "\n",
        "\n",
        "\n"
      ]
    },
    {
      "cell_type": "code",
      "execution_count": null,
      "metadata": {
        "id": "fjAW5-Qj4vTe"
      },
      "outputs": [],
      "source": [
        "import transformers\n",
        "from transformers import T5ForConditionalGeneration, T5Config, T5ForConditionalGeneration, T5Tokenizer, Trainer, TrainingArguments, Seq2SeqTrainer, Seq2SeqTrainingArguments\n",
        "from datasets import load_dataset, IterableDataset\n",
        "import torch\n",
        "from accelerate import Accelerator\n",
        "import sys\n",
        "# Add the directory containing your utils.py file to the Python path\n",
        "\n",
        "import tensorboard"
      ]
    },
    {
      "cell_type": "code",
      "execution_count": 5,
      "metadata": {
        "colab": {
          "base_uri": "https://localhost:8080/",
          "height": 370
        },
        "id": "e3pXfAn84zPJ",
        "outputId": "4ef1d896-59a3-4df6-d1b0-e76ce0d0db25"
      },
      "outputs": [
        {
          "output_type": "error",
          "ename": "ValueError",
          "evalue": "mount failed",
          "traceback": [
            "\u001b[0;31m---------------------------------------------------------------------------\u001b[0m",
            "\u001b[0;31mValueError\u001b[0m                                Traceback (most recent call last)",
            "\u001b[0;32m<ipython-input-5-d5df0069828e>\u001b[0m in \u001b[0;36m<cell line: 2>\u001b[0;34m()\u001b[0m\n\u001b[1;32m      1\u001b[0m \u001b[0;32mfrom\u001b[0m \u001b[0mgoogle\u001b[0m\u001b[0;34m.\u001b[0m\u001b[0mcolab\u001b[0m \u001b[0;32mimport\u001b[0m \u001b[0mdrive\u001b[0m\u001b[0;34m\u001b[0m\u001b[0;34m\u001b[0m\u001b[0m\n\u001b[0;32m----> 2\u001b[0;31m \u001b[0mdrive\u001b[0m\u001b[0;34m.\u001b[0m\u001b[0mmount\u001b[0m\u001b[0;34m(\u001b[0m\u001b[0;34m'/content/drive'\u001b[0m\u001b[0;34m)\u001b[0m\u001b[0;34m\u001b[0m\u001b[0;34m\u001b[0m\u001b[0m\n\u001b[0m",
            "\u001b[0;32m/usr/local/lib/python3.10/dist-packages/google/colab/drive.py\u001b[0m in \u001b[0;36mmount\u001b[0;34m(mountpoint, force_remount, timeout_ms, readonly)\u001b[0m\n\u001b[1;32m     98\u001b[0m \u001b[0;32mdef\u001b[0m \u001b[0mmount\u001b[0m\u001b[0;34m(\u001b[0m\u001b[0mmountpoint\u001b[0m\u001b[0;34m,\u001b[0m \u001b[0mforce_remount\u001b[0m\u001b[0;34m=\u001b[0m\u001b[0;32mFalse\u001b[0m\u001b[0;34m,\u001b[0m \u001b[0mtimeout_ms\u001b[0m\u001b[0;34m=\u001b[0m\u001b[0;36m120000\u001b[0m\u001b[0;34m,\u001b[0m \u001b[0mreadonly\u001b[0m\u001b[0;34m=\u001b[0m\u001b[0;32mFalse\u001b[0m\u001b[0;34m)\u001b[0m\u001b[0;34m:\u001b[0m\u001b[0;34m\u001b[0m\u001b[0;34m\u001b[0m\u001b[0m\n\u001b[1;32m     99\u001b[0m   \u001b[0;34m\"\"\"Mount your Google Drive at the specified mountpoint path.\"\"\"\u001b[0m\u001b[0;34m\u001b[0m\u001b[0;34m\u001b[0m\u001b[0m\n\u001b[0;32m--> 100\u001b[0;31m   return _mount(\n\u001b[0m\u001b[1;32m    101\u001b[0m       \u001b[0mmountpoint\u001b[0m\u001b[0;34m,\u001b[0m\u001b[0;34m\u001b[0m\u001b[0;34m\u001b[0m\u001b[0m\n\u001b[1;32m    102\u001b[0m       \u001b[0mforce_remount\u001b[0m\u001b[0;34m=\u001b[0m\u001b[0mforce_remount\u001b[0m\u001b[0;34m,\u001b[0m\u001b[0;34m\u001b[0m\u001b[0;34m\u001b[0m\u001b[0m\n",
            "\u001b[0;32m/usr/local/lib/python3.10/dist-packages/google/colab/drive.py\u001b[0m in \u001b[0;36m_mount\u001b[0;34m(mountpoint, force_remount, timeout_ms, ephemeral, readonly)\u001b[0m\n\u001b[1;32m    275\u001b[0m             \u001b[0;34m'https://research.google.com/colaboratory/faq.html#drive-timeout'\u001b[0m\u001b[0;34m\u001b[0m\u001b[0;34m\u001b[0m\u001b[0m\n\u001b[1;32m    276\u001b[0m         )\n\u001b[0;32m--> 277\u001b[0;31m       \u001b[0;32mraise\u001b[0m \u001b[0mValueError\u001b[0m\u001b[0;34m(\u001b[0m\u001b[0;34m'mount failed'\u001b[0m \u001b[0;34m+\u001b[0m \u001b[0mextra_reason\u001b[0m\u001b[0;34m)\u001b[0m\u001b[0;34m\u001b[0m\u001b[0;34m\u001b[0m\u001b[0m\n\u001b[0m\u001b[1;32m    278\u001b[0m     \u001b[0;32melif\u001b[0m \u001b[0mcase\u001b[0m \u001b[0;34m==\u001b[0m \u001b[0;36m4\u001b[0m\u001b[0;34m:\u001b[0m\u001b[0;34m\u001b[0m\u001b[0;34m\u001b[0m\u001b[0m\n\u001b[1;32m    279\u001b[0m       \u001b[0;31m# Terminate the DriveFS binary before killing bash.\u001b[0m\u001b[0;34m\u001b[0m\u001b[0;34m\u001b[0m\u001b[0m\n",
            "\u001b[0;31mValueError\u001b[0m: mount failed"
          ]
        }
      ],
      "source": [
        "from google.colab import drive\n",
        "drive.mount('/content/drive')"
      ]
    },
    {
      "cell_type": "code",
      "execution_count": null,
      "metadata": {
        "colab": {
          "base_uri": "https://localhost:8080/",
          "height": 428,
          "referenced_widgets": [
            "f90d54352a634f7a92f55f6f874e07a5",
            "44878b86271241ec8343b1a46b57ca3d",
            "bde8cf4dd9904842b3767dc1a89a743b",
            "e0ca53f21ebc4a5b99e227f753a6a3c5",
            "97faa8b692334dabbe3ef78e16efdbfa",
            "1ed038d56cb345a588db73f7ee72ec12",
            "f001ca03b1214afcadd1b993bb9539cb",
            "0642667f9a7c45cabe8bb4c97e950b41",
            "c7edc77916474228a5de800da8fa4fb1",
            "3b5d329bcb134f46a1e2e22a729fe9d1",
            "c7c2c1ea8edc42219e260e3918f7dd80",
            "ae76e2c3dfca4e85b29773febcbd1601",
            "9a8add02bbdb4348b8cf8b9cd43a6c3e",
            "56a8485e838c4823b94c82c3617c5be9",
            "744522ea479342c780d0e2595f556f0e",
            "4380b99db8d84377b578f10230a9ce7a",
            "450cfc1bfd6f473094d3608d7e9f8829",
            "0e637188a7f1417991c60261d725d7fa",
            "ad89d0001a6847bda8b67634ef4e27be",
            "c5bfdb8b6790468392793ee3fe1234a1",
            "feae1d171894484abf198af1760a74f5",
            "ce2a924f079147fa856535db866e8134",
            "eebc7f2778bc457290efe2ea48301da0",
            "8399271fb23d48f2b5a41273a022e473",
            "e37fdda3c4764d04874673a640237dba",
            "7b8f620017da43b385a09e15fbf68727",
            "561d945a17e14590a8525a80b643068a",
            "2c2264e6c5be46cb83f4d7eca3537216",
            "ddcd6f49cf1f4b47aba476e2ebbd9d6e",
            "c39ffb4cc9c94b52861aa1abd38eb16e",
            "79642d74848c40d8b60750330d1b9886",
            "e8ffe9429a134bef955148127eb7b41d",
            "7dfdc941c42747959dbc374dbfa25499",
            "2a2af6859730429d9f386ab7eeb2c72b",
            "4caa82936df8402c8536d889ec6e6fb9",
            "2990ddeedd094c4c97fdaa46e8f071bb",
            "e5630c605eaa42c9a1b4a343d761e861",
            "96c05852aa6e4246b9b2ac2879a1bc0a",
            "897dbde546bf44bfbf1167b97ffc6a64",
            "39400942c2104ed2855b9ab06394cad5",
            "e02ee97d8bb8419ebac0b8a325f949c1",
            "7d44748923874cb4a09b5dafd84e982d",
            "f6b2a1b8e27a455382b38650bae7c92d",
            "e3d80ea13e874b90b5989eab20762eff",
            "f471143da5574456ac301cffe42b06ca",
            "5439cfba79104afa808894c28d79f39b",
            "9fbff3b887be426f8705c5afaab93ea0",
            "585118e9cb284584b95e09f34b7acd11",
            "2cad6db4b0d645e79f01690e7183c5c9",
            "f00e9144d3ea49a9962d30a9638fbcd5",
            "7f160d8fbd0f4ac2b094f95f243be078",
            "91213fe926b94691945608e49794b9b3",
            "626113ef66ab42e4800232af0005cd3e",
            "c999de9a1d3349b0a1430247382e811e",
            "30c801b0f22e4690b37380fc154756fd",
            "537728bcf8dd4a7eb0a40855cc5459ff",
            "6396a342cc4a40e2a9a869c9b25f11b6",
            "cda478b960ce4284a1b530022dcb25fc",
            "91b42070641640bd972c5dbb94951091",
            "2d7f1c14871e424eb29f223e5d3b3320",
            "fcf465d306a840858a149119c5171d7e",
            "09cc4a89dbc842cabf921f3ba4635dad",
            "8118b3406aed480cb41550d5e92734b6",
            "081fdfd002eb4b3cab053e8f8aad8f85",
            "ed1ec8ef38c5400aa3ed81d0fbcf4dae",
            "0ca11e5c99364960af0a230cd5a905cf"
          ]
        },
        "id": "2f-o7QHq4vTi",
        "outputId": "f48cd505-9958-47ae-9cf4-f696f75efbaa"
      },
      "outputs": [
        {
          "data": {
            "application/vnd.jupyter.widget-view+json": {
              "model_id": "f90d54352a634f7a92f55f6f874e07a5",
              "version_major": 2,
              "version_minor": 0
            },
            "text/plain": [
              "Generating train split: 0 examples [00:00, ? examples/s]"
            ]
          },
          "metadata": {},
          "output_type": "display_data"
        },
        {
          "data": {
            "application/vnd.jupyter.widget-view+json": {
              "model_id": "ae76e2c3dfca4e85b29773febcbd1601",
              "version_major": 2,
              "version_minor": 0
            },
            "text/plain": [
              "Loading dataset shards:   0%|          | 0/45 [00:00<?, ?it/s]"
            ]
          },
          "metadata": {},
          "output_type": "display_data"
        },
        {
          "name": "stderr",
          "output_type": "stream",
          "text": [
            "/usr/local/lib/python3.10/dist-packages/huggingface_hub/utils/_token.py:89: UserWarning: \n",
            "The secret `HF_TOKEN` does not exist in your Colab secrets.\n",
            "To authenticate with the Hugging Face Hub, create a token in your settings tab (https://huggingface.co/settings/tokens), set it as secret in your Google Colab and restart your session.\n",
            "You will be able to reuse this secret in all of your notebooks.\n",
            "Please note that authentication is recommended but still optional to access public models or datasets.\n",
            "  warnings.warn(\n"
          ]
        },
        {
          "data": {
            "application/vnd.jupyter.widget-view+json": {
              "model_id": "eebc7f2778bc457290efe2ea48301da0",
              "version_major": 2,
              "version_minor": 0
            },
            "text/plain": [
              "config.json:   0%|          | 0.00/1.21k [00:00<?, ?B/s]"
            ]
          },
          "metadata": {},
          "output_type": "display_data"
        },
        {
          "data": {
            "application/vnd.jupyter.widget-view+json": {
              "model_id": "2a2af6859730429d9f386ab7eeb2c72b",
              "version_major": 2,
              "version_minor": 0
            },
            "text/plain": [
              "spiece.model:   0%|          | 0.00/792k [00:00<?, ?B/s]"
            ]
          },
          "metadata": {},
          "output_type": "display_data"
        },
        {
          "data": {
            "application/vnd.jupyter.widget-view+json": {
              "model_id": "f471143da5574456ac301cffe42b06ca",
              "version_major": 2,
              "version_minor": 0
            },
            "text/plain": [
              "tokenizer.json:   0%|          | 0.00/1.39M [00:00<?, ?B/s]"
            ]
          },
          "metadata": {},
          "output_type": "display_data"
        },
        {
          "data": {
            "application/vnd.jupyter.widget-view+json": {
              "model_id": "537728bcf8dd4a7eb0a40855cc5459ff",
              "version_major": 2,
              "version_minor": 0
            },
            "text/plain": [
              "config.json:   0%|          | 0.00/1.21k [00:00<?, ?B/s]"
            ]
          },
          "metadata": {},
          "output_type": "display_data"
        },
        {
          "name": "stderr",
          "output_type": "stream",
          "text": [
            "You are using the default legacy behaviour of the <class 'transformers.models.t5.tokenization_t5.T5Tokenizer'>. This is expected, and simply means that the `legacy` (previous) behavior will be used so nothing changes for you. If you want to use the new behaviour, set `legacy=False`. This should only be set if you understand what it means, and thoroughly read the reason why this was added as explained in https://github.com/huggingface/transformers/pull/24565\n",
            "/usr/local/lib/python3.10/dist-packages/transformers/tokenization_utils_base.py:1601: FutureWarning: `clean_up_tokenization_spaces` was not set. It will be set to `True` by default. This behavior will be depracted in transformers v4.45, and will be then set to `False` by default. For more details check this issue: https://github.com/huggingface/transformers/issues/31884\n",
            "  warnings.warn(\n"
          ]
        }
      ],
      "source": [
        "\n",
        "\n",
        "\n",
        "dataset = load_dataset('json', data_files='/content/drive/MyDrive/Assignment 2/c4_dataset_10_mil.json')\n",
        "config = T5Config.from_pretrained('t5-base')\n",
        "model = T5ForConditionalGeneration(config)\n",
        "tokenizer = T5Tokenizer.from_pretrained('T5-base',use_fast = True)"
      ]
    },
    {
      "cell_type": "code",
      "execution_count": null,
      "metadata": {
        "colab": {
          "base_uri": "https://localhost:8080/"
        },
        "id": "HYWrk1_s4vTj",
        "outputId": "7962c475-a47f-4e07-d323-f2828489462b"
      },
      "outputs": [
        {
          "name": "stdout",
          "output_type": "stream",
          "text": [
            "Train set size: 160000\n",
            "Test set size: 40000\n",
            "False\n"
          ]
        }
      ],
      "source": [
        "from torch.utils.data import IterableDataset\n",
        "\n",
        "# Split dataset and remove unwanted columns\n",
        "data_splits = dataset['train'].select(range(200_000)).train_test_split(test_size=0.2, shuffle=True).remove_columns(['timestamp', 'url'])\n",
        "\n",
        "# Check the number of rows\n",
        "print(f\"Train set size: {data_splits['train'].num_rows}\")\n",
        "print(f\"Test set size: {data_splits['test'].num_rows}\")\n",
        "\n",
        "# Check if train split is an IterableDataset\n",
        "print(isinstance(data_splits['train'], IterableDataset))  # This will likely return False\n"
      ]
    },
    {
      "cell_type": "code",
      "execution_count": null,
      "metadata": {
        "colab": {
          "base_uri": "https://localhost:8080/",
          "height": 146,
          "referenced_widgets": [
            "2172f7be89874463a17e6ba6ef94de86",
            "e2f08ff985994e459326eafce669c34e",
            "dccb74def776436e957e69bb604ae97e",
            "d584c0468406482ea433d7dd9a700df1",
            "de2fc81bd9774310818c4111f9202f57",
            "77da013bac3a4bf997eb1346812d848f",
            "9bd1b6880574437d93ee8e02ba16a4e0",
            "688cbb0d23ba4424a2e0528fcbd1449d",
            "abed802e6544463f904ba993acdecea7",
            "cf066321fc054640aa947a7ea45dc0c7",
            "70ac077802f9496c99b35a407dc4d149",
            "0717dd535a624c10be5d92a732e7ce5f",
            "7ebb96da85614c049a1388e34209fc86",
            "27dbb611c8d04835aafe3bd6f00511c4",
            "c3313b20f759441fb24992cf76e7b214",
            "7697e76af772462fb2f4a62880bf1a3d",
            "af89fdba22f445d4bc1bd7e9fc0cac42",
            "2e3b151a78154d57bc98896b600a7eb2",
            "9e9ea4ae81cd4ab9a6e7d41ecdec01c1",
            "1bf5acfdb95b41029a4eef85ccbef576",
            "4d20e1717cba4717b27af279b8e3d876",
            "81a9db1268524436b74f607db18f584a"
          ]
        },
        "id": "U5CXxLih4vTk",
        "outputId": "8ca4034c-04a5-4fe6-817c-9a6829d2aabe"
      },
      "outputs": [
        {
          "data": {
            "application/vnd.jupyter.widget-view+json": {
              "model_id": "2172f7be89874463a17e6ba6ef94de86",
              "version_major": 2,
              "version_minor": 0
            },
            "text/plain": [
              "Map:   0%|          | 0/160000 [00:00<?, ? examples/s]"
            ]
          },
          "metadata": {},
          "output_type": "display_data"
        },
        {
          "data": {
            "application/vnd.jupyter.widget-view+json": {
              "model_id": "0717dd535a624c10be5d92a732e7ce5f",
              "version_major": 2,
              "version_minor": 0
            },
            "text/plain": [
              "Map:   0%|          | 0/40000 [00:00<?, ? examples/s]"
            ]
          },
          "metadata": {},
          "output_type": "display_data"
        },
        {
          "name": "stderr",
          "output_type": "stream",
          "text": [
            "/usr/local/lib/python3.10/dist-packages/torch/utils/data/dataloader.py:557: UserWarning: This DataLoader will create 16 worker processes in total. Our suggested max number of worker in current system is 12, which is smaller than what this DataLoader is going to create. Please be aware that excessive worker creation might get DataLoader running slow or even freeze, lower the worker number to avoid potential slowness/freeze if necessary.\n",
            "  warnings.warn(_create_warning_msg(\n"
          ]
        }
      ],
      "source": [
        "before_mask_input_length, target_length = compute_input_and_target_lengths(\n",
        "            inputs_length=512,\n",
        "            noise_density=0.15,\n",
        "            mean_noise_span_length=3,\n",
        "        )\n",
        "data_collator = DataCollatorForT5MLM(tokenizer=tokenizer, noise_density= 0.15, mean_noise_span_length= 3, input_length= 512, target_length= target_length, pad_token_id=0)\n",
        "train_dataloader, test_dataloader = get_dataloaders(tokenizer=tokenizer, data_splits=data_splits)\n"
      ]
    },
    {
      "cell_type": "code",
      "execution_count": null,
      "metadata": {
        "colab": {
          "base_uri": "https://localhost:8080/"
        },
        "id": "Z9mYxmqk4vTk",
        "outputId": "ac7e0b0e-1e09-4f1b-a69f-32a5f60c24a9"
      },
      "outputs": [
        {
          "name": "stdout",
          "output_type": "stream",
          "text": [
            "Beginning epoch: 1\n"
          ]
        },
        {
          "name": "stderr",
          "output_type": "stream",
          "text": [
            "/usr/local/lib/python3.10/dist-packages/torch/utils/data/dataloader.py:557: UserWarning: This DataLoader will create 16 worker processes in total. Our suggested max number of worker in current system is 12, which is smaller than what this DataLoader is going to create. Please be aware that excessive worker creation might get DataLoader running slow or even freeze, lower the worker number to avoid potential slowness/freeze if necessary.\n",
            "  warnings.warn(_create_warning_msg(\n",
            "WARNING:accelerate.utils.other:Removed shared tensor {'encoder.embed_tokens.weight', 'lm_head.weight', 'decoder.embed_tokens.weight'} while saving. This should be OK, but check by verifying that you don't receive any warning while reloading\n"
          ]
        },
        {
          "name": "stdout",
          "output_type": "stream",
          "text": [
            "The train loss after 100 batches is: 9.365729331970215\n"
          ]
        },
        {
          "name": "stderr",
          "output_type": "stream",
          "text": [
            "WARNING:accelerate.utils.other:Removed shared tensor {'encoder.embed_tokens.weight', 'lm_head.weight', 'decoder.embed_tokens.weight'} while saving. This should be OK, but check by verifying that you don't receive any warning while reloading\n"
          ]
        },
        {
          "name": "stdout",
          "output_type": "stream",
          "text": [
            "The train loss after 200 batches is: 9.19832706451416\n"
          ]
        },
        {
          "name": "stderr",
          "output_type": "stream",
          "text": [
            "WARNING:accelerate.utils.other:Removed shared tensor {'encoder.embed_tokens.weight', 'lm_head.weight', 'decoder.embed_tokens.weight'} while saving. This should be OK, but check by verifying that you don't receive any warning while reloading\n"
          ]
        },
        {
          "name": "stdout",
          "output_type": "stream",
          "text": [
            "The train loss after 300 batches is: 8.602438926696777\n"
          ]
        },
        {
          "name": "stderr",
          "output_type": "stream",
          "text": [
            "WARNING:accelerate.utils.other:Removed shared tensor {'encoder.embed_tokens.weight', 'lm_head.weight', 'decoder.embed_tokens.weight'} while saving. This should be OK, but check by verifying that you don't receive any warning while reloading\n"
          ]
        },
        {
          "name": "stdout",
          "output_type": "stream",
          "text": [
            "The train loss after 400 batches is: 7.608885765075684\n"
          ]
        },
        {
          "name": "stderr",
          "output_type": "stream",
          "text": [
            "WARNING:accelerate.utils.other:Removed shared tensor {'encoder.embed_tokens.weight', 'lm_head.weight', 'decoder.embed_tokens.weight'} while saving. This should be OK, but check by verifying that you don't receive any warning while reloading\n"
          ]
        },
        {
          "name": "stdout",
          "output_type": "stream",
          "text": [
            "The train loss after 500 batches is: 7.407654762268066\n"
          ]
        },
        {
          "name": "stderr",
          "output_type": "stream",
          "text": [
            "WARNING:accelerate.utils.other:Removed shared tensor {'encoder.embed_tokens.weight', 'lm_head.weight', 'decoder.embed_tokens.weight'} while saving. This should be OK, but check by verifying that you don't receive any warning while reloading\n"
          ]
        },
        {
          "name": "stdout",
          "output_type": "stream",
          "text": [
            "The train loss after 600 batches is: 7.4249749183654785\n"
          ]
        },
        {
          "name": "stderr",
          "output_type": "stream",
          "text": [
            "WARNING:accelerate.utils.other:Removed shared tensor {'encoder.embed_tokens.weight', 'lm_head.weight', 'decoder.embed_tokens.weight'} while saving. This should be OK, but check by verifying that you don't receive any warning while reloading\n"
          ]
        },
        {
          "name": "stdout",
          "output_type": "stream",
          "text": [
            "The train loss after 700 batches is: 7.038185119628906\n"
          ]
        },
        {
          "name": "stderr",
          "output_type": "stream",
          "text": [
            "WARNING:accelerate.utils.other:Removed shared tensor {'encoder.embed_tokens.weight', 'lm_head.weight', 'decoder.embed_tokens.weight'} while saving. This should be OK, but check by verifying that you don't receive any warning while reloading\n"
          ]
        },
        {
          "name": "stdout",
          "output_type": "stream",
          "text": [
            "The train loss after 800 batches is: 6.959164619445801\n"
          ]
        },
        {
          "name": "stderr",
          "output_type": "stream",
          "text": [
            "WARNING:accelerate.utils.other:Removed shared tensor {'encoder.embed_tokens.weight', 'lm_head.weight', 'decoder.embed_tokens.weight'} while saving. This should be OK, but check by verifying that you don't receive any warning while reloading\n"
          ]
        },
        {
          "name": "stdout",
          "output_type": "stream",
          "text": [
            "The train loss after 900 batches is: 6.989784240722656\n"
          ]
        },
        {
          "name": "stderr",
          "output_type": "stream",
          "text": [
            "WARNING:accelerate.utils.other:Removed shared tensor {'encoder.embed_tokens.weight', 'lm_head.weight', 'decoder.embed_tokens.weight'} while saving. This should be OK, but check by verifying that you don't receive any warning while reloading\n"
          ]
        },
        {
          "name": "stdout",
          "output_type": "stream",
          "text": [
            "The train loss after 1000 batches is: 6.847598075866699\n"
          ]
        },
        {
          "name": "stderr",
          "output_type": "stream",
          "text": [
            "WARNING:accelerate.utils.other:Removed shared tensor {'encoder.embed_tokens.weight', 'lm_head.weight', 'decoder.embed_tokens.weight'} while saving. This should be OK, but check by verifying that you don't receive any warning while reloading\n"
          ]
        },
        {
          "name": "stdout",
          "output_type": "stream",
          "text": [
            "The train loss after 1100 batches is: 7.049921989440918\n"
          ]
        },
        {
          "name": "stderr",
          "output_type": "stream",
          "text": [
            "WARNING:accelerate.utils.other:Removed shared tensor {'encoder.embed_tokens.weight', 'lm_head.weight', 'decoder.embed_tokens.weight'} while saving. This should be OK, but check by verifying that you don't receive any warning while reloading\n"
          ]
        },
        {
          "name": "stdout",
          "output_type": "stream",
          "text": [
            "The train loss after 1200 batches is: 7.026839733123779\n"
          ]
        },
        {
          "name": "stderr",
          "output_type": "stream",
          "text": [
            "WARNING:accelerate.utils.other:Removed shared tensor {'encoder.embed_tokens.weight', 'lm_head.weight', 'decoder.embed_tokens.weight'} while saving. This should be OK, but check by verifying that you don't receive any warning while reloading\n"
          ]
        },
        {
          "name": "stdout",
          "output_type": "stream",
          "text": [
            "The train loss after 1300 batches is: 6.991694927215576\n"
          ]
        },
        {
          "name": "stderr",
          "output_type": "stream",
          "text": [
            "WARNING:accelerate.utils.other:Removed shared tensor {'encoder.embed_tokens.weight', 'lm_head.weight', 'decoder.embed_tokens.weight'} while saving. This should be OK, but check by verifying that you don't receive any warning while reloading\n"
          ]
        },
        {
          "name": "stdout",
          "output_type": "stream",
          "text": [
            "The train loss after 1400 batches is: 6.862361907958984\n"
          ]
        },
        {
          "name": "stderr",
          "output_type": "stream",
          "text": [
            "WARNING:accelerate.utils.other:Removed shared tensor {'encoder.embed_tokens.weight', 'lm_head.weight', 'decoder.embed_tokens.weight'} while saving. This should be OK, but check by verifying that you don't receive any warning while reloading\n"
          ]
        },
        {
          "name": "stdout",
          "output_type": "stream",
          "text": [
            "The train loss after 1500 batches is: 6.893239974975586\n"
          ]
        },
        {
          "name": "stderr",
          "output_type": "stream",
          "text": [
            "WARNING:accelerate.utils.other:Removed shared tensor {'encoder.embed_tokens.weight', 'lm_head.weight', 'decoder.embed_tokens.weight'} while saving. This should be OK, but check by verifying that you don't receive any warning while reloading\n"
          ]
        },
        {
          "name": "stdout",
          "output_type": "stream",
          "text": [
            "The train loss after 1600 batches is: 6.699061870574951\n"
          ]
        },
        {
          "name": "stderr",
          "output_type": "stream",
          "text": [
            "WARNING:accelerate.utils.other:Removed shared tensor {'encoder.embed_tokens.weight', 'lm_head.weight', 'decoder.embed_tokens.weight'} while saving. This should be OK, but check by verifying that you don't receive any warning while reloading\n"
          ]
        },
        {
          "name": "stdout",
          "output_type": "stream",
          "text": [
            "The train loss after 1700 batches is: 6.910085201263428\n"
          ]
        },
        {
          "name": "stderr",
          "output_type": "stream",
          "text": [
            "WARNING:accelerate.utils.other:Removed shared tensor {'encoder.embed_tokens.weight', 'lm_head.weight', 'decoder.embed_tokens.weight'} while saving. This should be OK, but check by verifying that you don't receive any warning while reloading\n"
          ]
        },
        {
          "name": "stdout",
          "output_type": "stream",
          "text": [
            "The train loss after 1800 batches is: 6.777299404144287\n"
          ]
        },
        {
          "name": "stderr",
          "output_type": "stream",
          "text": [
            "WARNING:accelerate.utils.other:Removed shared tensor {'encoder.embed_tokens.weight', 'lm_head.weight', 'decoder.embed_tokens.weight'} while saving. This should be OK, but check by verifying that you don't receive any warning while reloading\n"
          ]
        },
        {
          "name": "stdout",
          "output_type": "stream",
          "text": [
            "The train loss after 1900 batches is: 6.692427158355713\n"
          ]
        },
        {
          "name": "stderr",
          "output_type": "stream",
          "text": [
            "WARNING:accelerate.utils.other:Removed shared tensor {'encoder.embed_tokens.weight', 'lm_head.weight', 'decoder.embed_tokens.weight'} while saving. This should be OK, but check by verifying that you don't receive any warning while reloading\n"
          ]
        },
        {
          "name": "stdout",
          "output_type": "stream",
          "text": [
            "The train loss after 2000 batches is: 6.687772750854492\n"
          ]
        },
        {
          "name": "stderr",
          "output_type": "stream",
          "text": [
            "WARNING:accelerate.utils.other:Removed shared tensor {'encoder.embed_tokens.weight', 'lm_head.weight', 'decoder.embed_tokens.weight'} while saving. This should be OK, but check by verifying that you don't receive any warning while reloading\n"
          ]
        },
        {
          "name": "stdout",
          "output_type": "stream",
          "text": [
            "The train loss after 2100 batches is: 6.687133312225342\n"
          ]
        },
        {
          "name": "stderr",
          "output_type": "stream",
          "text": [
            "WARNING:accelerate.utils.other:Removed shared tensor {'encoder.embed_tokens.weight', 'lm_head.weight', 'decoder.embed_tokens.weight'} while saving. This should be OK, but check by verifying that you don't receive any warning while reloading\n"
          ]
        },
        {
          "name": "stdout",
          "output_type": "stream",
          "text": [
            "The train loss after 2200 batches is: 6.656919479370117\n"
          ]
        },
        {
          "name": "stderr",
          "output_type": "stream",
          "text": [
            "WARNING:accelerate.utils.other:Removed shared tensor {'encoder.embed_tokens.weight', 'lm_head.weight', 'decoder.embed_tokens.weight'} while saving. This should be OK, but check by verifying that you don't receive any warning while reloading\n"
          ]
        },
        {
          "name": "stdout",
          "output_type": "stream",
          "text": [
            "The train loss after 2300 batches is: 6.784564018249512\n"
          ]
        },
        {
          "name": "stderr",
          "output_type": "stream",
          "text": [
            "WARNING:accelerate.utils.other:Removed shared tensor {'encoder.embed_tokens.weight', 'lm_head.weight', 'decoder.embed_tokens.weight'} while saving. This should be OK, but check by verifying that you don't receive any warning while reloading\n"
          ]
        },
        {
          "name": "stdout",
          "output_type": "stream",
          "text": [
            "The train loss after 2400 batches is: 6.610323905944824\n"
          ]
        },
        {
          "name": "stderr",
          "output_type": "stream",
          "text": [
            "WARNING:accelerate.utils.other:Removed shared tensor {'encoder.embed_tokens.weight', 'lm_head.weight', 'decoder.embed_tokens.weight'} while saving. This should be OK, but check by verifying that you don't receive any warning while reloading\n"
          ]
        },
        {
          "name": "stdout",
          "output_type": "stream",
          "text": [
            "The train loss after 2500 batches is: 6.55567741394043\n"
          ]
        },
        {
          "name": "stderr",
          "output_type": "stream",
          "text": [
            "WARNING:accelerate.utils.other:Removed shared tensor {'encoder.embed_tokens.weight', 'lm_head.weight', 'decoder.embed_tokens.weight'} while saving. This should be OK, but check by verifying that you don't receive any warning while reloading\n"
          ]
        },
        {
          "name": "stdout",
          "output_type": "stream",
          "text": [
            "The train loss after 2600 batches is: 6.485971450805664\n"
          ]
        },
        {
          "name": "stderr",
          "output_type": "stream",
          "text": [
            "WARNING:accelerate.utils.other:Removed shared tensor {'encoder.embed_tokens.weight', 'lm_head.weight', 'decoder.embed_tokens.weight'} while saving. This should be OK, but check by verifying that you don't receive any warning while reloading\n"
          ]
        },
        {
          "name": "stdout",
          "output_type": "stream",
          "text": [
            "The train loss after 2700 batches is: 6.740026950836182\n"
          ]
        },
        {
          "name": "stderr",
          "output_type": "stream",
          "text": [
            "WARNING:accelerate.utils.other:Removed shared tensor {'encoder.embed_tokens.weight', 'lm_head.weight', 'decoder.embed_tokens.weight'} while saving. This should be OK, but check by verifying that you don't receive any warning while reloading\n"
          ]
        },
        {
          "name": "stdout",
          "output_type": "stream",
          "text": [
            "The train loss after 2800 batches is: 6.775608539581299\n"
          ]
        },
        {
          "name": "stderr",
          "output_type": "stream",
          "text": [
            "WARNING:accelerate.utils.other:Removed shared tensor {'encoder.embed_tokens.weight', 'lm_head.weight', 'decoder.embed_tokens.weight'} while saving. This should be OK, but check by verifying that you don't receive any warning while reloading\n"
          ]
        },
        {
          "name": "stdout",
          "output_type": "stream",
          "text": [
            "The train loss after 2900 batches is: 6.469042778015137\n"
          ]
        },
        {
          "name": "stderr",
          "output_type": "stream",
          "text": [
            "WARNING:accelerate.utils.other:Removed shared tensor {'encoder.embed_tokens.weight', 'lm_head.weight', 'decoder.embed_tokens.weight'} while saving. This should be OK, but check by verifying that you don't receive any warning while reloading\n"
          ]
        },
        {
          "name": "stdout",
          "output_type": "stream",
          "text": [
            "The train loss after 3000 batches is: 6.472172260284424\n"
          ]
        },
        {
          "name": "stderr",
          "output_type": "stream",
          "text": [
            "WARNING:accelerate.utils.other:Removed shared tensor {'encoder.embed_tokens.weight', 'lm_head.weight', 'decoder.embed_tokens.weight'} while saving. This should be OK, but check by verifying that you don't receive any warning while reloading\n"
          ]
        },
        {
          "name": "stdout",
          "output_type": "stream",
          "text": [
            "The train loss after 3100 batches is: 6.437539100646973\n"
          ]
        },
        {
          "name": "stderr",
          "output_type": "stream",
          "text": [
            "WARNING:accelerate.utils.other:Removed shared tensor {'encoder.embed_tokens.weight', 'lm_head.weight', 'decoder.embed_tokens.weight'} while saving. This should be OK, but check by verifying that you don't receive any warning while reloading\n"
          ]
        },
        {
          "name": "stdout",
          "output_type": "stream",
          "text": [
            "The train loss after 3200 batches is: 6.478540420532227\n"
          ]
        },
        {
          "name": "stderr",
          "output_type": "stream",
          "text": [
            "WARNING:accelerate.utils.other:Removed shared tensor {'encoder.embed_tokens.weight', 'lm_head.weight', 'decoder.embed_tokens.weight'} while saving. This should be OK, but check by verifying that you don't receive any warning while reloading\n"
          ]
        },
        {
          "name": "stdout",
          "output_type": "stream",
          "text": [
            "The train loss after 3300 batches is: 6.414333820343018\n"
          ]
        },
        {
          "name": "stderr",
          "output_type": "stream",
          "text": [
            "WARNING:accelerate.utils.other:Removed shared tensor {'encoder.embed_tokens.weight', 'lm_head.weight', 'decoder.embed_tokens.weight'} while saving. This should be OK, but check by verifying that you don't receive any warning while reloading\n"
          ]
        },
        {
          "name": "stdout",
          "output_type": "stream",
          "text": [
            "The train loss after 3400 batches is: 6.547355651855469\n"
          ]
        },
        {
          "name": "stderr",
          "output_type": "stream",
          "text": [
            "WARNING:accelerate.utils.other:Removed shared tensor {'encoder.embed_tokens.weight', 'lm_head.weight', 'decoder.embed_tokens.weight'} while saving. This should be OK, but check by verifying that you don't receive any warning while reloading\n"
          ]
        },
        {
          "name": "stdout",
          "output_type": "stream",
          "text": [
            "The train loss after 3500 batches is: 6.361141204833984\n"
          ]
        },
        {
          "name": "stderr",
          "output_type": "stream",
          "text": [
            "WARNING:accelerate.utils.other:Removed shared tensor {'encoder.embed_tokens.weight', 'lm_head.weight', 'decoder.embed_tokens.weight'} while saving. This should be OK, but check by verifying that you don't receive any warning while reloading\n"
          ]
        },
        {
          "name": "stdout",
          "output_type": "stream",
          "text": [
            "The train loss after 3600 batches is: 6.3595685958862305\n"
          ]
        },
        {
          "name": "stderr",
          "output_type": "stream",
          "text": [
            "WARNING:accelerate.utils.other:Removed shared tensor {'encoder.embed_tokens.weight', 'lm_head.weight', 'decoder.embed_tokens.weight'} while saving. This should be OK, but check by verifying that you don't receive any warning while reloading\n"
          ]
        },
        {
          "name": "stdout",
          "output_type": "stream",
          "text": [
            "The train loss after 3700 batches is: 6.361952781677246\n"
          ]
        },
        {
          "name": "stderr",
          "output_type": "stream",
          "text": [
            "WARNING:accelerate.utils.other:Removed shared tensor {'encoder.embed_tokens.weight', 'lm_head.weight', 'decoder.embed_tokens.weight'} while saving. This should be OK, but check by verifying that you don't receive any warning while reloading\n"
          ]
        },
        {
          "name": "stdout",
          "output_type": "stream",
          "text": [
            "The train loss after 3800 batches is: 6.440568447113037\n"
          ]
        },
        {
          "name": "stderr",
          "output_type": "stream",
          "text": [
            "WARNING:accelerate.utils.other:Removed shared tensor {'encoder.embed_tokens.weight', 'lm_head.weight', 'decoder.embed_tokens.weight'} while saving. This should be OK, but check by verifying that you don't receive any warning while reloading\n"
          ]
        },
        {
          "name": "stdout",
          "output_type": "stream",
          "text": [
            "The train loss after 3900 batches is: 6.563980579376221\n"
          ]
        },
        {
          "name": "stderr",
          "output_type": "stream",
          "text": [
            "WARNING:accelerate.utils.other:Removed shared tensor {'encoder.embed_tokens.weight', 'lm_head.weight', 'decoder.embed_tokens.weight'} while saving. This should be OK, but check by verifying that you don't receive any warning while reloading\n"
          ]
        },
        {
          "name": "stdout",
          "output_type": "stream",
          "text": [
            "The train loss after 4000 batches is: 6.595272064208984\n"
          ]
        },
        {
          "name": "stderr",
          "output_type": "stream",
          "text": [
            "WARNING:accelerate.utils.other:Removed shared tensor {'encoder.embed_tokens.weight', 'lm_head.weight', 'decoder.embed_tokens.weight'} while saving. This should be OK, but check by verifying that you don't receive any warning while reloading\n"
          ]
        },
        {
          "name": "stdout",
          "output_type": "stream",
          "text": [
            "The train loss after 4100 batches is: 6.581563472747803\n"
          ]
        },
        {
          "name": "stderr",
          "output_type": "stream",
          "text": [
            "WARNING:accelerate.utils.other:Removed shared tensor {'encoder.embed_tokens.weight', 'lm_head.weight', 'decoder.embed_tokens.weight'} while saving. This should be OK, but check by verifying that you don't receive any warning while reloading\n"
          ]
        },
        {
          "name": "stdout",
          "output_type": "stream",
          "text": [
            "The train loss after 4200 batches is: 6.533376693725586\n"
          ]
        },
        {
          "name": "stderr",
          "output_type": "stream",
          "text": [
            "WARNING:accelerate.utils.other:Removed shared tensor {'encoder.embed_tokens.weight', 'lm_head.weight', 'decoder.embed_tokens.weight'} while saving. This should be OK, but check by verifying that you don't receive any warning while reloading\n"
          ]
        },
        {
          "name": "stdout",
          "output_type": "stream",
          "text": [
            "The train loss after 4300 batches is: 6.365448951721191\n"
          ]
        },
        {
          "name": "stderr",
          "output_type": "stream",
          "text": [
            "WARNING:accelerate.utils.other:Removed shared tensor {'encoder.embed_tokens.weight', 'lm_head.weight', 'decoder.embed_tokens.weight'} while saving. This should be OK, but check by verifying that you don't receive any warning while reloading\n"
          ]
        },
        {
          "name": "stdout",
          "output_type": "stream",
          "text": [
            "The train loss after 4400 batches is: 6.159099578857422\n"
          ]
        },
        {
          "name": "stderr",
          "output_type": "stream",
          "text": [
            "WARNING:accelerate.utils.other:Removed shared tensor {'encoder.embed_tokens.weight', 'lm_head.weight', 'decoder.embed_tokens.weight'} while saving. This should be OK, but check by verifying that you don't receive any warning while reloading\n"
          ]
        },
        {
          "name": "stdout",
          "output_type": "stream",
          "text": [
            "The train loss after 4500 batches is: 6.348639965057373\n"
          ]
        },
        {
          "name": "stderr",
          "output_type": "stream",
          "text": [
            "WARNING:accelerate.utils.other:Removed shared tensor {'encoder.embed_tokens.weight', 'lm_head.weight', 'decoder.embed_tokens.weight'} while saving. This should be OK, but check by verifying that you don't receive any warning while reloading\n"
          ]
        },
        {
          "name": "stdout",
          "output_type": "stream",
          "text": [
            "The train loss after 4600 batches is: 6.16521692276001\n"
          ]
        },
        {
          "name": "stderr",
          "output_type": "stream",
          "text": [
            "WARNING:accelerate.utils.other:Removed shared tensor {'encoder.embed_tokens.weight', 'lm_head.weight', 'decoder.embed_tokens.weight'} while saving. This should be OK, but check by verifying that you don't receive any warning while reloading\n"
          ]
        },
        {
          "name": "stdout",
          "output_type": "stream",
          "text": [
            "The train loss after 4700 batches is: 6.321365833282471\n"
          ]
        },
        {
          "name": "stderr",
          "output_type": "stream",
          "text": [
            "WARNING:accelerate.utils.other:Removed shared tensor {'encoder.embed_tokens.weight', 'lm_head.weight', 'decoder.embed_tokens.weight'} while saving. This should be OK, but check by verifying that you don't receive any warning while reloading\n"
          ]
        },
        {
          "name": "stdout",
          "output_type": "stream",
          "text": [
            "The train loss after 4800 batches is: 6.069609642028809\n"
          ]
        },
        {
          "name": "stderr",
          "output_type": "stream",
          "text": [
            "WARNING:accelerate.utils.other:Removed shared tensor {'encoder.embed_tokens.weight', 'lm_head.weight', 'decoder.embed_tokens.weight'} while saving. This should be OK, but check by verifying that you don't receive any warning while reloading\n"
          ]
        },
        {
          "name": "stdout",
          "output_type": "stream",
          "text": [
            "The train loss after 4900 batches is: 6.282151222229004\n"
          ]
        },
        {
          "name": "stderr",
          "output_type": "stream",
          "text": [
            "WARNING:accelerate.utils.other:Removed shared tensor {'encoder.embed_tokens.weight', 'lm_head.weight', 'decoder.embed_tokens.weight'} while saving. This should be OK, but check by verifying that you don't receive any warning while reloading\n"
          ]
        },
        {
          "name": "stdout",
          "output_type": "stream",
          "text": [
            "The train loss after 5000 batches is: 6.084079742431641\n"
          ]
        },
        {
          "name": "stderr",
          "output_type": "stream",
          "text": [
            "WARNING:accelerate.utils.other:Removed shared tensor {'encoder.embed_tokens.weight', 'lm_head.weight', 'decoder.embed_tokens.weight'} while saving. This should be OK, but check by verifying that you don't receive any warning while reloading\n"
          ]
        },
        {
          "name": "stdout",
          "output_type": "stream",
          "text": [
            "The train loss after 5100 batches is: 6.421392917633057\n"
          ]
        },
        {
          "name": "stderr",
          "output_type": "stream",
          "text": [
            "WARNING:accelerate.utils.other:Removed shared tensor {'encoder.embed_tokens.weight', 'lm_head.weight', 'decoder.embed_tokens.weight'} while saving. This should be OK, but check by verifying that you don't receive any warning while reloading\n"
          ]
        },
        {
          "name": "stdout",
          "output_type": "stream",
          "text": [
            "The train loss after 5200 batches is: 6.050745487213135\n"
          ]
        },
        {
          "name": "stderr",
          "output_type": "stream",
          "text": [
            "WARNING:accelerate.utils.other:Removed shared tensor {'encoder.embed_tokens.weight', 'lm_head.weight', 'decoder.embed_tokens.weight'} while saving. This should be OK, but check by verifying that you don't receive any warning while reloading\n"
          ]
        },
        {
          "name": "stdout",
          "output_type": "stream",
          "text": [
            "The train loss after 5300 batches is: 6.273314952850342\n"
          ]
        },
        {
          "name": "stderr",
          "output_type": "stream",
          "text": [
            "WARNING:accelerate.utils.other:Removed shared tensor {'encoder.embed_tokens.weight', 'lm_head.weight', 'decoder.embed_tokens.weight'} while saving. This should be OK, but check by verifying that you don't receive any warning while reloading\n"
          ]
        },
        {
          "name": "stdout",
          "output_type": "stream",
          "text": [
            "The train loss after 5400 batches is: 6.122916221618652\n"
          ]
        },
        {
          "name": "stderr",
          "output_type": "stream",
          "text": [
            "WARNING:accelerate.utils.other:Removed shared tensor {'encoder.embed_tokens.weight', 'lm_head.weight', 'decoder.embed_tokens.weight'} while saving. This should be OK, but check by verifying that you don't receive any warning while reloading\n"
          ]
        },
        {
          "name": "stdout",
          "output_type": "stream",
          "text": [
            "The train loss after 5500 batches is: 5.974319934844971\n"
          ]
        },
        {
          "name": "stderr",
          "output_type": "stream",
          "text": [
            "WARNING:accelerate.utils.other:Removed shared tensor {'encoder.embed_tokens.weight', 'lm_head.weight', 'decoder.embed_tokens.weight'} while saving. This should be OK, but check by verifying that you don't receive any warning while reloading\n"
          ]
        },
        {
          "name": "stdout",
          "output_type": "stream",
          "text": [
            "The train loss after 5600 batches is: 6.0796027183532715\n"
          ]
        },
        {
          "name": "stderr",
          "output_type": "stream",
          "text": [
            "WARNING:accelerate.utils.other:Removed shared tensor {'encoder.embed_tokens.weight', 'lm_head.weight', 'decoder.embed_tokens.weight'} while saving. This should be OK, but check by verifying that you don't receive any warning while reloading\n"
          ]
        },
        {
          "name": "stdout",
          "output_type": "stream",
          "text": [
            "The train loss after 5700 batches is: 6.203830242156982\n"
          ]
        },
        {
          "name": "stderr",
          "output_type": "stream",
          "text": [
            "WARNING:accelerate.utils.other:Removed shared tensor {'encoder.embed_tokens.weight', 'lm_head.weight', 'decoder.embed_tokens.weight'} while saving. This should be OK, but check by verifying that you don't receive any warning while reloading\n"
          ]
        },
        {
          "name": "stdout",
          "output_type": "stream",
          "text": [
            "The train loss after 5800 batches is: 6.118112564086914\n"
          ]
        },
        {
          "name": "stderr",
          "output_type": "stream",
          "text": [
            "WARNING:accelerate.utils.other:Removed shared tensor {'encoder.embed_tokens.weight', 'lm_head.weight', 'decoder.embed_tokens.weight'} while saving. This should be OK, but check by verifying that you don't receive any warning while reloading\n"
          ]
        },
        {
          "name": "stdout",
          "output_type": "stream",
          "text": [
            "The train loss after 5900 batches is: 6.249223709106445\n"
          ]
        },
        {
          "name": "stderr",
          "output_type": "stream",
          "text": [
            "WARNING:accelerate.utils.other:Removed shared tensor {'encoder.embed_tokens.weight', 'lm_head.weight', 'decoder.embed_tokens.weight'} while saving. This should be OK, but check by verifying that you don't receive any warning while reloading\n"
          ]
        },
        {
          "name": "stdout",
          "output_type": "stream",
          "text": [
            "The train loss after 6000 batches is: 5.988945484161377\n"
          ]
        },
        {
          "name": "stderr",
          "output_type": "stream",
          "text": [
            "WARNING:accelerate.utils.other:Removed shared tensor {'encoder.embed_tokens.weight', 'lm_head.weight', 'decoder.embed_tokens.weight'} while saving. This should be OK, but check by verifying that you don't receive any warning while reloading\n"
          ]
        },
        {
          "name": "stdout",
          "output_type": "stream",
          "text": [
            "The train loss after 6100 batches is: 6.2149128913879395\n"
          ]
        },
        {
          "name": "stderr",
          "output_type": "stream",
          "text": [
            "WARNING:accelerate.utils.other:Removed shared tensor {'encoder.embed_tokens.weight', 'lm_head.weight', 'decoder.embed_tokens.weight'} while saving. This should be OK, but check by verifying that you don't receive any warning while reloading\n"
          ]
        },
        {
          "name": "stdout",
          "output_type": "stream",
          "text": [
            "The train loss after 6200 batches is: 6.14533805847168\n"
          ]
        },
        {
          "name": "stderr",
          "output_type": "stream",
          "text": [
            "WARNING:accelerate.utils.other:Removed shared tensor {'encoder.embed_tokens.weight', 'lm_head.weight', 'decoder.embed_tokens.weight'} while saving. This should be OK, but check by verifying that you don't receive any warning while reloading\n"
          ]
        },
        {
          "name": "stdout",
          "output_type": "stream",
          "text": [
            "The train loss after 6300 batches is: 5.990443229675293\n"
          ]
        },
        {
          "name": "stderr",
          "output_type": "stream",
          "text": [
            "WARNING:accelerate.utils.other:Removed shared tensor {'encoder.embed_tokens.weight', 'lm_head.weight', 'decoder.embed_tokens.weight'} while saving. This should be OK, but check by verifying that you don't receive any warning while reloading\n"
          ]
        },
        {
          "name": "stdout",
          "output_type": "stream",
          "text": [
            "The train loss after 6400 batches is: 6.103311061859131\n"
          ]
        },
        {
          "name": "stderr",
          "output_type": "stream",
          "text": [
            "WARNING:accelerate.utils.other:Removed shared tensor {'encoder.embed_tokens.weight', 'lm_head.weight', 'decoder.embed_tokens.weight'} while saving. This should be OK, but check by verifying that you don't receive any warning while reloading\n"
          ]
        },
        {
          "name": "stdout",
          "output_type": "stream",
          "text": [
            "The train loss after 6500 batches is: 5.998871326446533\n"
          ]
        },
        {
          "name": "stderr",
          "output_type": "stream",
          "text": [
            "WARNING:accelerate.utils.other:Removed shared tensor {'encoder.embed_tokens.weight', 'lm_head.weight', 'decoder.embed_tokens.weight'} while saving. This should be OK, but check by verifying that you don't receive any warning while reloading\n"
          ]
        },
        {
          "name": "stdout",
          "output_type": "stream",
          "text": [
            "The train loss after 6600 batches is: 6.131036281585693\n"
          ]
        },
        {
          "name": "stderr",
          "output_type": "stream",
          "text": [
            "WARNING:accelerate.utils.other:Removed shared tensor {'encoder.embed_tokens.weight', 'lm_head.weight', 'decoder.embed_tokens.weight'} while saving. This should be OK, but check by verifying that you don't receive any warning while reloading\n"
          ]
        },
        {
          "name": "stdout",
          "output_type": "stream",
          "text": [
            "The train loss after 6700 batches is: 6.079791069030762\n"
          ]
        },
        {
          "name": "stderr",
          "output_type": "stream",
          "text": [
            "WARNING:accelerate.utils.other:Removed shared tensor {'encoder.embed_tokens.weight', 'lm_head.weight', 'decoder.embed_tokens.weight'} while saving. This should be OK, but check by verifying that you don't receive any warning while reloading\n"
          ]
        },
        {
          "name": "stdout",
          "output_type": "stream",
          "text": [
            "The train loss after 6800 batches is: 6.0457682609558105\n"
          ]
        },
        {
          "name": "stderr",
          "output_type": "stream",
          "text": [
            "WARNING:accelerate.utils.other:Removed shared tensor {'encoder.embed_tokens.weight', 'lm_head.weight', 'decoder.embed_tokens.weight'} while saving. This should be OK, but check by verifying that you don't receive any warning while reloading\n"
          ]
        },
        {
          "name": "stdout",
          "output_type": "stream",
          "text": [
            "The train loss after 6900 batches is: 6.08007287979126\n"
          ]
        },
        {
          "name": "stderr",
          "output_type": "stream",
          "text": [
            "WARNING:accelerate.utils.other:Removed shared tensor {'encoder.embed_tokens.weight', 'lm_head.weight', 'decoder.embed_tokens.weight'} while saving. This should be OK, but check by verifying that you don't receive any warning while reloading\n"
          ]
        },
        {
          "name": "stdout",
          "output_type": "stream",
          "text": [
            "The train loss after 7000 batches is: 5.9364495277404785\n"
          ]
        },
        {
          "name": "stderr",
          "output_type": "stream",
          "text": [
            "WARNING:accelerate.utils.other:Removed shared tensor {'encoder.embed_tokens.weight', 'lm_head.weight', 'decoder.embed_tokens.weight'} while saving. This should be OK, but check by verifying that you don't receive any warning while reloading\n"
          ]
        },
        {
          "name": "stdout",
          "output_type": "stream",
          "text": [
            "The train loss after 7100 batches is: 6.069282054901123\n"
          ]
        },
        {
          "name": "stderr",
          "output_type": "stream",
          "text": [
            "WARNING:accelerate.utils.other:Removed shared tensor {'encoder.embed_tokens.weight', 'lm_head.weight', 'decoder.embed_tokens.weight'} while saving. This should be OK, but check by verifying that you don't receive any warning while reloading\n"
          ]
        },
        {
          "name": "stdout",
          "output_type": "stream",
          "text": [
            "The train loss after 7200 batches is: 5.971954822540283\n"
          ]
        },
        {
          "name": "stderr",
          "output_type": "stream",
          "text": [
            "WARNING:accelerate.utils.other:Removed shared tensor {'encoder.embed_tokens.weight', 'lm_head.weight', 'decoder.embed_tokens.weight'} while saving. This should be OK, but check by verifying that you don't receive any warning while reloading\n"
          ]
        },
        {
          "name": "stdout",
          "output_type": "stream",
          "text": [
            "The train loss after 7300 batches is: 6.01610803604126\n"
          ]
        },
        {
          "name": "stderr",
          "output_type": "stream",
          "text": [
            "WARNING:accelerate.utils.other:Removed shared tensor {'encoder.embed_tokens.weight', 'lm_head.weight', 'decoder.embed_tokens.weight'} while saving. This should be OK, but check by verifying that you don't receive any warning while reloading\n"
          ]
        },
        {
          "name": "stdout",
          "output_type": "stream",
          "text": [
            "The train loss after 7400 batches is: 6.00242280960083\n"
          ]
        },
        {
          "name": "stderr",
          "output_type": "stream",
          "text": [
            "WARNING:accelerate.utils.other:Removed shared tensor {'encoder.embed_tokens.weight', 'lm_head.weight', 'decoder.embed_tokens.weight'} while saving. This should be OK, but check by verifying that you don't receive any warning while reloading\n"
          ]
        },
        {
          "name": "stdout",
          "output_type": "stream",
          "text": [
            "The train loss after 7500 batches is: 5.9824934005737305\n"
          ]
        },
        {
          "name": "stderr",
          "output_type": "stream",
          "text": [
            "WARNING:accelerate.utils.other:Removed shared tensor {'encoder.embed_tokens.weight', 'lm_head.weight', 'decoder.embed_tokens.weight'} while saving. This should be OK, but check by verifying that you don't receive any warning while reloading\n"
          ]
        },
        {
          "name": "stdout",
          "output_type": "stream",
          "text": [
            "The train loss after 7600 batches is: 5.940808296203613\n"
          ]
        },
        {
          "name": "stderr",
          "output_type": "stream",
          "text": [
            "WARNING:accelerate.utils.other:Removed shared tensor {'encoder.embed_tokens.weight', 'lm_head.weight', 'decoder.embed_tokens.weight'} while saving. This should be OK, but check by verifying that you don't receive any warning while reloading\n"
          ]
        },
        {
          "name": "stdout",
          "output_type": "stream",
          "text": [
            "The train loss after 7700 batches is: 6.128057479858398\n"
          ]
        },
        {
          "name": "stderr",
          "output_type": "stream",
          "text": [
            "WARNING:accelerate.utils.other:Removed shared tensor {'encoder.embed_tokens.weight', 'lm_head.weight', 'decoder.embed_tokens.weight'} while saving. This should be OK, but check by verifying that you don't receive any warning while reloading\n"
          ]
        },
        {
          "name": "stdout",
          "output_type": "stream",
          "text": [
            "The train loss after 7800 batches is: 6.003981590270996\n"
          ]
        },
        {
          "name": "stderr",
          "output_type": "stream",
          "text": [
            "WARNING:accelerate.utils.other:Removed shared tensor {'encoder.embed_tokens.weight', 'lm_head.weight', 'decoder.embed_tokens.weight'} while saving. This should be OK, but check by verifying that you don't receive any warning while reloading\n"
          ]
        },
        {
          "name": "stdout",
          "output_type": "stream",
          "text": [
            "The train loss after 7900 batches is: 6.120095729827881\n"
          ]
        },
        {
          "name": "stderr",
          "output_type": "stream",
          "text": [
            "WARNING:accelerate.utils.other:Removed shared tensor {'encoder.embed_tokens.weight', 'lm_head.weight', 'decoder.embed_tokens.weight'} while saving. This should be OK, but check by verifying that you don't receive any warning while reloading\n"
          ]
        },
        {
          "name": "stdout",
          "output_type": "stream",
          "text": [
            "The train loss after 8000 batches is: 5.94514274597168\n"
          ]
        },
        {
          "name": "stderr",
          "output_type": "stream",
          "text": [
            "WARNING:accelerate.utils.other:Removed shared tensor {'encoder.embed_tokens.weight', 'lm_head.weight', 'decoder.embed_tokens.weight'} while saving. This should be OK, but check by verifying that you don't receive any warning while reloading\n"
          ]
        },
        {
          "name": "stdout",
          "output_type": "stream",
          "text": [
            "The train loss after 8100 batches is: 5.975055694580078\n"
          ]
        },
        {
          "name": "stderr",
          "output_type": "stream",
          "text": [
            "WARNING:accelerate.utils.other:Removed shared tensor {'encoder.embed_tokens.weight', 'lm_head.weight', 'decoder.embed_tokens.weight'} while saving. This should be OK, but check by verifying that you don't receive any warning while reloading\n"
          ]
        },
        {
          "name": "stdout",
          "output_type": "stream",
          "text": [
            "The train loss after 8200 batches is: 6.114561557769775\n"
          ]
        },
        {
          "name": "stderr",
          "output_type": "stream",
          "text": [
            "WARNING:accelerate.utils.other:Removed shared tensor {'encoder.embed_tokens.weight', 'lm_head.weight', 'decoder.embed_tokens.weight'} while saving. This should be OK, but check by verifying that you don't receive any warning while reloading\n"
          ]
        },
        {
          "name": "stdout",
          "output_type": "stream",
          "text": [
            "The train loss after 8300 batches is: 6.009870529174805\n"
          ]
        },
        {
          "name": "stderr",
          "output_type": "stream",
          "text": [
            "WARNING:accelerate.utils.other:Removed shared tensor {'encoder.embed_tokens.weight', 'lm_head.weight', 'decoder.embed_tokens.weight'} while saving. This should be OK, but check by verifying that you don't receive any warning while reloading\n"
          ]
        },
        {
          "name": "stdout",
          "output_type": "stream",
          "text": [
            "The train loss after 8400 batches is: 6.011696815490723\n"
          ]
        },
        {
          "name": "stderr",
          "output_type": "stream",
          "text": [
            "WARNING:accelerate.utils.other:Removed shared tensor {'encoder.embed_tokens.weight', 'lm_head.weight', 'decoder.embed_tokens.weight'} while saving. This should be OK, but check by verifying that you don't receive any warning while reloading\n"
          ]
        },
        {
          "name": "stdout",
          "output_type": "stream",
          "text": [
            "The train loss after 8500 batches is: 6.004977226257324\n"
          ]
        },
        {
          "name": "stderr",
          "output_type": "stream",
          "text": [
            "WARNING:accelerate.utils.other:Removed shared tensor {'encoder.embed_tokens.weight', 'lm_head.weight', 'decoder.embed_tokens.weight'} while saving. This should be OK, but check by verifying that you don't receive any warning while reloading\n"
          ]
        },
        {
          "name": "stdout",
          "output_type": "stream",
          "text": [
            "The train loss after 8600 batches is: 6.0378193855285645\n"
          ]
        },
        {
          "name": "stderr",
          "output_type": "stream",
          "text": [
            "WARNING:accelerate.utils.other:Removed shared tensor {'encoder.embed_tokens.weight', 'lm_head.weight', 'decoder.embed_tokens.weight'} while saving. This should be OK, but check by verifying that you don't receive any warning while reloading\n"
          ]
        },
        {
          "name": "stdout",
          "output_type": "stream",
          "text": [
            "The train loss after 8700 batches is: 5.991050720214844\n"
          ]
        },
        {
          "name": "stderr",
          "output_type": "stream",
          "text": [
            "WARNING:accelerate.utils.other:Removed shared tensor {'encoder.embed_tokens.weight', 'lm_head.weight', 'decoder.embed_tokens.weight'} while saving. This should be OK, but check by verifying that you don't receive any warning while reloading\n"
          ]
        },
        {
          "name": "stdout",
          "output_type": "stream",
          "text": [
            "The train loss after 8800 batches is: 5.919557094573975\n"
          ]
        },
        {
          "name": "stderr",
          "output_type": "stream",
          "text": [
            "WARNING:accelerate.utils.other:Removed shared tensor {'encoder.embed_tokens.weight', 'lm_head.weight', 'decoder.embed_tokens.weight'} while saving. This should be OK, but check by verifying that you don't receive any warning while reloading\n"
          ]
        },
        {
          "name": "stdout",
          "output_type": "stream",
          "text": [
            "The train loss after 8900 batches is: 5.810869216918945\n",
            "Average test loss after epoch 1: 5.849240145605544 \n",
            "\n",
            "Beginning epoch: 2\n"
          ]
        },
        {
          "name": "stderr",
          "output_type": "stream",
          "text": [
            "WARNING:accelerate.utils.other:Removed shared tensor {'encoder.embed_tokens.weight', 'lm_head.weight', 'decoder.embed_tokens.weight'} while saving. This should be OK, but check by verifying that you don't receive any warning while reloading\n"
          ]
        },
        {
          "name": "stdout",
          "output_type": "stream",
          "text": [
            "The train loss after 9000 batches is: 5.884807586669922\n"
          ]
        },
        {
          "name": "stderr",
          "output_type": "stream",
          "text": [
            "WARNING:accelerate.utils.other:Removed shared tensor {'encoder.embed_tokens.weight', 'lm_head.weight', 'decoder.embed_tokens.weight'} while saving. This should be OK, but check by verifying that you don't receive any warning while reloading\n"
          ]
        },
        {
          "name": "stdout",
          "output_type": "stream",
          "text": [
            "The train loss after 9100 batches is: 5.94105863571167\n"
          ]
        },
        {
          "name": "stderr",
          "output_type": "stream",
          "text": [
            "WARNING:accelerate.utils.other:Removed shared tensor {'encoder.embed_tokens.weight', 'lm_head.weight', 'decoder.embed_tokens.weight'} while saving. This should be OK, but check by verifying that you don't receive any warning while reloading\n"
          ]
        },
        {
          "name": "stdout",
          "output_type": "stream",
          "text": [
            "The train loss after 9200 batches is: 5.842581272125244\n"
          ]
        },
        {
          "name": "stderr",
          "output_type": "stream",
          "text": [
            "WARNING:accelerate.utils.other:Removed shared tensor {'encoder.embed_tokens.weight', 'lm_head.weight', 'decoder.embed_tokens.weight'} while saving. This should be OK, but check by verifying that you don't receive any warning while reloading\n"
          ]
        },
        {
          "name": "stdout",
          "output_type": "stream",
          "text": [
            "The train loss after 9300 batches is: 5.948533535003662\n"
          ]
        },
        {
          "name": "stderr",
          "output_type": "stream",
          "text": [
            "WARNING:accelerate.utils.other:Removed shared tensor {'encoder.embed_tokens.weight', 'lm_head.weight', 'decoder.embed_tokens.weight'} while saving. This should be OK, but check by verifying that you don't receive any warning while reloading\n"
          ]
        },
        {
          "name": "stdout",
          "output_type": "stream",
          "text": [
            "The train loss after 9400 batches is: 5.783087253570557\n"
          ]
        },
        {
          "name": "stderr",
          "output_type": "stream",
          "text": [
            "WARNING:accelerate.utils.other:Removed shared tensor {'encoder.embed_tokens.weight', 'lm_head.weight', 'decoder.embed_tokens.weight'} while saving. This should be OK, but check by verifying that you don't receive any warning while reloading\n"
          ]
        },
        {
          "name": "stdout",
          "output_type": "stream",
          "text": [
            "The train loss after 9500 batches is: 5.929996490478516\n"
          ]
        },
        {
          "name": "stderr",
          "output_type": "stream",
          "text": [
            "WARNING:accelerate.utils.other:Removed shared tensor {'encoder.embed_tokens.weight', 'lm_head.weight', 'decoder.embed_tokens.weight'} while saving. This should be OK, but check by verifying that you don't receive any warning while reloading\n"
          ]
        },
        {
          "name": "stdout",
          "output_type": "stream",
          "text": [
            "The train loss after 9600 batches is: 5.756640434265137\n"
          ]
        },
        {
          "name": "stderr",
          "output_type": "stream",
          "text": [
            "WARNING:accelerate.utils.other:Removed shared tensor {'encoder.embed_tokens.weight', 'lm_head.weight', 'decoder.embed_tokens.weight'} while saving. This should be OK, but check by verifying that you don't receive any warning while reloading\n"
          ]
        },
        {
          "name": "stdout",
          "output_type": "stream",
          "text": [
            "The train loss after 9700 batches is: 6.071109294891357\n"
          ]
        },
        {
          "name": "stderr",
          "output_type": "stream",
          "text": [
            "WARNING:accelerate.utils.other:Removed shared tensor {'encoder.embed_tokens.weight', 'lm_head.weight', 'decoder.embed_tokens.weight'} while saving. This should be OK, but check by verifying that you don't receive any warning while reloading\n"
          ]
        },
        {
          "name": "stdout",
          "output_type": "stream",
          "text": [
            "The train loss after 9800 batches is: 5.959255695343018\n"
          ]
        },
        {
          "name": "stderr",
          "output_type": "stream",
          "text": [
            "WARNING:accelerate.utils.other:Removed shared tensor {'encoder.embed_tokens.weight', 'lm_head.weight', 'decoder.embed_tokens.weight'} while saving. This should be OK, but check by verifying that you don't receive any warning while reloading\n"
          ]
        },
        {
          "name": "stdout",
          "output_type": "stream",
          "text": [
            "The train loss after 9900 batches is: 5.920016765594482\n"
          ]
        },
        {
          "name": "stderr",
          "output_type": "stream",
          "text": [
            "WARNING:accelerate.utils.other:Removed shared tensor {'encoder.embed_tokens.weight', 'lm_head.weight', 'decoder.embed_tokens.weight'} while saving. This should be OK, but check by verifying that you don't receive any warning while reloading\n"
          ]
        },
        {
          "name": "stdout",
          "output_type": "stream",
          "text": [
            "The train loss after 10000 batches is: 5.841368198394775\n"
          ]
        },
        {
          "name": "stderr",
          "output_type": "stream",
          "text": [
            "WARNING:accelerate.utils.other:Removed shared tensor {'encoder.embed_tokens.weight', 'lm_head.weight', 'decoder.embed_tokens.weight'} while saving. This should be OK, but check by verifying that you don't receive any warning while reloading\n"
          ]
        },
        {
          "name": "stdout",
          "output_type": "stream",
          "text": [
            "The train loss after 10100 batches is: 5.833892822265625\n"
          ]
        },
        {
          "name": "stderr",
          "output_type": "stream",
          "text": [
            "WARNING:accelerate.utils.other:Removed shared tensor {'encoder.embed_tokens.weight', 'lm_head.weight', 'decoder.embed_tokens.weight'} while saving. This should be OK, but check by verifying that you don't receive any warning while reloading\n"
          ]
        },
        {
          "name": "stdout",
          "output_type": "stream",
          "text": [
            "The train loss after 10200 batches is: 5.856712341308594\n"
          ]
        },
        {
          "name": "stderr",
          "output_type": "stream",
          "text": [
            "WARNING:accelerate.utils.other:Removed shared tensor {'encoder.embed_tokens.weight', 'lm_head.weight', 'decoder.embed_tokens.weight'} while saving. This should be OK, but check by verifying that you don't receive any warning while reloading\n"
          ]
        },
        {
          "name": "stdout",
          "output_type": "stream",
          "text": [
            "The train loss after 10300 batches is: 5.703997611999512\n"
          ]
        },
        {
          "name": "stderr",
          "output_type": "stream",
          "text": [
            "WARNING:accelerate.utils.other:Removed shared tensor {'encoder.embed_tokens.weight', 'lm_head.weight', 'decoder.embed_tokens.weight'} while saving. This should be OK, but check by verifying that you don't receive any warning while reloading\n"
          ]
        },
        {
          "name": "stdout",
          "output_type": "stream",
          "text": [
            "The train loss after 10400 batches is: 5.9564433097839355\n"
          ]
        },
        {
          "name": "stderr",
          "output_type": "stream",
          "text": [
            "WARNING:accelerate.utils.other:Removed shared tensor {'encoder.embed_tokens.weight', 'lm_head.weight', 'decoder.embed_tokens.weight'} while saving. This should be OK, but check by verifying that you don't receive any warning while reloading\n"
          ]
        },
        {
          "name": "stdout",
          "output_type": "stream",
          "text": [
            "The train loss after 10500 batches is: 6.063764572143555\n"
          ]
        },
        {
          "name": "stderr",
          "output_type": "stream",
          "text": [
            "WARNING:accelerate.utils.other:Removed shared tensor {'encoder.embed_tokens.weight', 'lm_head.weight', 'decoder.embed_tokens.weight'} while saving. This should be OK, but check by verifying that you don't receive any warning while reloading\n"
          ]
        },
        {
          "name": "stdout",
          "output_type": "stream",
          "text": [
            "The train loss after 10600 batches is: 5.673460006713867\n"
          ]
        },
        {
          "name": "stderr",
          "output_type": "stream",
          "text": [
            "WARNING:accelerate.utils.other:Removed shared tensor {'encoder.embed_tokens.weight', 'lm_head.weight', 'decoder.embed_tokens.weight'} while saving. This should be OK, but check by verifying that you don't receive any warning while reloading\n"
          ]
        },
        {
          "name": "stdout",
          "output_type": "stream",
          "text": [
            "The train loss after 10700 batches is: 5.908866882324219\n"
          ]
        },
        {
          "name": "stderr",
          "output_type": "stream",
          "text": [
            "WARNING:accelerate.utils.other:Removed shared tensor {'encoder.embed_tokens.weight', 'lm_head.weight', 'decoder.embed_tokens.weight'} while saving. This should be OK, but check by verifying that you don't receive any warning while reloading\n"
          ]
        },
        {
          "name": "stdout",
          "output_type": "stream",
          "text": [
            "The train loss after 10800 batches is: 5.699141979217529\n"
          ]
        },
        {
          "name": "stderr",
          "output_type": "stream",
          "text": [
            "WARNING:accelerate.utils.other:Removed shared tensor {'encoder.embed_tokens.weight', 'lm_head.weight', 'decoder.embed_tokens.weight'} while saving. This should be OK, but check by verifying that you don't receive any warning while reloading\n"
          ]
        },
        {
          "name": "stdout",
          "output_type": "stream",
          "text": [
            "The train loss after 10900 batches is: 5.813187599182129\n"
          ]
        },
        {
          "name": "stderr",
          "output_type": "stream",
          "text": [
            "WARNING:accelerate.utils.other:Removed shared tensor {'encoder.embed_tokens.weight', 'lm_head.weight', 'decoder.embed_tokens.weight'} while saving. This should be OK, but check by verifying that you don't receive any warning while reloading\n"
          ]
        },
        {
          "name": "stdout",
          "output_type": "stream",
          "text": [
            "The train loss after 11000 batches is: 5.932260513305664\n"
          ]
        },
        {
          "name": "stderr",
          "output_type": "stream",
          "text": [
            "WARNING:accelerate.utils.other:Removed shared tensor {'encoder.embed_tokens.weight', 'lm_head.weight', 'decoder.embed_tokens.weight'} while saving. This should be OK, but check by verifying that you don't receive any warning while reloading\n"
          ]
        },
        {
          "name": "stdout",
          "output_type": "stream",
          "text": [
            "The train loss after 11100 batches is: 5.759991645812988\n"
          ]
        },
        {
          "name": "stderr",
          "output_type": "stream",
          "text": [
            "WARNING:accelerate.utils.other:Removed shared tensor {'encoder.embed_tokens.weight', 'lm_head.weight', 'decoder.embed_tokens.weight'} while saving. This should be OK, but check by verifying that you don't receive any warning while reloading\n"
          ]
        },
        {
          "name": "stdout",
          "output_type": "stream",
          "text": [
            "The train loss after 11200 batches is: 5.842973709106445\n"
          ]
        },
        {
          "name": "stderr",
          "output_type": "stream",
          "text": [
            "WARNING:accelerate.utils.other:Removed shared tensor {'encoder.embed_tokens.weight', 'lm_head.weight', 'decoder.embed_tokens.weight'} while saving. This should be OK, but check by verifying that you don't receive any warning while reloading\n"
          ]
        },
        {
          "name": "stdout",
          "output_type": "stream",
          "text": [
            "The train loss after 11300 batches is: 5.7938337326049805\n"
          ]
        },
        {
          "name": "stderr",
          "output_type": "stream",
          "text": [
            "WARNING:accelerate.utils.other:Removed shared tensor {'encoder.embed_tokens.weight', 'lm_head.weight', 'decoder.embed_tokens.weight'} while saving. This should be OK, but check by verifying that you don't receive any warning while reloading\n"
          ]
        },
        {
          "name": "stdout",
          "output_type": "stream",
          "text": [
            "The train loss after 11400 batches is: 5.896027088165283\n"
          ]
        },
        {
          "name": "stderr",
          "output_type": "stream",
          "text": [
            "WARNING:accelerate.utils.other:Removed shared tensor {'encoder.embed_tokens.weight', 'lm_head.weight', 'decoder.embed_tokens.weight'} while saving. This should be OK, but check by verifying that you don't receive any warning while reloading\n"
          ]
        },
        {
          "name": "stdout",
          "output_type": "stream",
          "text": [
            "The train loss after 11500 batches is: 5.764038562774658\n"
          ]
        },
        {
          "name": "stderr",
          "output_type": "stream",
          "text": [
            "WARNING:accelerate.utils.other:Removed shared tensor {'encoder.embed_tokens.weight', 'lm_head.weight', 'decoder.embed_tokens.weight'} while saving. This should be OK, but check by verifying that you don't receive any warning while reloading\n"
          ]
        },
        {
          "name": "stdout",
          "output_type": "stream",
          "text": [
            "The train loss after 11600 batches is: 5.749673366546631\n"
          ]
        },
        {
          "name": "stderr",
          "output_type": "stream",
          "text": [
            "WARNING:accelerate.utils.other:Removed shared tensor {'encoder.embed_tokens.weight', 'lm_head.weight', 'decoder.embed_tokens.weight'} while saving. This should be OK, but check by verifying that you don't receive any warning while reloading\n"
          ]
        },
        {
          "name": "stdout",
          "output_type": "stream",
          "text": [
            "The train loss after 11700 batches is: 5.731879711151123\n"
          ]
        },
        {
          "name": "stderr",
          "output_type": "stream",
          "text": [
            "WARNING:accelerate.utils.other:Removed shared tensor {'encoder.embed_tokens.weight', 'lm_head.weight', 'decoder.embed_tokens.weight'} while saving. This should be OK, but check by verifying that you don't receive any warning while reloading\n"
          ]
        },
        {
          "name": "stdout",
          "output_type": "stream",
          "text": [
            "The train loss after 11800 batches is: 5.869507789611816\n"
          ]
        },
        {
          "name": "stderr",
          "output_type": "stream",
          "text": [
            "WARNING:accelerate.utils.other:Removed shared tensor {'encoder.embed_tokens.weight', 'lm_head.weight', 'decoder.embed_tokens.weight'} while saving. This should be OK, but check by verifying that you don't receive any warning while reloading\n"
          ]
        },
        {
          "name": "stdout",
          "output_type": "stream",
          "text": [
            "The train loss after 11900 batches is: 5.742262840270996\n"
          ]
        },
        {
          "name": "stderr",
          "output_type": "stream",
          "text": [
            "WARNING:accelerate.utils.other:Removed shared tensor {'encoder.embed_tokens.weight', 'lm_head.weight', 'decoder.embed_tokens.weight'} while saving. This should be OK, but check by verifying that you don't receive any warning while reloading\n"
          ]
        },
        {
          "name": "stdout",
          "output_type": "stream",
          "text": [
            "The train loss after 12000 batches is: 5.779548168182373\n"
          ]
        },
        {
          "name": "stderr",
          "output_type": "stream",
          "text": [
            "WARNING:accelerate.utils.other:Removed shared tensor {'encoder.embed_tokens.weight', 'lm_head.weight', 'decoder.embed_tokens.weight'} while saving. This should be OK, but check by verifying that you don't receive any warning while reloading\n"
          ]
        },
        {
          "name": "stdout",
          "output_type": "stream",
          "text": [
            "The train loss after 12100 batches is: 5.722441673278809\n"
          ]
        },
        {
          "name": "stderr",
          "output_type": "stream",
          "text": [
            "WARNING:accelerate.utils.other:Removed shared tensor {'encoder.embed_tokens.weight', 'lm_head.weight', 'decoder.embed_tokens.weight'} while saving. This should be OK, but check by verifying that you don't receive any warning while reloading\n"
          ]
        },
        {
          "name": "stdout",
          "output_type": "stream",
          "text": [
            "The train loss after 12200 batches is: 5.950199127197266\n"
          ]
        },
        {
          "name": "stderr",
          "output_type": "stream",
          "text": [
            "WARNING:accelerate.utils.other:Removed shared tensor {'encoder.embed_tokens.weight', 'lm_head.weight', 'decoder.embed_tokens.weight'} while saving. This should be OK, but check by verifying that you don't receive any warning while reloading\n"
          ]
        },
        {
          "name": "stdout",
          "output_type": "stream",
          "text": [
            "The train loss after 12300 batches is: 5.7678914070129395\n"
          ]
        },
        {
          "name": "stderr",
          "output_type": "stream",
          "text": [
            "WARNING:accelerate.utils.other:Removed shared tensor {'encoder.embed_tokens.weight', 'lm_head.weight', 'decoder.embed_tokens.weight'} while saving. This should be OK, but check by verifying that you don't receive any warning while reloading\n"
          ]
        },
        {
          "name": "stdout",
          "output_type": "stream",
          "text": [
            "The train loss after 12400 batches is: 5.724435806274414\n"
          ]
        },
        {
          "name": "stderr",
          "output_type": "stream",
          "text": [
            "WARNING:accelerate.utils.other:Removed shared tensor {'encoder.embed_tokens.weight', 'lm_head.weight', 'decoder.embed_tokens.weight'} while saving. This should be OK, but check by verifying that you don't receive any warning while reloading\n"
          ]
        },
        {
          "name": "stdout",
          "output_type": "stream",
          "text": [
            "The train loss after 12500 batches is: 5.6446919441223145\n"
          ]
        },
        {
          "name": "stderr",
          "output_type": "stream",
          "text": [
            "WARNING:accelerate.utils.other:Removed shared tensor {'encoder.embed_tokens.weight', 'lm_head.weight', 'decoder.embed_tokens.weight'} while saving. This should be OK, but check by verifying that you don't receive any warning while reloading\n"
          ]
        },
        {
          "name": "stdout",
          "output_type": "stream",
          "text": [
            "The train loss after 12600 batches is: 5.796103000640869\n"
          ]
        },
        {
          "name": "stderr",
          "output_type": "stream",
          "text": [
            "WARNING:accelerate.utils.other:Removed shared tensor {'encoder.embed_tokens.weight', 'lm_head.weight', 'decoder.embed_tokens.weight'} while saving. This should be OK, but check by verifying that you don't receive any warning while reloading\n"
          ]
        },
        {
          "name": "stdout",
          "output_type": "stream",
          "text": [
            "The train loss after 12700 batches is: 5.6048479080200195\n"
          ]
        },
        {
          "name": "stderr",
          "output_type": "stream",
          "text": [
            "WARNING:accelerate.utils.other:Removed shared tensor {'encoder.embed_tokens.weight', 'lm_head.weight', 'decoder.embed_tokens.weight'} while saving. This should be OK, but check by verifying that you don't receive any warning while reloading\n"
          ]
        },
        {
          "name": "stdout",
          "output_type": "stream",
          "text": [
            "The train loss after 12800 batches is: 5.633297920227051\n"
          ]
        },
        {
          "name": "stderr",
          "output_type": "stream",
          "text": [
            "WARNING:accelerate.utils.other:Removed shared tensor {'encoder.embed_tokens.weight', 'lm_head.weight', 'decoder.embed_tokens.weight'} while saving. This should be OK, but check by verifying that you don't receive any warning while reloading\n"
          ]
        },
        {
          "name": "stdout",
          "output_type": "stream",
          "text": [
            "The train loss after 12900 batches is: 5.853075981140137\n"
          ]
        },
        {
          "name": "stderr",
          "output_type": "stream",
          "text": [
            "WARNING:accelerate.utils.other:Removed shared tensor {'encoder.embed_tokens.weight', 'lm_head.weight', 'decoder.embed_tokens.weight'} while saving. This should be OK, but check by verifying that you don't receive any warning while reloading\n"
          ]
        },
        {
          "name": "stdout",
          "output_type": "stream",
          "text": [
            "The train loss after 13000 batches is: 5.655407428741455\n"
          ]
        },
        {
          "name": "stderr",
          "output_type": "stream",
          "text": [
            "WARNING:accelerate.utils.other:Removed shared tensor {'encoder.embed_tokens.weight', 'lm_head.weight', 'decoder.embed_tokens.weight'} while saving. This should be OK, but check by verifying that you don't receive any warning while reloading\n"
          ]
        },
        {
          "name": "stdout",
          "output_type": "stream",
          "text": [
            "The train loss after 13100 batches is: 5.645417213439941\n"
          ]
        },
        {
          "name": "stderr",
          "output_type": "stream",
          "text": [
            "WARNING:accelerate.utils.other:Removed shared tensor {'encoder.embed_tokens.weight', 'lm_head.weight', 'decoder.embed_tokens.weight'} while saving. This should be OK, but check by verifying that you don't receive any warning while reloading\n"
          ]
        },
        {
          "name": "stdout",
          "output_type": "stream",
          "text": [
            "The train loss after 13200 batches is: 5.497647285461426\n"
          ]
        },
        {
          "name": "stderr",
          "output_type": "stream",
          "text": [
            "WARNING:accelerate.utils.other:Removed shared tensor {'encoder.embed_tokens.weight', 'lm_head.weight', 'decoder.embed_tokens.weight'} while saving. This should be OK, but check by verifying that you don't receive any warning while reloading\n"
          ]
        },
        {
          "name": "stdout",
          "output_type": "stream",
          "text": [
            "The train loss after 13300 batches is: 5.7042765617370605\n"
          ]
        },
        {
          "name": "stderr",
          "output_type": "stream",
          "text": [
            "WARNING:accelerate.utils.other:Removed shared tensor {'encoder.embed_tokens.weight', 'lm_head.weight', 'decoder.embed_tokens.weight'} while saving. This should be OK, but check by verifying that you don't receive any warning while reloading\n"
          ]
        },
        {
          "name": "stdout",
          "output_type": "stream",
          "text": [
            "The train loss after 13400 batches is: 5.612895965576172\n"
          ]
        },
        {
          "name": "stderr",
          "output_type": "stream",
          "text": [
            "WARNING:accelerate.utils.other:Removed shared tensor {'encoder.embed_tokens.weight', 'lm_head.weight', 'decoder.embed_tokens.weight'} while saving. This should be OK, but check by verifying that you don't receive any warning while reloading\n"
          ]
        },
        {
          "name": "stdout",
          "output_type": "stream",
          "text": [
            "The train loss after 13500 batches is: 5.719557762145996\n"
          ]
        },
        {
          "name": "stderr",
          "output_type": "stream",
          "text": [
            "WARNING:accelerate.utils.other:Removed shared tensor {'encoder.embed_tokens.weight', 'lm_head.weight', 'decoder.embed_tokens.weight'} while saving. This should be OK, but check by verifying that you don't receive any warning while reloading\n"
          ]
        },
        {
          "name": "stdout",
          "output_type": "stream",
          "text": [
            "The train loss after 13600 batches is: 5.700380325317383\n"
          ]
        },
        {
          "name": "stderr",
          "output_type": "stream",
          "text": [
            "WARNING:accelerate.utils.other:Removed shared tensor {'encoder.embed_tokens.weight', 'lm_head.weight', 'decoder.embed_tokens.weight'} while saving. This should be OK, but check by verifying that you don't receive any warning while reloading\n"
          ]
        },
        {
          "name": "stdout",
          "output_type": "stream",
          "text": [
            "The train loss after 13700 batches is: 5.678417205810547\n"
          ]
        },
        {
          "name": "stderr",
          "output_type": "stream",
          "text": [
            "WARNING:accelerate.utils.other:Removed shared tensor {'encoder.embed_tokens.weight', 'lm_head.weight', 'decoder.embed_tokens.weight'} while saving. This should be OK, but check by verifying that you don't receive any warning while reloading\n"
          ]
        },
        {
          "name": "stdout",
          "output_type": "stream",
          "text": [
            "The train loss after 13800 batches is: 5.645920276641846\n"
          ]
        },
        {
          "name": "stderr",
          "output_type": "stream",
          "text": [
            "WARNING:accelerate.utils.other:Removed shared tensor {'encoder.embed_tokens.weight', 'lm_head.weight', 'decoder.embed_tokens.weight'} while saving. This should be OK, but check by verifying that you don't receive any warning while reloading\n"
          ]
        },
        {
          "name": "stdout",
          "output_type": "stream",
          "text": [
            "The train loss after 13900 batches is: 5.540779113769531\n"
          ]
        },
        {
          "name": "stderr",
          "output_type": "stream",
          "text": [
            "WARNING:accelerate.utils.other:Removed shared tensor {'encoder.embed_tokens.weight', 'lm_head.weight', 'decoder.embed_tokens.weight'} while saving. This should be OK, but check by verifying that you don't receive any warning while reloading\n"
          ]
        },
        {
          "name": "stdout",
          "output_type": "stream",
          "text": [
            "The train loss after 14000 batches is: 5.720761299133301\n"
          ]
        },
        {
          "name": "stderr",
          "output_type": "stream",
          "text": [
            "WARNING:accelerate.utils.other:Removed shared tensor {'encoder.embed_tokens.weight', 'lm_head.weight', 'decoder.embed_tokens.weight'} while saving. This should be OK, but check by verifying that you don't receive any warning while reloading\n"
          ]
        },
        {
          "name": "stdout",
          "output_type": "stream",
          "text": [
            "The train loss after 14100 batches is: 5.883863925933838\n"
          ]
        },
        {
          "name": "stderr",
          "output_type": "stream",
          "text": [
            "WARNING:accelerate.utils.other:Removed shared tensor {'encoder.embed_tokens.weight', 'lm_head.weight', 'decoder.embed_tokens.weight'} while saving. This should be OK, but check by verifying that you don't receive any warning while reloading\n"
          ]
        },
        {
          "name": "stdout",
          "output_type": "stream",
          "text": [
            "The train loss after 14200 batches is: 5.712005138397217\n"
          ]
        },
        {
          "name": "stderr",
          "output_type": "stream",
          "text": [
            "WARNING:accelerate.utils.other:Removed shared tensor {'encoder.embed_tokens.weight', 'lm_head.weight', 'decoder.embed_tokens.weight'} while saving. This should be OK, but check by verifying that you don't receive any warning while reloading\n"
          ]
        },
        {
          "name": "stdout",
          "output_type": "stream",
          "text": [
            "The train loss after 14300 batches is: 5.723095417022705\n"
          ]
        },
        {
          "name": "stderr",
          "output_type": "stream",
          "text": [
            "WARNING:accelerate.utils.other:Removed shared tensor {'encoder.embed_tokens.weight', 'lm_head.weight', 'decoder.embed_tokens.weight'} while saving. This should be OK, but check by verifying that you don't receive any warning while reloading\n"
          ]
        },
        {
          "name": "stdout",
          "output_type": "stream",
          "text": [
            "The train loss after 14400 batches is: 5.680659770965576\n"
          ]
        },
        {
          "name": "stderr",
          "output_type": "stream",
          "text": [
            "WARNING:accelerate.utils.other:Removed shared tensor {'encoder.embed_tokens.weight', 'lm_head.weight', 'decoder.embed_tokens.weight'} while saving. This should be OK, but check by verifying that you don't receive any warning while reloading\n"
          ]
        },
        {
          "name": "stdout",
          "output_type": "stream",
          "text": [
            "The train loss after 14500 batches is: 5.601518154144287\n"
          ]
        },
        {
          "name": "stderr",
          "output_type": "stream",
          "text": [
            "WARNING:accelerate.utils.other:Removed shared tensor {'encoder.embed_tokens.weight', 'lm_head.weight', 'decoder.embed_tokens.weight'} while saving. This should be OK, but check by verifying that you don't receive any warning while reloading\n"
          ]
        },
        {
          "name": "stdout",
          "output_type": "stream",
          "text": [
            "The train loss after 14600 batches is: 5.591604232788086\n"
          ]
        },
        {
          "name": "stderr",
          "output_type": "stream",
          "text": [
            "WARNING:accelerate.utils.other:Removed shared tensor {'encoder.embed_tokens.weight', 'lm_head.weight', 'decoder.embed_tokens.weight'} while saving. This should be OK, but check by verifying that you don't receive any warning while reloading\n"
          ]
        },
        {
          "name": "stdout",
          "output_type": "stream",
          "text": [
            "The train loss after 14700 batches is: 5.878881931304932\n"
          ]
        },
        {
          "name": "stderr",
          "output_type": "stream",
          "text": [
            "WARNING:accelerate.utils.other:Removed shared tensor {'encoder.embed_tokens.weight', 'lm_head.weight', 'decoder.embed_tokens.weight'} while saving. This should be OK, but check by verifying that you don't receive any warning while reloading\n"
          ]
        },
        {
          "name": "stdout",
          "output_type": "stream",
          "text": [
            "The train loss after 14800 batches is: 5.720902442932129\n"
          ]
        },
        {
          "name": "stderr",
          "output_type": "stream",
          "text": [
            "WARNING:accelerate.utils.other:Removed shared tensor {'encoder.embed_tokens.weight', 'lm_head.weight', 'decoder.embed_tokens.weight'} while saving. This should be OK, but check by verifying that you don't receive any warning while reloading\n"
          ]
        },
        {
          "name": "stdout",
          "output_type": "stream",
          "text": [
            "The train loss after 14900 batches is: 5.55402135848999\n"
          ]
        },
        {
          "name": "stderr",
          "output_type": "stream",
          "text": [
            "WARNING:accelerate.utils.other:Removed shared tensor {'encoder.embed_tokens.weight', 'lm_head.weight', 'decoder.embed_tokens.weight'} while saving. This should be OK, but check by verifying that you don't receive any warning while reloading\n"
          ]
        },
        {
          "name": "stdout",
          "output_type": "stream",
          "text": [
            "The train loss after 15000 batches is: 5.582785606384277\n"
          ]
        },
        {
          "name": "stderr",
          "output_type": "stream",
          "text": [
            "WARNING:accelerate.utils.other:Removed shared tensor {'encoder.embed_tokens.weight', 'lm_head.weight', 'decoder.embed_tokens.weight'} while saving. This should be OK, but check by verifying that you don't receive any warning while reloading\n"
          ]
        },
        {
          "name": "stdout",
          "output_type": "stream",
          "text": [
            "The train loss after 15100 batches is: 5.577512741088867\n"
          ]
        },
        {
          "name": "stderr",
          "output_type": "stream",
          "text": [
            "WARNING:accelerate.utils.other:Removed shared tensor {'encoder.embed_tokens.weight', 'lm_head.weight', 'decoder.embed_tokens.weight'} while saving. This should be OK, but check by verifying that you don't receive any warning while reloading\n"
          ]
        },
        {
          "name": "stdout",
          "output_type": "stream",
          "text": [
            "The train loss after 15200 batches is: 5.82511568069458\n"
          ]
        },
        {
          "name": "stderr",
          "output_type": "stream",
          "text": [
            "WARNING:accelerate.utils.other:Removed shared tensor {'encoder.embed_tokens.weight', 'lm_head.weight', 'decoder.embed_tokens.weight'} while saving. This should be OK, but check by verifying that you don't receive any warning while reloading\n"
          ]
        },
        {
          "name": "stdout",
          "output_type": "stream",
          "text": [
            "The train loss after 15300 batches is: 5.594791412353516\n"
          ]
        },
        {
          "name": "stderr",
          "output_type": "stream",
          "text": [
            "WARNING:accelerate.utils.other:Removed shared tensor {'encoder.embed_tokens.weight', 'lm_head.weight', 'decoder.embed_tokens.weight'} while saving. This should be OK, but check by verifying that you don't receive any warning while reloading\n"
          ]
        },
        {
          "name": "stdout",
          "output_type": "stream",
          "text": [
            "The train loss after 15400 batches is: 5.612185478210449\n"
          ]
        },
        {
          "name": "stderr",
          "output_type": "stream",
          "text": [
            "WARNING:accelerate.utils.other:Removed shared tensor {'encoder.embed_tokens.weight', 'lm_head.weight', 'decoder.embed_tokens.weight'} while saving. This should be OK, but check by verifying that you don't receive any warning while reloading\n"
          ]
        },
        {
          "name": "stdout",
          "output_type": "stream",
          "text": [
            "The train loss after 15500 batches is: 5.805999279022217\n"
          ]
        },
        {
          "name": "stderr",
          "output_type": "stream",
          "text": [
            "WARNING:accelerate.utils.other:Removed shared tensor {'encoder.embed_tokens.weight', 'lm_head.weight', 'decoder.embed_tokens.weight'} while saving. This should be OK, but check by verifying that you don't receive any warning while reloading\n"
          ]
        },
        {
          "name": "stdout",
          "output_type": "stream",
          "text": [
            "The train loss after 15600 batches is: 5.743765830993652\n"
          ]
        },
        {
          "name": "stderr",
          "output_type": "stream",
          "text": [
            "WARNING:accelerate.utils.other:Removed shared tensor {'encoder.embed_tokens.weight', 'lm_head.weight', 'decoder.embed_tokens.weight'} while saving. This should be OK, but check by verifying that you don't receive any warning while reloading\n"
          ]
        },
        {
          "name": "stdout",
          "output_type": "stream",
          "text": [
            "The train loss after 15700 batches is: 5.796547889709473\n"
          ]
        },
        {
          "name": "stderr",
          "output_type": "stream",
          "text": [
            "WARNING:accelerate.utils.other:Removed shared tensor {'encoder.embed_tokens.weight', 'lm_head.weight', 'decoder.embed_tokens.weight'} while saving. This should be OK, but check by verifying that you don't receive any warning while reloading\n"
          ]
        },
        {
          "name": "stdout",
          "output_type": "stream",
          "text": [
            "The train loss after 15800 batches is: 5.560815811157227\n"
          ]
        },
        {
          "name": "stderr",
          "output_type": "stream",
          "text": [
            "WARNING:accelerate.utils.other:Removed shared tensor {'encoder.embed_tokens.weight', 'lm_head.weight', 'decoder.embed_tokens.weight'} while saving. This should be OK, but check by verifying that you don't receive any warning while reloading\n"
          ]
        },
        {
          "name": "stdout",
          "output_type": "stream",
          "text": [
            "The train loss after 15900 batches is: 5.687946319580078\n"
          ]
        },
        {
          "name": "stderr",
          "output_type": "stream",
          "text": [
            "WARNING:accelerate.utils.other:Removed shared tensor {'encoder.embed_tokens.weight', 'lm_head.weight', 'decoder.embed_tokens.weight'} while saving. This should be OK, but check by verifying that you don't receive any warning while reloading\n"
          ]
        },
        {
          "name": "stdout",
          "output_type": "stream",
          "text": [
            "The train loss after 16000 batches is: 5.612951755523682\n"
          ]
        },
        {
          "name": "stderr",
          "output_type": "stream",
          "text": [
            "WARNING:accelerate.utils.other:Removed shared tensor {'encoder.embed_tokens.weight', 'lm_head.weight', 'decoder.embed_tokens.weight'} while saving. This should be OK, but check by verifying that you don't receive any warning while reloading\n"
          ]
        },
        {
          "name": "stdout",
          "output_type": "stream",
          "text": [
            "The train loss after 16100 batches is: 5.550206184387207\n"
          ]
        },
        {
          "name": "stderr",
          "output_type": "stream",
          "text": [
            "WARNING:accelerate.utils.other:Removed shared tensor {'encoder.embed_tokens.weight', 'lm_head.weight', 'decoder.embed_tokens.weight'} while saving. This should be OK, but check by verifying that you don't receive any warning while reloading\n"
          ]
        },
        {
          "name": "stdout",
          "output_type": "stream",
          "text": [
            "The train loss after 16200 batches is: 5.6615729331970215\n"
          ]
        },
        {
          "name": "stderr",
          "output_type": "stream",
          "text": [
            "WARNING:accelerate.utils.other:Removed shared tensor {'encoder.embed_tokens.weight', 'lm_head.weight', 'decoder.embed_tokens.weight'} while saving. This should be OK, but check by verifying that you don't receive any warning while reloading\n"
          ]
        },
        {
          "name": "stdout",
          "output_type": "stream",
          "text": [
            "The train loss after 16300 batches is: 5.579744338989258\n"
          ]
        },
        {
          "name": "stderr",
          "output_type": "stream",
          "text": [
            "WARNING:accelerate.utils.other:Removed shared tensor {'encoder.embed_tokens.weight', 'lm_head.weight', 'decoder.embed_tokens.weight'} while saving. This should be OK, but check by verifying that you don't receive any warning while reloading\n"
          ]
        },
        {
          "name": "stdout",
          "output_type": "stream",
          "text": [
            "The train loss after 16400 batches is: 5.588640213012695\n"
          ]
        },
        {
          "name": "stderr",
          "output_type": "stream",
          "text": [
            "WARNING:accelerate.utils.other:Removed shared tensor {'encoder.embed_tokens.weight', 'lm_head.weight', 'decoder.embed_tokens.weight'} while saving. This should be OK, but check by verifying that you don't receive any warning while reloading\n"
          ]
        },
        {
          "name": "stdout",
          "output_type": "stream",
          "text": [
            "The train loss after 16500 batches is: 5.69268798828125\n"
          ]
        },
        {
          "name": "stderr",
          "output_type": "stream",
          "text": [
            "WARNING:accelerate.utils.other:Removed shared tensor {'encoder.embed_tokens.weight', 'lm_head.weight', 'decoder.embed_tokens.weight'} while saving. This should be OK, but check by verifying that you don't receive any warning while reloading\n"
          ]
        },
        {
          "name": "stdout",
          "output_type": "stream",
          "text": [
            "The train loss after 16600 batches is: 5.602654933929443\n"
          ]
        },
        {
          "name": "stderr",
          "output_type": "stream",
          "text": [
            "WARNING:accelerate.utils.other:Removed shared tensor {'encoder.embed_tokens.weight', 'lm_head.weight', 'decoder.embed_tokens.weight'} while saving. This should be OK, but check by verifying that you don't receive any warning while reloading\n"
          ]
        },
        {
          "name": "stdout",
          "output_type": "stream",
          "text": [
            "The train loss after 16700 batches is: 5.533722877502441\n"
          ]
        },
        {
          "name": "stderr",
          "output_type": "stream",
          "text": [
            "WARNING:accelerate.utils.other:Removed shared tensor {'encoder.embed_tokens.weight', 'lm_head.weight', 'decoder.embed_tokens.weight'} while saving. This should be OK, but check by verifying that you don't receive any warning while reloading\n"
          ]
        },
        {
          "name": "stdout",
          "output_type": "stream",
          "text": [
            "The train loss after 16800 batches is: 5.514621257781982\n"
          ]
        },
        {
          "name": "stderr",
          "output_type": "stream",
          "text": [
            "WARNING:accelerate.utils.other:Removed shared tensor {'encoder.embed_tokens.weight', 'lm_head.weight', 'decoder.embed_tokens.weight'} while saving. This should be OK, but check by verifying that you don't receive any warning while reloading\n"
          ]
        },
        {
          "name": "stdout",
          "output_type": "stream",
          "text": [
            "The train loss after 16900 batches is: 5.57498025894165\n"
          ]
        },
        {
          "name": "stderr",
          "output_type": "stream",
          "text": [
            "WARNING:accelerate.utils.other:Removed shared tensor {'encoder.embed_tokens.weight', 'lm_head.weight', 'decoder.embed_tokens.weight'} while saving. This should be OK, but check by verifying that you don't receive any warning while reloading\n"
          ]
        },
        {
          "name": "stdout",
          "output_type": "stream",
          "text": [
            "The train loss after 17000 batches is: 5.395508289337158\n"
          ]
        },
        {
          "name": "stderr",
          "output_type": "stream",
          "text": [
            "WARNING:accelerate.utils.other:Removed shared tensor {'encoder.embed_tokens.weight', 'lm_head.weight', 'decoder.embed_tokens.weight'} while saving. This should be OK, but check by verifying that you don't receive any warning while reloading\n"
          ]
        },
        {
          "name": "stdout",
          "output_type": "stream",
          "text": [
            "The train loss after 17100 batches is: 5.540371894836426\n"
          ]
        },
        {
          "name": "stderr",
          "output_type": "stream",
          "text": [
            "WARNING:accelerate.utils.other:Removed shared tensor {'encoder.embed_tokens.weight', 'lm_head.weight', 'decoder.embed_tokens.weight'} while saving. This should be OK, but check by verifying that you don't receive any warning while reloading\n"
          ]
        },
        {
          "name": "stdout",
          "output_type": "stream",
          "text": [
            "The train loss after 17200 batches is: 5.685665607452393\n"
          ]
        },
        {
          "name": "stderr",
          "output_type": "stream",
          "text": [
            "WARNING:accelerate.utils.other:Removed shared tensor {'encoder.embed_tokens.weight', 'lm_head.weight', 'decoder.embed_tokens.weight'} while saving. This should be OK, but check by verifying that you don't receive any warning while reloading\n"
          ]
        },
        {
          "name": "stdout",
          "output_type": "stream",
          "text": [
            "The train loss after 17300 batches is: 5.684194087982178\n"
          ]
        },
        {
          "name": "stderr",
          "output_type": "stream",
          "text": [
            "WARNING:accelerate.utils.other:Removed shared tensor {'encoder.embed_tokens.weight', 'lm_head.weight', 'decoder.embed_tokens.weight'} while saving. This should be OK, but check by verifying that you don't receive any warning while reloading\n"
          ]
        },
        {
          "name": "stdout",
          "output_type": "stream",
          "text": [
            "The train loss after 17400 batches is: 5.66119384765625\n"
          ]
        },
        {
          "name": "stderr",
          "output_type": "stream",
          "text": [
            "WARNING:accelerate.utils.other:Removed shared tensor {'encoder.embed_tokens.weight', 'lm_head.weight', 'decoder.embed_tokens.weight'} while saving. This should be OK, but check by verifying that you don't receive any warning while reloading\n"
          ]
        },
        {
          "name": "stdout",
          "output_type": "stream",
          "text": [
            "The train loss after 17500 batches is: 5.675906658172607\n"
          ]
        },
        {
          "name": "stderr",
          "output_type": "stream",
          "text": [
            "WARNING:accelerate.utils.other:Removed shared tensor {'encoder.embed_tokens.weight', 'lm_head.weight', 'decoder.embed_tokens.weight'} while saving. This should be OK, but check by verifying that you don't receive any warning while reloading\n"
          ]
        },
        {
          "name": "stdout",
          "output_type": "stream",
          "text": [
            "The train loss after 17600 batches is: 5.65369176864624\n"
          ]
        },
        {
          "name": "stderr",
          "output_type": "stream",
          "text": [
            "WARNING:accelerate.utils.other:Removed shared tensor {'encoder.embed_tokens.weight', 'lm_head.weight', 'decoder.embed_tokens.weight'} while saving. This should be OK, but check by verifying that you don't receive any warning while reloading\n"
          ]
        },
        {
          "name": "stdout",
          "output_type": "stream",
          "text": [
            "The train loss after 17700 batches is: 5.6656999588012695\n"
          ]
        },
        {
          "name": "stderr",
          "output_type": "stream",
          "text": [
            "WARNING:accelerate.utils.other:Removed shared tensor {'encoder.embed_tokens.weight', 'lm_head.weight', 'decoder.embed_tokens.weight'} while saving. This should be OK, but check by verifying that you don't receive any warning while reloading\n"
          ]
        },
        {
          "name": "stdout",
          "output_type": "stream",
          "text": [
            "The train loss after 17800 batches is: 5.42915678024292\n",
            "Average test loss after epoch 2: 5.488414653401444 \n",
            "\n",
            "Beginning epoch: 3\n"
          ]
        },
        {
          "name": "stderr",
          "output_type": "stream",
          "text": [
            "WARNING:accelerate.utils.other:Removed shared tensor {'encoder.embed_tokens.weight', 'lm_head.weight', 'decoder.embed_tokens.weight'} while saving. This should be OK, but check by verifying that you don't receive any warning while reloading\n"
          ]
        },
        {
          "name": "stdout",
          "output_type": "stream",
          "text": [
            "The train loss after 17900 batches is: 5.722805500030518\n"
          ]
        },
        {
          "name": "stderr",
          "output_type": "stream",
          "text": [
            "WARNING:accelerate.utils.other:Removed shared tensor {'encoder.embed_tokens.weight', 'lm_head.weight', 'decoder.embed_tokens.weight'} while saving. This should be OK, but check by verifying that you don't receive any warning while reloading\n"
          ]
        },
        {
          "name": "stdout",
          "output_type": "stream",
          "text": [
            "The train loss after 18000 batches is: 5.599557876586914\n"
          ]
        },
        {
          "name": "stderr",
          "output_type": "stream",
          "text": [
            "WARNING:accelerate.utils.other:Removed shared tensor {'encoder.embed_tokens.weight', 'lm_head.weight', 'decoder.embed_tokens.weight'} while saving. This should be OK, but check by verifying that you don't receive any warning while reloading\n"
          ]
        },
        {
          "name": "stdout",
          "output_type": "stream",
          "text": [
            "The train loss after 18100 batches is: 5.522079944610596\n"
          ]
        },
        {
          "name": "stderr",
          "output_type": "stream",
          "text": [
            "WARNING:accelerate.utils.other:Removed shared tensor {'encoder.embed_tokens.weight', 'lm_head.weight', 'decoder.embed_tokens.weight'} while saving. This should be OK, but check by verifying that you don't receive any warning while reloading\n"
          ]
        },
        {
          "name": "stdout",
          "output_type": "stream",
          "text": [
            "The train loss after 18200 batches is: 5.71864652633667\n"
          ]
        },
        {
          "name": "stderr",
          "output_type": "stream",
          "text": [
            "WARNING:accelerate.utils.other:Removed shared tensor {'encoder.embed_tokens.weight', 'lm_head.weight', 'decoder.embed_tokens.weight'} while saving. This should be OK, but check by verifying that you don't receive any warning while reloading\n"
          ]
        },
        {
          "name": "stdout",
          "output_type": "stream",
          "text": [
            "The train loss after 18300 batches is: 5.536969184875488\n"
          ]
        },
        {
          "name": "stderr",
          "output_type": "stream",
          "text": [
            "WARNING:accelerate.utils.other:Removed shared tensor {'encoder.embed_tokens.weight', 'lm_head.weight', 'decoder.embed_tokens.weight'} while saving. This should be OK, but check by verifying that you don't receive any warning while reloading\n"
          ]
        },
        {
          "name": "stdout",
          "output_type": "stream",
          "text": [
            "The train loss after 18400 batches is: 5.582062244415283\n"
          ]
        },
        {
          "name": "stderr",
          "output_type": "stream",
          "text": [
            "WARNING:accelerate.utils.other:Removed shared tensor {'encoder.embed_tokens.weight', 'lm_head.weight', 'decoder.embed_tokens.weight'} while saving. This should be OK, but check by verifying that you don't receive any warning while reloading\n"
          ]
        },
        {
          "name": "stdout",
          "output_type": "stream",
          "text": [
            "The train loss after 18500 batches is: 5.469666004180908\n"
          ]
        },
        {
          "name": "stderr",
          "output_type": "stream",
          "text": [
            "WARNING:accelerate.utils.other:Removed shared tensor {'encoder.embed_tokens.weight', 'lm_head.weight', 'decoder.embed_tokens.weight'} while saving. This should be OK, but check by verifying that you don't receive any warning while reloading\n"
          ]
        },
        {
          "name": "stdout",
          "output_type": "stream",
          "text": [
            "The train loss after 18600 batches is: 5.54634428024292\n"
          ]
        },
        {
          "name": "stderr",
          "output_type": "stream",
          "text": [
            "WARNING:accelerate.utils.other:Removed shared tensor {'encoder.embed_tokens.weight', 'lm_head.weight', 'decoder.embed_tokens.weight'} while saving. This should be OK, but check by verifying that you don't receive any warning while reloading\n"
          ]
        },
        {
          "name": "stdout",
          "output_type": "stream",
          "text": [
            "The train loss after 18700 batches is: 5.707618713378906\n"
          ]
        },
        {
          "name": "stderr",
          "output_type": "stream",
          "text": [
            "WARNING:accelerate.utils.other:Removed shared tensor {'encoder.embed_tokens.weight', 'lm_head.weight', 'decoder.embed_tokens.weight'} while saving. This should be OK, but check by verifying that you don't receive any warning while reloading\n"
          ]
        },
        {
          "name": "stdout",
          "output_type": "stream",
          "text": [
            "The train loss after 18800 batches is: 5.40160608291626\n"
          ]
        },
        {
          "name": "stderr",
          "output_type": "stream",
          "text": [
            "WARNING:accelerate.utils.other:Removed shared tensor {'encoder.embed_tokens.weight', 'lm_head.weight', 'decoder.embed_tokens.weight'} while saving. This should be OK, but check by verifying that you don't receive any warning while reloading\n"
          ]
        },
        {
          "name": "stdout",
          "output_type": "stream",
          "text": [
            "The train loss after 18900 batches is: 5.744106769561768\n"
          ]
        },
        {
          "name": "stderr",
          "output_type": "stream",
          "text": [
            "WARNING:accelerate.utils.other:Removed shared tensor {'encoder.embed_tokens.weight', 'lm_head.weight', 'decoder.embed_tokens.weight'} while saving. This should be OK, but check by verifying that you don't receive any warning while reloading\n"
          ]
        },
        {
          "name": "stdout",
          "output_type": "stream",
          "text": [
            "The train loss after 19000 batches is: 5.336950302124023\n"
          ]
        },
        {
          "name": "stderr",
          "output_type": "stream",
          "text": [
            "WARNING:accelerate.utils.other:Removed shared tensor {'encoder.embed_tokens.weight', 'lm_head.weight', 'decoder.embed_tokens.weight'} while saving. This should be OK, but check by verifying that you don't receive any warning while reloading\n"
          ]
        },
        {
          "name": "stdout",
          "output_type": "stream",
          "text": [
            "The train loss after 19100 batches is: 5.667201519012451\n"
          ]
        },
        {
          "name": "stderr",
          "output_type": "stream",
          "text": [
            "WARNING:accelerate.utils.other:Removed shared tensor {'encoder.embed_tokens.weight', 'lm_head.weight', 'decoder.embed_tokens.weight'} while saving. This should be OK, but check by verifying that you don't receive any warning while reloading\n"
          ]
        },
        {
          "name": "stdout",
          "output_type": "stream",
          "text": [
            "The train loss after 19200 batches is: 5.636989116668701\n"
          ]
        },
        {
          "name": "stderr",
          "output_type": "stream",
          "text": [
            "WARNING:accelerate.utils.other:Removed shared tensor {'encoder.embed_tokens.weight', 'lm_head.weight', 'decoder.embed_tokens.weight'} while saving. This should be OK, but check by verifying that you don't receive any warning while reloading\n"
          ]
        },
        {
          "name": "stdout",
          "output_type": "stream",
          "text": [
            "The train loss after 19300 batches is: 5.513853073120117\n"
          ]
        },
        {
          "name": "stderr",
          "output_type": "stream",
          "text": [
            "WARNING:accelerate.utils.other:Removed shared tensor {'encoder.embed_tokens.weight', 'lm_head.weight', 'decoder.embed_tokens.weight'} while saving. This should be OK, but check by verifying that you don't receive any warning while reloading\n"
          ]
        },
        {
          "name": "stdout",
          "output_type": "stream",
          "text": [
            "The train loss after 19400 batches is: 5.50349760055542\n"
          ]
        },
        {
          "name": "stderr",
          "output_type": "stream",
          "text": [
            "WARNING:accelerate.utils.other:Removed shared tensor {'encoder.embed_tokens.weight', 'lm_head.weight', 'decoder.embed_tokens.weight'} while saving. This should be OK, but check by verifying that you don't receive any warning while reloading\n"
          ]
        },
        {
          "name": "stdout",
          "output_type": "stream",
          "text": [
            "The train loss after 19500 batches is: 5.438122272491455\n"
          ]
        },
        {
          "name": "stderr",
          "output_type": "stream",
          "text": [
            "WARNING:accelerate.utils.other:Removed shared tensor {'encoder.embed_tokens.weight', 'lm_head.weight', 'decoder.embed_tokens.weight'} while saving. This should be OK, but check by verifying that you don't receive any warning while reloading\n"
          ]
        },
        {
          "name": "stdout",
          "output_type": "stream",
          "text": [
            "The train loss after 19600 batches is: 5.572107315063477\n"
          ]
        },
        {
          "name": "stderr",
          "output_type": "stream",
          "text": [
            "WARNING:accelerate.utils.other:Removed shared tensor {'encoder.embed_tokens.weight', 'lm_head.weight', 'decoder.embed_tokens.weight'} while saving. This should be OK, but check by verifying that you don't receive any warning while reloading\n"
          ]
        },
        {
          "name": "stdout",
          "output_type": "stream",
          "text": [
            "The train loss after 19700 batches is: 5.565700054168701\n"
          ]
        },
        {
          "name": "stderr",
          "output_type": "stream",
          "text": [
            "WARNING:accelerate.utils.other:Removed shared tensor {'encoder.embed_tokens.weight', 'lm_head.weight', 'decoder.embed_tokens.weight'} while saving. This should be OK, but check by verifying that you don't receive any warning while reloading\n"
          ]
        },
        {
          "name": "stdout",
          "output_type": "stream",
          "text": [
            "The train loss after 19800 batches is: 5.497678756713867\n"
          ]
        },
        {
          "name": "stderr",
          "output_type": "stream",
          "text": [
            "WARNING:accelerate.utils.other:Removed shared tensor {'encoder.embed_tokens.weight', 'lm_head.weight', 'decoder.embed_tokens.weight'} while saving. This should be OK, but check by verifying that you don't receive any warning while reloading\n"
          ]
        },
        {
          "name": "stdout",
          "output_type": "stream",
          "text": [
            "The train loss after 19900 batches is: 5.611058235168457\n"
          ]
        },
        {
          "name": "stderr",
          "output_type": "stream",
          "text": [
            "WARNING:accelerate.utils.other:Removed shared tensor {'encoder.embed_tokens.weight', 'lm_head.weight', 'decoder.embed_tokens.weight'} while saving. This should be OK, but check by verifying that you don't receive any warning while reloading\n"
          ]
        },
        {
          "name": "stdout",
          "output_type": "stream",
          "text": [
            "The train loss after 20000 batches is: 5.547273635864258\n"
          ]
        },
        {
          "name": "stderr",
          "output_type": "stream",
          "text": [
            "WARNING:accelerate.utils.other:Removed shared tensor {'encoder.embed_tokens.weight', 'lm_head.weight', 'decoder.embed_tokens.weight'} while saving. This should be OK, but check by verifying that you don't receive any warning while reloading\n"
          ]
        },
        {
          "name": "stdout",
          "output_type": "stream",
          "text": [
            "The train loss after 20100 batches is: 5.5130934715271\n"
          ]
        },
        {
          "name": "stderr",
          "output_type": "stream",
          "text": [
            "WARNING:accelerate.utils.other:Removed shared tensor {'encoder.embed_tokens.weight', 'lm_head.weight', 'decoder.embed_tokens.weight'} while saving. This should be OK, but check by verifying that you don't receive any warning while reloading\n"
          ]
        },
        {
          "name": "stdout",
          "output_type": "stream",
          "text": [
            "The train loss after 20200 batches is: 5.529122829437256\n"
          ]
        },
        {
          "name": "stderr",
          "output_type": "stream",
          "text": [
            "WARNING:accelerate.utils.other:Removed shared tensor {'encoder.embed_tokens.weight', 'lm_head.weight', 'decoder.embed_tokens.weight'} while saving. This should be OK, but check by verifying that you don't receive any warning while reloading\n"
          ]
        },
        {
          "name": "stdout",
          "output_type": "stream",
          "text": [
            "The train loss after 20300 batches is: 5.684083938598633\n"
          ]
        },
        {
          "name": "stderr",
          "output_type": "stream",
          "text": [
            "WARNING:accelerate.utils.other:Removed shared tensor {'encoder.embed_tokens.weight', 'lm_head.weight', 'decoder.embed_tokens.weight'} while saving. This should be OK, but check by verifying that you don't receive any warning while reloading\n"
          ]
        },
        {
          "name": "stdout",
          "output_type": "stream",
          "text": [
            "The train loss after 20400 batches is: 5.529684543609619\n"
          ]
        },
        {
          "name": "stderr",
          "output_type": "stream",
          "text": [
            "WARNING:accelerate.utils.other:Removed shared tensor {'encoder.embed_tokens.weight', 'lm_head.weight', 'decoder.embed_tokens.weight'} while saving. This should be OK, but check by verifying that you don't receive any warning while reloading\n"
          ]
        },
        {
          "name": "stdout",
          "output_type": "stream",
          "text": [
            "The train loss after 20500 batches is: 5.527307987213135\n"
          ]
        },
        {
          "name": "stderr",
          "output_type": "stream",
          "text": [
            "WARNING:accelerate.utils.other:Removed shared tensor {'encoder.embed_tokens.weight', 'lm_head.weight', 'decoder.embed_tokens.weight'} while saving. This should be OK, but check by verifying that you don't receive any warning while reloading\n"
          ]
        },
        {
          "name": "stdout",
          "output_type": "stream",
          "text": [
            "The train loss after 20600 batches is: 5.5636677742004395\n"
          ]
        },
        {
          "name": "stderr",
          "output_type": "stream",
          "text": [
            "WARNING:accelerate.utils.other:Removed shared tensor {'encoder.embed_tokens.weight', 'lm_head.weight', 'decoder.embed_tokens.weight'} while saving. This should be OK, but check by verifying that you don't receive any warning while reloading\n"
          ]
        },
        {
          "name": "stdout",
          "output_type": "stream",
          "text": [
            "The train loss after 20700 batches is: 5.419538974761963\n"
          ]
        },
        {
          "name": "stderr",
          "output_type": "stream",
          "text": [
            "WARNING:accelerate.utils.other:Removed shared tensor {'encoder.embed_tokens.weight', 'lm_head.weight', 'decoder.embed_tokens.weight'} while saving. This should be OK, but check by verifying that you don't receive any warning while reloading\n"
          ]
        },
        {
          "name": "stdout",
          "output_type": "stream",
          "text": [
            "The train loss after 20800 batches is: 5.417291641235352\n"
          ]
        },
        {
          "name": "stderr",
          "output_type": "stream",
          "text": [
            "WARNING:accelerate.utils.other:Removed shared tensor {'encoder.embed_tokens.weight', 'lm_head.weight', 'decoder.embed_tokens.weight'} while saving. This should be OK, but check by verifying that you don't receive any warning while reloading\n"
          ]
        },
        {
          "name": "stdout",
          "output_type": "stream",
          "text": [
            "The train loss after 20900 batches is: 5.464641571044922\n"
          ]
        },
        {
          "name": "stderr",
          "output_type": "stream",
          "text": [
            "WARNING:accelerate.utils.other:Removed shared tensor {'encoder.embed_tokens.weight', 'lm_head.weight', 'decoder.embed_tokens.weight'} while saving. This should be OK, but check by verifying that you don't receive any warning while reloading\n"
          ]
        },
        {
          "name": "stdout",
          "output_type": "stream",
          "text": [
            "The train loss after 21000 batches is: 5.543519973754883\n"
          ]
        },
        {
          "name": "stderr",
          "output_type": "stream",
          "text": [
            "WARNING:accelerate.utils.other:Removed shared tensor {'encoder.embed_tokens.weight', 'lm_head.weight', 'decoder.embed_tokens.weight'} while saving. This should be OK, but check by verifying that you don't receive any warning while reloading\n"
          ]
        },
        {
          "name": "stdout",
          "output_type": "stream",
          "text": [
            "The train loss after 21100 batches is: 5.520951271057129\n"
          ]
        },
        {
          "name": "stderr",
          "output_type": "stream",
          "text": [
            "WARNING:accelerate.utils.other:Removed shared tensor {'encoder.embed_tokens.weight', 'lm_head.weight', 'decoder.embed_tokens.weight'} while saving. This should be OK, but check by verifying that you don't receive any warning while reloading\n"
          ]
        },
        {
          "name": "stdout",
          "output_type": "stream",
          "text": [
            "The train loss after 21200 batches is: 5.459095001220703\n"
          ]
        },
        {
          "name": "stderr",
          "output_type": "stream",
          "text": [
            "WARNING:accelerate.utils.other:Removed shared tensor {'encoder.embed_tokens.weight', 'lm_head.weight', 'decoder.embed_tokens.weight'} while saving. This should be OK, but check by verifying that you don't receive any warning while reloading\n"
          ]
        },
        {
          "name": "stdout",
          "output_type": "stream",
          "text": [
            "The train loss after 21300 batches is: 5.459914207458496\n"
          ]
        },
        {
          "name": "stderr",
          "output_type": "stream",
          "text": [
            "WARNING:accelerate.utils.other:Removed shared tensor {'encoder.embed_tokens.weight', 'lm_head.weight', 'decoder.embed_tokens.weight'} while saving. This should be OK, but check by verifying that you don't receive any warning while reloading\n"
          ]
        },
        {
          "name": "stdout",
          "output_type": "stream",
          "text": [
            "The train loss after 21400 batches is: 5.451303005218506\n"
          ]
        },
        {
          "name": "stderr",
          "output_type": "stream",
          "text": [
            "WARNING:accelerate.utils.other:Removed shared tensor {'encoder.embed_tokens.weight', 'lm_head.weight', 'decoder.embed_tokens.weight'} while saving. This should be OK, but check by verifying that you don't receive any warning while reloading\n"
          ]
        },
        {
          "name": "stdout",
          "output_type": "stream",
          "text": [
            "The train loss after 21500 batches is: 5.623291969299316\n"
          ]
        },
        {
          "name": "stderr",
          "output_type": "stream",
          "text": [
            "WARNING:accelerate.utils.other:Removed shared tensor {'encoder.embed_tokens.weight', 'lm_head.weight', 'decoder.embed_tokens.weight'} while saving. This should be OK, but check by verifying that you don't receive any warning while reloading\n"
          ]
        },
        {
          "name": "stdout",
          "output_type": "stream",
          "text": [
            "The train loss after 21600 batches is: 5.642099380493164\n"
          ]
        },
        {
          "name": "stderr",
          "output_type": "stream",
          "text": [
            "WARNING:accelerate.utils.other:Removed shared tensor {'encoder.embed_tokens.weight', 'lm_head.weight', 'decoder.embed_tokens.weight'} while saving. This should be OK, but check by verifying that you don't receive any warning while reloading\n"
          ]
        },
        {
          "name": "stdout",
          "output_type": "stream",
          "text": [
            "The train loss after 21700 batches is: 5.478429317474365\n"
          ]
        },
        {
          "name": "stderr",
          "output_type": "stream",
          "text": [
            "WARNING:accelerate.utils.other:Removed shared tensor {'encoder.embed_tokens.weight', 'lm_head.weight', 'decoder.embed_tokens.weight'} while saving. This should be OK, but check by verifying that you don't receive any warning while reloading\n"
          ]
        },
        {
          "name": "stdout",
          "output_type": "stream",
          "text": [
            "The train loss after 21800 batches is: 5.499906539916992\n"
          ]
        },
        {
          "name": "stderr",
          "output_type": "stream",
          "text": [
            "WARNING:accelerate.utils.other:Removed shared tensor {'encoder.embed_tokens.weight', 'lm_head.weight', 'decoder.embed_tokens.weight'} while saving. This should be OK, but check by verifying that you don't receive any warning while reloading\n"
          ]
        },
        {
          "name": "stdout",
          "output_type": "stream",
          "text": [
            "The train loss after 21900 batches is: 5.465245246887207\n"
          ]
        },
        {
          "name": "stderr",
          "output_type": "stream",
          "text": [
            "WARNING:accelerate.utils.other:Removed shared tensor {'encoder.embed_tokens.weight', 'lm_head.weight', 'decoder.embed_tokens.weight'} while saving. This should be OK, but check by verifying that you don't receive any warning while reloading\n"
          ]
        },
        {
          "name": "stdout",
          "output_type": "stream",
          "text": [
            "The train loss after 22000 batches is: 5.547756195068359\n"
          ]
        },
        {
          "name": "stderr",
          "output_type": "stream",
          "text": [
            "WARNING:accelerate.utils.other:Removed shared tensor {'encoder.embed_tokens.weight', 'lm_head.weight', 'decoder.embed_tokens.weight'} while saving. This should be OK, but check by verifying that you don't receive any warning while reloading\n"
          ]
        },
        {
          "name": "stdout",
          "output_type": "stream",
          "text": [
            "The train loss after 22100 batches is: 5.386806488037109\n"
          ]
        },
        {
          "name": "stderr",
          "output_type": "stream",
          "text": [
            "WARNING:accelerate.utils.other:Removed shared tensor {'encoder.embed_tokens.weight', 'lm_head.weight', 'decoder.embed_tokens.weight'} while saving. This should be OK, but check by verifying that you don't receive any warning while reloading\n"
          ]
        },
        {
          "name": "stdout",
          "output_type": "stream",
          "text": [
            "The train loss after 22200 batches is: 5.700200080871582\n"
          ]
        },
        {
          "name": "stderr",
          "output_type": "stream",
          "text": [
            "WARNING:accelerate.utils.other:Removed shared tensor {'encoder.embed_tokens.weight', 'lm_head.weight', 'decoder.embed_tokens.weight'} while saving. This should be OK, but check by verifying that you don't receive any warning while reloading\n"
          ]
        },
        {
          "name": "stdout",
          "output_type": "stream",
          "text": [
            "The train loss after 22300 batches is: 5.440499782562256\n"
          ]
        },
        {
          "name": "stderr",
          "output_type": "stream",
          "text": [
            "WARNING:accelerate.utils.other:Removed shared tensor {'encoder.embed_tokens.weight', 'lm_head.weight', 'decoder.embed_tokens.weight'} while saving. This should be OK, but check by verifying that you don't receive any warning while reloading\n"
          ]
        },
        {
          "name": "stdout",
          "output_type": "stream",
          "text": [
            "The train loss after 22400 batches is: 5.4628424644470215\n"
          ]
        },
        {
          "name": "stderr",
          "output_type": "stream",
          "text": [
            "WARNING:accelerate.utils.other:Removed shared tensor {'encoder.embed_tokens.weight', 'lm_head.weight', 'decoder.embed_tokens.weight'} while saving. This should be OK, but check by verifying that you don't receive any warning while reloading\n"
          ]
        },
        {
          "name": "stdout",
          "output_type": "stream",
          "text": [
            "The train loss after 22500 batches is: 5.32872200012207\n"
          ]
        },
        {
          "name": "stderr",
          "output_type": "stream",
          "text": [
            "WARNING:accelerate.utils.other:Removed shared tensor {'encoder.embed_tokens.weight', 'lm_head.weight', 'decoder.embed_tokens.weight'} while saving. This should be OK, but check by verifying that you don't receive any warning while reloading\n"
          ]
        },
        {
          "name": "stdout",
          "output_type": "stream",
          "text": [
            "The train loss after 22600 batches is: 5.306259632110596\n"
          ]
        },
        {
          "name": "stderr",
          "output_type": "stream",
          "text": [
            "WARNING:accelerate.utils.other:Removed shared tensor {'encoder.embed_tokens.weight', 'lm_head.weight', 'decoder.embed_tokens.weight'} while saving. This should be OK, but check by verifying that you don't receive any warning while reloading\n"
          ]
        },
        {
          "name": "stdout",
          "output_type": "stream",
          "text": [
            "The train loss after 22700 batches is: 5.430745601654053\n"
          ]
        },
        {
          "name": "stderr",
          "output_type": "stream",
          "text": [
            "WARNING:accelerate.utils.other:Removed shared tensor {'encoder.embed_tokens.weight', 'lm_head.weight', 'decoder.embed_tokens.weight'} while saving. This should be OK, but check by verifying that you don't receive any warning while reloading\n"
          ]
        },
        {
          "name": "stdout",
          "output_type": "stream",
          "text": [
            "The train loss after 22800 batches is: 5.50385856628418\n"
          ]
        },
        {
          "name": "stderr",
          "output_type": "stream",
          "text": [
            "WARNING:accelerate.utils.other:Removed shared tensor {'encoder.embed_tokens.weight', 'lm_head.weight', 'decoder.embed_tokens.weight'} while saving. This should be OK, but check by verifying that you don't receive any warning while reloading\n"
          ]
        },
        {
          "name": "stdout",
          "output_type": "stream",
          "text": [
            "The train loss after 22900 batches is: 5.542825698852539\n"
          ]
        },
        {
          "name": "stderr",
          "output_type": "stream",
          "text": [
            "WARNING:accelerate.utils.other:Removed shared tensor {'encoder.embed_tokens.weight', 'lm_head.weight', 'decoder.embed_tokens.weight'} while saving. This should be OK, but check by verifying that you don't receive any warning while reloading\n"
          ]
        },
        {
          "name": "stdout",
          "output_type": "stream",
          "text": [
            "The train loss after 23000 batches is: 5.427102088928223\n"
          ]
        },
        {
          "name": "stderr",
          "output_type": "stream",
          "text": [
            "WARNING:accelerate.utils.other:Removed shared tensor {'encoder.embed_tokens.weight', 'lm_head.weight', 'decoder.embed_tokens.weight'} while saving. This should be OK, but check by verifying that you don't receive any warning while reloading\n"
          ]
        },
        {
          "name": "stdout",
          "output_type": "stream",
          "text": [
            "The train loss after 23100 batches is: 5.438210964202881\n"
          ]
        },
        {
          "name": "stderr",
          "output_type": "stream",
          "text": [
            "WARNING:accelerate.utils.other:Removed shared tensor {'encoder.embed_tokens.weight', 'lm_head.weight', 'decoder.embed_tokens.weight'} while saving. This should be OK, but check by verifying that you don't receive any warning while reloading\n"
          ]
        },
        {
          "name": "stdout",
          "output_type": "stream",
          "text": [
            "The train loss after 23200 batches is: 5.361327171325684\n"
          ]
        },
        {
          "name": "stderr",
          "output_type": "stream",
          "text": [
            "WARNING:accelerate.utils.other:Removed shared tensor {'encoder.embed_tokens.weight', 'lm_head.weight', 'decoder.embed_tokens.weight'} while saving. This should be OK, but check by verifying that you don't receive any warning while reloading\n"
          ]
        },
        {
          "name": "stdout",
          "output_type": "stream",
          "text": [
            "The train loss after 23300 batches is: 5.504112720489502\n"
          ]
        },
        {
          "name": "stderr",
          "output_type": "stream",
          "text": [
            "WARNING:accelerate.utils.other:Removed shared tensor {'encoder.embed_tokens.weight', 'lm_head.weight', 'decoder.embed_tokens.weight'} while saving. This should be OK, but check by verifying that you don't receive any warning while reloading\n"
          ]
        },
        {
          "name": "stdout",
          "output_type": "stream",
          "text": [
            "The train loss after 23400 batches is: 5.460913181304932\n"
          ]
        },
        {
          "name": "stderr",
          "output_type": "stream",
          "text": [
            "WARNING:accelerate.utils.other:Removed shared tensor {'encoder.embed_tokens.weight', 'lm_head.weight', 'decoder.embed_tokens.weight'} while saving. This should be OK, but check by verifying that you don't receive any warning while reloading\n"
          ]
        },
        {
          "name": "stdout",
          "output_type": "stream",
          "text": [
            "The train loss after 23500 batches is: 5.414729595184326\n"
          ]
        },
        {
          "name": "stderr",
          "output_type": "stream",
          "text": [
            "WARNING:accelerate.utils.other:Removed shared tensor {'encoder.embed_tokens.weight', 'lm_head.weight', 'decoder.embed_tokens.weight'} while saving. This should be OK, but check by verifying that you don't receive any warning while reloading\n"
          ]
        },
        {
          "name": "stdout",
          "output_type": "stream",
          "text": [
            "The train loss after 23600 batches is: 5.22133207321167\n"
          ]
        },
        {
          "name": "stderr",
          "output_type": "stream",
          "text": [
            "WARNING:accelerate.utils.other:Removed shared tensor {'encoder.embed_tokens.weight', 'lm_head.weight', 'decoder.embed_tokens.weight'} while saving. This should be OK, but check by verifying that you don't receive any warning while reloading\n"
          ]
        },
        {
          "name": "stdout",
          "output_type": "stream",
          "text": [
            "The train loss after 23700 batches is: 5.50567102432251\n"
          ]
        },
        {
          "name": "stderr",
          "output_type": "stream",
          "text": [
            "WARNING:accelerate.utils.other:Removed shared tensor {'encoder.embed_tokens.weight', 'lm_head.weight', 'decoder.embed_tokens.weight'} while saving. This should be OK, but check by verifying that you don't receive any warning while reloading\n"
          ]
        },
        {
          "name": "stdout",
          "output_type": "stream",
          "text": [
            "The train loss after 23800 batches is: 5.376563549041748\n"
          ]
        },
        {
          "name": "stderr",
          "output_type": "stream",
          "text": [
            "WARNING:accelerate.utils.other:Removed shared tensor {'encoder.embed_tokens.weight', 'lm_head.weight', 'decoder.embed_tokens.weight'} while saving. This should be OK, but check by verifying that you don't receive any warning while reloading\n"
          ]
        },
        {
          "name": "stdout",
          "output_type": "stream",
          "text": [
            "The train loss after 23900 batches is: 5.510520935058594\n"
          ]
        },
        {
          "name": "stderr",
          "output_type": "stream",
          "text": [
            "WARNING:accelerate.utils.other:Removed shared tensor {'encoder.embed_tokens.weight', 'lm_head.weight', 'decoder.embed_tokens.weight'} while saving. This should be OK, but check by verifying that you don't receive any warning while reloading\n"
          ]
        },
        {
          "name": "stdout",
          "output_type": "stream",
          "text": [
            "The train loss after 24000 batches is: 5.354579448699951\n"
          ]
        },
        {
          "name": "stderr",
          "output_type": "stream",
          "text": [
            "WARNING:accelerate.utils.other:Removed shared tensor {'encoder.embed_tokens.weight', 'lm_head.weight', 'decoder.embed_tokens.weight'} while saving. This should be OK, but check by verifying that you don't receive any warning while reloading\n"
          ]
        },
        {
          "name": "stdout",
          "output_type": "stream",
          "text": [
            "The train loss after 24100 batches is: 5.287727355957031\n"
          ]
        },
        {
          "name": "stderr",
          "output_type": "stream",
          "text": [
            "WARNING:accelerate.utils.other:Removed shared tensor {'encoder.embed_tokens.weight', 'lm_head.weight', 'decoder.embed_tokens.weight'} while saving. This should be OK, but check by verifying that you don't receive any warning while reloading\n"
          ]
        },
        {
          "name": "stdout",
          "output_type": "stream",
          "text": [
            "The train loss after 24200 batches is: 5.463893413543701\n"
          ]
        },
        {
          "name": "stderr",
          "output_type": "stream",
          "text": [
            "WARNING:accelerate.utils.other:Removed shared tensor {'encoder.embed_tokens.weight', 'lm_head.weight', 'decoder.embed_tokens.weight'} while saving. This should be OK, but check by verifying that you don't receive any warning while reloading\n"
          ]
        },
        {
          "name": "stdout",
          "output_type": "stream",
          "text": [
            "The train loss after 24300 batches is: 5.472977161407471\n"
          ]
        },
        {
          "name": "stderr",
          "output_type": "stream",
          "text": [
            "WARNING:accelerate.utils.other:Removed shared tensor {'encoder.embed_tokens.weight', 'lm_head.weight', 'decoder.embed_tokens.weight'} while saving. This should be OK, but check by verifying that you don't receive any warning while reloading\n"
          ]
        },
        {
          "name": "stdout",
          "output_type": "stream",
          "text": [
            "The train loss after 24400 batches is: 5.503170967102051\n"
          ]
        },
        {
          "name": "stderr",
          "output_type": "stream",
          "text": [
            "WARNING:accelerate.utils.other:Removed shared tensor {'encoder.embed_tokens.weight', 'lm_head.weight', 'decoder.embed_tokens.weight'} while saving. This should be OK, but check by verifying that you don't receive any warning while reloading\n"
          ]
        },
        {
          "name": "stdout",
          "output_type": "stream",
          "text": [
            "The train loss after 24500 batches is: 5.3086628913879395\n"
          ]
        },
        {
          "name": "stderr",
          "output_type": "stream",
          "text": [
            "WARNING:accelerate.utils.other:Removed shared tensor {'encoder.embed_tokens.weight', 'lm_head.weight', 'decoder.embed_tokens.weight'} while saving. This should be OK, but check by verifying that you don't receive any warning while reloading\n"
          ]
        },
        {
          "name": "stdout",
          "output_type": "stream",
          "text": [
            "The train loss after 24600 batches is: 5.362423896789551\n"
          ]
        },
        {
          "name": "stderr",
          "output_type": "stream",
          "text": [
            "WARNING:accelerate.utils.other:Removed shared tensor {'encoder.embed_tokens.weight', 'lm_head.weight', 'decoder.embed_tokens.weight'} while saving. This should be OK, but check by verifying that you don't receive any warning while reloading\n"
          ]
        },
        {
          "name": "stdout",
          "output_type": "stream",
          "text": [
            "The train loss after 24700 batches is: 5.442354202270508\n"
          ]
        },
        {
          "name": "stderr",
          "output_type": "stream",
          "text": [
            "WARNING:accelerate.utils.other:Removed shared tensor {'encoder.embed_tokens.weight', 'lm_head.weight', 'decoder.embed_tokens.weight'} while saving. This should be OK, but check by verifying that you don't receive any warning while reloading\n"
          ]
        },
        {
          "name": "stdout",
          "output_type": "stream",
          "text": [
            "The train loss after 24800 batches is: 5.5195393562316895\n"
          ]
        },
        {
          "name": "stderr",
          "output_type": "stream",
          "text": [
            "WARNING:accelerate.utils.other:Removed shared tensor {'encoder.embed_tokens.weight', 'lm_head.weight', 'decoder.embed_tokens.weight'} while saving. This should be OK, but check by verifying that you don't receive any warning while reloading\n"
          ]
        },
        {
          "name": "stdout",
          "output_type": "stream",
          "text": [
            "The train loss after 24900 batches is: 5.199518203735352\n"
          ]
        },
        {
          "name": "stderr",
          "output_type": "stream",
          "text": [
            "WARNING:accelerate.utils.other:Removed shared tensor {'encoder.embed_tokens.weight', 'lm_head.weight', 'decoder.embed_tokens.weight'} while saving. This should be OK, but check by verifying that you don't receive any warning while reloading\n"
          ]
        },
        {
          "name": "stdout",
          "output_type": "stream",
          "text": [
            "The train loss after 25000 batches is: 5.35425329208374\n"
          ]
        },
        {
          "name": "stderr",
          "output_type": "stream",
          "text": [
            "WARNING:accelerate.utils.other:Removed shared tensor {'encoder.embed_tokens.weight', 'lm_head.weight', 'decoder.embed_tokens.weight'} while saving. This should be OK, but check by verifying that you don't receive any warning while reloading\n"
          ]
        },
        {
          "name": "stdout",
          "output_type": "stream",
          "text": [
            "The train loss after 25100 batches is: 5.22666597366333\n"
          ]
        },
        {
          "name": "stderr",
          "output_type": "stream",
          "text": [
            "WARNING:accelerate.utils.other:Removed shared tensor {'encoder.embed_tokens.weight', 'lm_head.weight', 'decoder.embed_tokens.weight'} while saving. This should be OK, but check by verifying that you don't receive any warning while reloading\n"
          ]
        },
        {
          "name": "stdout",
          "output_type": "stream",
          "text": [
            "The train loss after 25200 batches is: 5.295161724090576\n"
          ]
        },
        {
          "name": "stderr",
          "output_type": "stream",
          "text": [
            "WARNING:accelerate.utils.other:Removed shared tensor {'encoder.embed_tokens.weight', 'lm_head.weight', 'decoder.embed_tokens.weight'} while saving. This should be OK, but check by verifying that you don't receive any warning while reloading\n"
          ]
        },
        {
          "name": "stdout",
          "output_type": "stream",
          "text": [
            "The train loss after 25300 batches is: 5.441407203674316\n"
          ]
        },
        {
          "name": "stderr",
          "output_type": "stream",
          "text": [
            "WARNING:accelerate.utils.other:Removed shared tensor {'encoder.embed_tokens.weight', 'lm_head.weight', 'decoder.embed_tokens.weight'} while saving. This should be OK, but check by verifying that you don't receive any warning while reloading\n"
          ]
        },
        {
          "name": "stdout",
          "output_type": "stream",
          "text": [
            "The train loss after 25400 batches is: 5.418078899383545\n"
          ]
        },
        {
          "name": "stderr",
          "output_type": "stream",
          "text": [
            "WARNING:accelerate.utils.other:Removed shared tensor {'encoder.embed_tokens.weight', 'lm_head.weight', 'decoder.embed_tokens.weight'} while saving. This should be OK, but check by verifying that you don't receive any warning while reloading\n"
          ]
        },
        {
          "name": "stdout",
          "output_type": "stream",
          "text": [
            "The train loss after 25500 batches is: 5.427759170532227\n"
          ]
        },
        {
          "name": "stderr",
          "output_type": "stream",
          "text": [
            "WARNING:accelerate.utils.other:Removed shared tensor {'encoder.embed_tokens.weight', 'lm_head.weight', 'decoder.embed_tokens.weight'} while saving. This should be OK, but check by verifying that you don't receive any warning while reloading\n"
          ]
        },
        {
          "name": "stdout",
          "output_type": "stream",
          "text": [
            "The train loss after 25600 batches is: 5.394174575805664\n"
          ]
        },
        {
          "name": "stderr",
          "output_type": "stream",
          "text": [
            "WARNING:accelerate.utils.other:Removed shared tensor {'encoder.embed_tokens.weight', 'lm_head.weight', 'decoder.embed_tokens.weight'} while saving. This should be OK, but check by verifying that you don't receive any warning while reloading\n"
          ]
        },
        {
          "name": "stdout",
          "output_type": "stream",
          "text": [
            "The train loss after 25700 batches is: 5.368099689483643\n"
          ]
        },
        {
          "name": "stderr",
          "output_type": "stream",
          "text": [
            "WARNING:accelerate.utils.other:Removed shared tensor {'encoder.embed_tokens.weight', 'lm_head.weight', 'decoder.embed_tokens.weight'} while saving. This should be OK, but check by verifying that you don't receive any warning while reloading\n"
          ]
        },
        {
          "name": "stdout",
          "output_type": "stream",
          "text": [
            "The train loss after 25800 batches is: 5.466054439544678\n"
          ]
        },
        {
          "name": "stderr",
          "output_type": "stream",
          "text": [
            "WARNING:accelerate.utils.other:Removed shared tensor {'encoder.embed_tokens.weight', 'lm_head.weight', 'decoder.embed_tokens.weight'} while saving. This should be OK, but check by verifying that you don't receive any warning while reloading\n"
          ]
        },
        {
          "name": "stdout",
          "output_type": "stream",
          "text": [
            "The train loss after 25900 batches is: 5.330499172210693\n"
          ]
        },
        {
          "name": "stderr",
          "output_type": "stream",
          "text": [
            "WARNING:accelerate.utils.other:Removed shared tensor {'encoder.embed_tokens.weight', 'lm_head.weight', 'decoder.embed_tokens.weight'} while saving. This should be OK, but check by verifying that you don't receive any warning while reloading\n"
          ]
        },
        {
          "name": "stdout",
          "output_type": "stream",
          "text": [
            "The train loss after 26000 batches is: 5.3945536613464355\n"
          ]
        },
        {
          "name": "stderr",
          "output_type": "stream",
          "text": [
            "WARNING:accelerate.utils.other:Removed shared tensor {'encoder.embed_tokens.weight', 'lm_head.weight', 'decoder.embed_tokens.weight'} while saving. This should be OK, but check by verifying that you don't receive any warning while reloading\n"
          ]
        },
        {
          "name": "stdout",
          "output_type": "stream",
          "text": [
            "The train loss after 26100 batches is: 5.432321548461914\n"
          ]
        },
        {
          "name": "stderr",
          "output_type": "stream",
          "text": [
            "WARNING:accelerate.utils.other:Removed shared tensor {'encoder.embed_tokens.weight', 'lm_head.weight', 'decoder.embed_tokens.weight'} while saving. This should be OK, but check by verifying that you don't receive any warning while reloading\n"
          ]
        },
        {
          "name": "stdout",
          "output_type": "stream",
          "text": [
            "The train loss after 26200 batches is: 5.581724166870117\n"
          ]
        },
        {
          "name": "stderr",
          "output_type": "stream",
          "text": [
            "WARNING:accelerate.utils.other:Removed shared tensor {'encoder.embed_tokens.weight', 'lm_head.weight', 'decoder.embed_tokens.weight'} while saving. This should be OK, but check by verifying that you don't receive any warning while reloading\n"
          ]
        },
        {
          "name": "stdout",
          "output_type": "stream",
          "text": [
            "The train loss after 26300 batches is: 5.473223686218262\n"
          ]
        },
        {
          "name": "stderr",
          "output_type": "stream",
          "text": [
            "WARNING:accelerate.utils.other:Removed shared tensor {'encoder.embed_tokens.weight', 'lm_head.weight', 'decoder.embed_tokens.weight'} while saving. This should be OK, but check by verifying that you don't receive any warning while reloading\n"
          ]
        },
        {
          "name": "stdout",
          "output_type": "stream",
          "text": [
            "The train loss after 26400 batches is: 5.386104583740234\n"
          ]
        },
        {
          "name": "stderr",
          "output_type": "stream",
          "text": [
            "WARNING:accelerate.utils.other:Removed shared tensor {'encoder.embed_tokens.weight', 'lm_head.weight', 'decoder.embed_tokens.weight'} while saving. This should be OK, but check by verifying that you don't receive any warning while reloading\n"
          ]
        },
        {
          "name": "stdout",
          "output_type": "stream",
          "text": [
            "The train loss after 26500 batches is: 5.2959771156311035\n"
          ]
        },
        {
          "name": "stderr",
          "output_type": "stream",
          "text": [
            "WARNING:accelerate.utils.other:Removed shared tensor {'encoder.embed_tokens.weight', 'lm_head.weight', 'decoder.embed_tokens.weight'} while saving. This should be OK, but check by verifying that you don't receive any warning while reloading\n"
          ]
        },
        {
          "name": "stdout",
          "output_type": "stream",
          "text": [
            "The train loss after 26600 batches is: 5.365622043609619\n"
          ]
        },
        {
          "name": "stderr",
          "output_type": "stream",
          "text": [
            "WARNING:accelerate.utils.other:Removed shared tensor {'encoder.embed_tokens.weight', 'lm_head.weight', 'decoder.embed_tokens.weight'} while saving. This should be OK, but check by verifying that you don't receive any warning while reloading\n"
          ]
        },
        {
          "name": "stdout",
          "output_type": "stream",
          "text": [
            "The train loss after 26700 batches is: 5.341323375701904\n",
            "Average test loss after epoch 3: 5.283358494656674 \n",
            "\n"
          ]
        }
      ],
      "source": [
        "\n",
        "optimizer = get_optimizer(model)\n",
        "lr_scheduler = get_lr_scheduler(optimizer)\n",
        "accelerate = Accelerator()\n",
        "optimizer, lr_scheduler, model, train_dataloader, test_dataloader = accelerate.prepare(optimizer, lr_scheduler, model, train_dataloader, test_dataloader)\n",
        "training_loss, test_loss = train(model = model, train_dataloader= train_dataloader, test_dataloader= test_dataloader, accelerator=accelerate, lr_scheduler= lr_scheduler, optimizer= optimizer, total_train_step= 3)\n",
        "\n",
        "\n"
      ]
    },
    {
      "cell_type": "code",
      "execution_count": null,
      "metadata": {
        "colab": {
          "base_uri": "https://localhost:8080/"
        },
        "id": "UhVAT3uZg17Z",
        "outputId": "0a833929-9b0a-4c64-b229-e08f60fe7008"
      },
      "outputs": [
        {
          "name": "stdout",
          "output_type": "stream",
          "text": [
            "[9.365729331970215, 9.19832706451416, 8.602438926696777, 7.608885765075684, 7.407654762268066, 7.4249749183654785, 7.038185119628906, 6.959164619445801, 6.989784240722656, 6.847598075866699, 7.049921989440918, 7.026839733123779, 6.991694927215576, 6.862361907958984, 6.893239974975586, 6.699061870574951, 6.910085201263428, 6.777299404144287, 6.692427158355713, 6.687772750854492, 6.687133312225342, 6.656919479370117, 6.784564018249512, 6.610323905944824, 6.55567741394043, 6.485971450805664, 6.740026950836182, 6.775608539581299, 6.469042778015137, 6.472172260284424, 6.437539100646973, 6.478540420532227, 6.414333820343018, 6.547355651855469, 6.361141204833984, 6.3595685958862305, 6.361952781677246, 6.440568447113037, 6.563980579376221, 6.595272064208984, 6.581563472747803, 6.533376693725586, 6.365448951721191, 6.159099578857422, 6.348639965057373, 6.16521692276001, 6.321365833282471, 6.069609642028809, 6.282151222229004, 6.084079742431641, 6.421392917633057, 6.050745487213135, 6.273314952850342, 6.122916221618652, 5.974319934844971, 6.0796027183532715, 6.203830242156982, 6.118112564086914, 6.249223709106445, 5.988945484161377, 6.2149128913879395, 6.14533805847168, 5.990443229675293, 6.103311061859131, 5.998871326446533, 6.131036281585693, 6.079791069030762, 6.0457682609558105, 6.08007287979126, 5.9364495277404785, 6.069282054901123, 5.971954822540283, 6.01610803604126, 6.00242280960083, 5.9824934005737305, 5.940808296203613, 6.128057479858398, 6.003981590270996, 6.120095729827881, 5.94514274597168, 5.975055694580078, 6.114561557769775, 6.009870529174805, 6.011696815490723, 6.004977226257324, 6.0378193855285645, 5.991050720214844, 5.919557094573975, 5.810869216918945, 5.884807586669922, 5.94105863571167, 5.842581272125244, 5.948533535003662, 5.783087253570557, 5.929996490478516, 5.756640434265137, 6.071109294891357, 5.959255695343018, 5.920016765594482, 5.841368198394775, 5.833892822265625, 5.856712341308594, 5.703997611999512, 5.9564433097839355, 6.063764572143555, 5.673460006713867, 5.908866882324219, 5.699141979217529, 5.813187599182129, 5.932260513305664, 5.759991645812988, 5.842973709106445, 5.7938337326049805, 5.896027088165283, 5.764038562774658, 5.749673366546631, 5.731879711151123, 5.869507789611816, 5.742262840270996, 5.779548168182373, 5.722441673278809, 5.950199127197266, 5.7678914070129395, 5.724435806274414, 5.6446919441223145, 5.796103000640869, 5.6048479080200195, 5.633297920227051, 5.853075981140137, 5.655407428741455, 5.645417213439941, 5.497647285461426, 5.7042765617370605, 5.612895965576172, 5.719557762145996, 5.700380325317383, 5.678417205810547, 5.645920276641846, 5.540779113769531, 5.720761299133301, 5.883863925933838, 5.712005138397217, 5.723095417022705, 5.680659770965576, 5.601518154144287, 5.591604232788086, 5.878881931304932, 5.720902442932129, 5.55402135848999, 5.582785606384277, 5.577512741088867, 5.82511568069458, 5.594791412353516, 5.612185478210449, 5.805999279022217, 5.743765830993652, 5.796547889709473, 5.560815811157227, 5.687946319580078, 5.612951755523682, 5.550206184387207, 5.6615729331970215, 5.579744338989258, 5.588640213012695, 5.69268798828125, 5.602654933929443, 5.533722877502441, 5.514621257781982, 5.57498025894165, 5.395508289337158, 5.540371894836426, 5.685665607452393, 5.684194087982178, 5.66119384765625, 5.675906658172607, 5.65369176864624, 5.6656999588012695, 5.42915678024292, 5.722805500030518, 5.599557876586914, 5.522079944610596, 5.71864652633667, 5.536969184875488, 5.582062244415283, 5.469666004180908, 5.54634428024292, 5.707618713378906, 5.40160608291626, 5.744106769561768, 5.336950302124023, 5.667201519012451, 5.636989116668701, 5.513853073120117, 5.50349760055542, 5.438122272491455, 5.572107315063477, 5.565700054168701, 5.497678756713867, 5.611058235168457, 5.547273635864258, 5.5130934715271, 5.529122829437256, 5.684083938598633, 5.529684543609619, 5.527307987213135, 5.5636677742004395, 5.419538974761963, 5.417291641235352, 5.464641571044922, 5.543519973754883, 5.520951271057129, 5.459095001220703, 5.459914207458496, 5.451303005218506, 5.623291969299316, 5.642099380493164, 5.478429317474365, 5.499906539916992, 5.465245246887207, 5.547756195068359, 5.386806488037109, 5.700200080871582, 5.440499782562256, 5.4628424644470215, 5.32872200012207, 5.306259632110596, 5.430745601654053, 5.50385856628418, 5.542825698852539, 5.427102088928223, 5.438210964202881, 5.361327171325684, 5.504112720489502, 5.460913181304932, 5.414729595184326, 5.22133207321167, 5.50567102432251, 5.376563549041748, 5.510520935058594, 5.354579448699951, 5.287727355957031, 5.463893413543701, 5.472977161407471, 5.503170967102051, 5.3086628913879395, 5.362423896789551, 5.442354202270508, 5.5195393562316895, 5.199518203735352, 5.35425329208374, 5.22666597366333, 5.295161724090576, 5.441407203674316, 5.418078899383545, 5.427759170532227, 5.394174575805664, 5.368099689483643, 5.466054439544678, 5.330499172210693, 5.3945536613464355, 5.432321548461914, 5.581724166870117, 5.473223686218262, 5.386104583740234, 5.2959771156311035, 5.365622043609619, 5.341323375701904]\n"
          ]
        }
      ],
      "source": [
        "print(training_loss)"
      ]
    },
    {
      "cell_type": "code",
      "execution_count": 6,
      "metadata": {
        "id": "IKwUubJn8cky"
      },
      "outputs": [],
      "source": [
        "training_loss = [9.365729331970215, 9.19832706451416, 8.602438926696777, 7.608885765075684, 7.407654762268066, 7.4249749183654785, 7.038185119628906, 6.959164619445801, 6.989784240722656, 6.847598075866699, 7.049921989440918, 7.026839733123779, 6.991694927215576, 6.862361907958984, 6.893239974975586, 6.699061870574951, 6.910085201263428, 6.777299404144287, 6.692427158355713, 6.687772750854492, 6.687133312225342, 6.656919479370117, 6.784564018249512, 6.610323905944824, 6.55567741394043, 6.485971450805664, 6.740026950836182, 6.775608539581299, 6.469042778015137, 6.472172260284424, 6.437539100646973, 6.478540420532227, 6.414333820343018, 6.547355651855469, 6.361141204833984, 6.3595685958862305, 6.361952781677246, 6.440568447113037, 6.563980579376221, 6.595272064208984, 6.581563472747803, 6.533376693725586, 6.365448951721191, 6.159099578857422, 6.348639965057373, 6.16521692276001, 6.321365833282471, 6.069609642028809, 6.282151222229004, 6.084079742431641, 6.421392917633057, 6.050745487213135, 6.273314952850342, 6.122916221618652, 5.974319934844971, 6.0796027183532715, 6.203830242156982, 6.118112564086914, 6.249223709106445, 5.988945484161377, 6.2149128913879395, 6.14533805847168, 5.990443229675293, 6.103311061859131, 5.998871326446533, 6.131036281585693, 6.079791069030762, 6.0457682609558105, 6.08007287979126, 5.9364495277404785, 6.069282054901123, 5.971954822540283, 6.01610803604126, 6.00242280960083, 5.9824934005737305, 5.940808296203613, 6.128057479858398, 6.003981590270996, 6.120095729827881, 5.94514274597168, 5.975055694580078, 6.114561557769775, 6.009870529174805, 6.011696815490723, 6.004977226257324, 6.0378193855285645, 5.991050720214844, 5.919557094573975, 5.810869216918945, 5.884807586669922, 5.94105863571167, 5.842581272125244, 5.948533535003662, 5.783087253570557, 5.929996490478516, 5.756640434265137, 6.071109294891357, 5.959255695343018, 5.920016765594482, 5.841368198394775, 5.833892822265625, 5.856712341308594, 5.703997611999512, 5.9564433097839355, 6.063764572143555, 5.673460006713867, 5.908866882324219, 5.699141979217529, 5.813187599182129, 5.932260513305664, 5.759991645812988, 5.842973709106445, 5.7938337326049805, 5.896027088165283, 5.764038562774658, 5.749673366546631, 5.731879711151123, 5.869507789611816, 5.742262840270996, 5.779548168182373, 5.722441673278809, 5.950199127197266, 5.7678914070129395, 5.724435806274414, 5.6446919441223145, 5.796103000640869, 5.6048479080200195, 5.633297920227051, 5.853075981140137, 5.655407428741455, 5.645417213439941, 5.497647285461426, 5.7042765617370605, 5.612895965576172, 5.719557762145996, 5.700380325317383, 5.678417205810547, 5.645920276641846, 5.540779113769531, 5.720761299133301, 5.883863925933838, 5.712005138397217, 5.723095417022705, 5.680659770965576, 5.601518154144287, 5.591604232788086, 5.878881931304932, 5.720902442932129, 5.55402135848999, 5.582785606384277, 5.577512741088867, 5.82511568069458, 5.594791412353516, 5.612185478210449, 5.805999279022217, 5.743765830993652, 5.796547889709473, 5.560815811157227, 5.687946319580078, 5.612951755523682, 5.550206184387207, 5.6615729331970215, 5.579744338989258, 5.588640213012695, 5.69268798828125, 5.602654933929443, 5.533722877502441, 5.514621257781982, 5.57498025894165, 5.395508289337158, 5.540371894836426, 5.685665607452393, 5.684194087982178, 5.66119384765625, 5.675906658172607, 5.65369176864624, 5.6656999588012695, 5.42915678024292, 5.722805500030518, 5.599557876586914, 5.522079944610596, 5.71864652633667, 5.536969184875488, 5.582062244415283, 5.469666004180908, 5.54634428024292, 5.707618713378906, 5.40160608291626, 5.744106769561768, 5.336950302124023, 5.667201519012451, 5.636989116668701, 5.513853073120117, 5.50349760055542, 5.438122272491455, 5.572107315063477, 5.565700054168701, 5.497678756713867, 5.611058235168457, 5.547273635864258, 5.5130934715271, 5.529122829437256, 5.684083938598633, 5.529684543609619, 5.527307987213135, 5.5636677742004395, 5.419538974761963, 5.417291641235352, 5.464641571044922, 5.543519973754883, 5.520951271057129, 5.459095001220703, 5.459914207458496, 5.451303005218506, 5.623291969299316, 5.642099380493164, 5.478429317474365, 5.499906539916992, 5.465245246887207, 5.547756195068359, 5.386806488037109, 5.700200080871582, 5.440499782562256, 5.4628424644470215, 5.32872200012207, 5.306259632110596, 5.430745601654053, 5.50385856628418, 5.542825698852539, 5.427102088928223, 5.438210964202881, 5.361327171325684, 5.504112720489502, 5.460913181304932, 5.414729595184326, 5.22133207321167, 5.50567102432251, 5.376563549041748, 5.510520935058594, 5.354579448699951, 5.287727355957031, 5.463893413543701, 5.472977161407471, 5.503170967102051, 5.3086628913879395, 5.362423896789551, 5.442354202270508, 5.5195393562316895, 5.199518203735352, 5.35425329208374, 5.22666597366333, 5.295161724090576, 5.441407203674316, 5.418078899383545, 5.427759170532227, 5.394174575805664, 5.368099689483643, 5.466054439544678, 5.330499172210693, 5.3945536613464355, 5.432321548461914, 5.581724166870117, 5.473223686218262, 5.386104583740234, 5.2959771156311035, 5.365622043609619, 5.341323375701904]\n",
        "\n",
        "\n"
      ]
    },
    {
      "cell_type": "code",
      "execution_count": 7,
      "metadata": {
        "id": "i3ckfm_ThCQ1"
      },
      "outputs": [],
      "source": [
        "test_loss = [5.849240145605544, 5.488414653401444, 5.283358494656674]"
      ]
    },
    {
      "cell_type": "code",
      "execution_count": 9,
      "metadata": {
        "colab": {
          "base_uri": "https://localhost:8080/",
          "height": 474
        },
        "id": "qlCg8Hinhrw5",
        "outputId": "2a1cd2b2-2155-4457-b2a3-8786289ea915"
      },
      "outputs": [
        {
          "output_type": "display_data",
          "data": {
            "text/plain": [
              "<Figure size 640x480 with 1 Axes>"
            ],
            "image/png": "[encoded data removed]"
          },
          "metadata": {}
        }
      ],
      "source": [
        "from matplotlib import pyplot as plt\n",
        "import numpy as np\n",
        "\n",
        "plt.plot(np.arange(100, 26800, 100), training_loss, label='Training Loss')\n",
        "plt.xlabel('Batch Number')\n",
        "plt.ylabel('Training Loss')\n",
        "plt.title('Training Loss Over Time')\n",
        "plt.legend()\n",
        "plt.show()\n"
      ]
    },
    {
      "cell_type": "code",
      "source": [
        "from matplotlib import pyplot as plt\n",
        "import numpy as np\n",
        "\n",
        "plt.plot(np.arange(1, 4, 1), test_loss, label='Test Loss')\n",
        "plt.xlabel('Epoch Number')\n",
        "plt.ylabel('Test Loss')\n",
        "plt.title('Test Loss Over Time')\n",
        "plt.legend()\n",
        "plt.show()"
      ],
      "metadata": {
        "colab": {
          "base_uri": "https://localhost:8080/",
          "height": 474
        },
        "id": "D_Dw_3QcL2MO",
        "outputId": "76ad5100-155f-4650-95f3-efedb8660e10"
      },
      "execution_count": 10,
      "outputs": [
        {
          "output_type": "display_data",
          "data": {
            "text/plain": [
              "<Figure size 640x480 with 1 Axes>"
            ],
            "image/png": "[encoded data removed]"
          },
          "metadata": {}
        }
      ]
    }
  ],
  "metadata": {
    "accelerator": "GPU",
    "colab": {
      "gpuType": "A100",
      "machine_shape": "hm",
      "provenance": []
    },
    "kernelspec": {
      "display_name": "Python 3",
      "name": "python3"
    },
    "language_info": {
      "codemirror_mode": {
        "name": "ipython",
        "version": 3
      },
      "file_extension": ".py",
      "mimetype": "text/x-python",
      "name": "python",
      "nbconvert_exporter": "python",
      "pygments_lexer": "ipython3",
      "version": "3.12.4"
    },
    "widgets": {
      "application/vnd.jupyter.widget-state+json": {
        "0642667f9a7c45cabe8bb4c97e950b41": {
          "model_module": "@jupyter-widgets/base",
          "model_module_version": "1.2.0",
          "model_name": "LayoutModel",
          "state": {
            "_model_module": "@jupyter-widgets/base",
            "_model_module_version": "1.2.0",
            "_model_name": "LayoutModel",
            "_view_count": null,
            "_view_module": "@jupyter-widgets/base",
            "_view_module_version": "1.2.0",
            "_view_name": "LayoutView",
            "align_content": null,
            "align_items": null,
            "align_self": null,
            "border": null,
            "bottom": null,
            "display": null,
            "flex": null,
            "flex_flow": null,
            "grid_area": null,
            "grid_auto_columns": null,
            "grid_auto_flow": null,
            "grid_auto_rows": null,
            "grid_column": null,
            "grid_gap": null,
            "grid_row": null,
            "grid_template_areas": null,
            "grid_template_columns": null,
            "grid_template_rows": null,
            "height": null,
            "justify_content": null,
            "justify_items": null,
            "left": null,
            "margin": null,
            "max_height": null,
            "max_width": null,
            "min_height": null,
            "min_width": null,
            "object_fit": null,
            "object_position": null,
            "order": null,
            "overflow": null,
            "overflow_x": null,
            "overflow_y": null,
            "padding": null,
            "right": null,
            "top": null,
            "visibility": null,
            "width": "20px"
          }
        },
        "0717dd535a624c10be5d92a732e7ce5f": {
          "model_module": "@jupyter-widgets/controls",
          "model_module_version": "1.5.0",
          "model_name": "HBoxModel",
          "state": {
            "_dom_classes": [],
            "_model_module": "@jupyter-widgets/controls",
            "_model_module_version": "1.5.0",
            "_model_name": "HBoxModel",
            "_view_count": null,
            "_view_module": "@jupyter-widgets/controls",
            "_view_module_version": "1.5.0",
            "_view_name": "HBoxView",
            "box_style": "",
            "children": [
              "IPY_MODEL_7ebb96da85614c049a1388e34209fc86",
              "IPY_MODEL_27dbb611c8d04835aafe3bd6f00511c4",
              "IPY_MODEL_c3313b20f759441fb24992cf76e7b214"
            ],
            "layout": "IPY_MODEL_7697e76af772462fb2f4a62880bf1a3d"
          }
        },
        "081fdfd002eb4b3cab053e8f8aad8f85": {
          "model_module": "@jupyter-widgets/controls",
          "model_module_version": "1.5.0",
          "model_name": "ProgressStyleModel",
          "state": {
            "_model_module": "@jupyter-widgets/controls",
            "_model_module_version": "1.5.0",
            "_model_name": "ProgressStyleModel",
            "_view_count": null,
            "_view_module": "@jupyter-widgets/base",
            "_view_module_version": "1.2.0",
            "_view_name": "StyleView",
            "bar_color": null,
            "description_width": ""
          }
        },
        "09cc4a89dbc842cabf921f3ba4635dad": {
          "model_module": "@jupyter-widgets/controls",
          "model_module_version": "1.5.0",
          "model_name": "DescriptionStyleModel",
          "state": {
            "_model_module": "@jupyter-widgets/controls",
            "_model_module_version": "1.5.0",
            "_model_name": "DescriptionStyleModel",
            "_view_count": null,
            "_view_module": "@jupyter-widgets/base",
            "_view_module_version": "1.2.0",
            "_view_name": "StyleView",
            "description_width": ""
          }
        },
        "0ca11e5c99364960af0a230cd5a905cf": {
          "model_module": "@jupyter-widgets/controls",
          "model_module_version": "1.5.0",
          "model_name": "DescriptionStyleModel",
          "state": {
            "_model_module": "@jupyter-widgets/controls",
            "_model_module_version": "1.5.0",
            "_model_name": "DescriptionStyleModel",
            "_view_count": null,
            "_view_module": "@jupyter-widgets/base",
            "_view_module_version": "1.2.0",
            "_view_name": "StyleView",
            "description_width": ""
          }
        },
        "0e637188a7f1417991c60261d725d7fa": {
          "model_module": "@jupyter-widgets/controls",
          "model_module_version": "1.5.0",
          "model_name": "DescriptionStyleModel",
          "state": {
            "_model_module": "@jupyter-widgets/controls",
            "_model_module_version": "1.5.0",
            "_model_name": "DescriptionStyleModel",
            "_view_count": null,
            "_view_module": "@jupyter-widgets/base",
            "_view_module_version": "1.2.0",
            "_view_name": "StyleView",
            "description_width": ""
          }
        },
        "1bf5acfdb95b41029a4eef85ccbef576": {
          "model_module": "@jupyter-widgets/controls",
          "model_module_version": "1.5.0",
          "model_name": "ProgressStyleModel",
          "state": {
            "_model_module": "@jupyter-widgets/controls",
            "_model_module_version": "1.5.0",
            "_model_name": "ProgressStyleModel",
            "_view_count": null,
            "_view_module": "@jupyter-widgets/base",
            "_view_module_version": "1.2.0",
            "_view_name": "StyleView",
            "bar_color": null,
            "description_width": ""
          }
        },
        "1ed038d56cb345a588db73f7ee72ec12": {
          "model_module": "@jupyter-widgets/base",
          "model_module_version": "1.2.0",
          "model_name": "LayoutModel",
          "state": {
            "_model_module": "@jupyter-widgets/base",
            "_model_module_version": "1.2.0",
            "_model_name": "LayoutModel",
            "_view_count": null,
            "_view_module": "@jupyter-widgets/base",
            "_view_module_version": "1.2.0",
            "_view_name": "LayoutView",
            "align_content": null,
            "align_items": null,
            "align_self": null,
            "border": null,
            "bottom": null,
            "display": null,
            "flex": null,
            "flex_flow": null,
            "grid_area": null,
            "grid_auto_columns": null,
            "grid_auto_flow": null,
            "grid_auto_rows": null,
            "grid_column": null,
            "grid_gap": null,
            "grid_row": null,
            "grid_template_areas": null,
            "grid_template_columns": null,
            "grid_template_rows": null,
            "height": null,
            "justify_content": null,
            "justify_items": null,
            "left": null,
            "margin": null,
            "max_height": null,
            "max_width": null,
            "min_height": null,
            "min_width": null,
            "object_fit": null,
            "object_position": null,
            "order": null,
            "overflow": null,
            "overflow_x": null,
            "overflow_y": null,
            "padding": null,
            "right": null,
            "top": null,
            "visibility": null,
            "width": null
          }
        },
        "2172f7be89874463a17e6ba6ef94de86": {
          "model_module": "@jupyter-widgets/controls",
          "model_module_version": "1.5.0",
          "model_name": "HBoxModel",
          "state": {
            "_dom_classes": [],
            "_model_module": "@jupyter-widgets/controls",
            "_model_module_version": "1.5.0",
            "_model_name": "HBoxModel",
            "_view_count": null,
            "_view_module": "@jupyter-widgets/controls",
            "_view_module_version": "1.5.0",
            "_view_name": "HBoxView",
            "box_style": "",
            "children": [
              "IPY_MODEL_e2f08ff985994e459326eafce669c34e",
              "IPY_MODEL_dccb74def776436e957e69bb604ae97e",
              "IPY_MODEL_d584c0468406482ea433d7dd9a700df1"
            ],
            "layout": "IPY_MODEL_de2fc81bd9774310818c4111f9202f57"
          }
        },
        "27dbb611c8d04835aafe3bd6f00511c4": {
          "model_module": "@jupyter-widgets/controls",
          "model_module_version": "1.5.0",
          "model_name": "FloatProgressModel",
          "state": {
            "_dom_classes": [],
            "_model_module": "@jupyter-widgets/controls",
            "_model_module_version": "1.5.0",
            "_model_name": "FloatProgressModel",
            "_view_count": null,
            "_view_module": "@jupyter-widgets/controls",
            "_view_module_version": "1.5.0",
            "_view_name": "ProgressView",
            "bar_style": "success",
            "description": "",
            "description_tooltip": null,
            "layout": "IPY_MODEL_9e9ea4ae81cd4ab9a6e7d41ecdec01c1",
            "max": 40000,
            "min": 0,
            "orientation": "horizontal",
            "style": "IPY_MODEL_1bf5acfdb95b41029a4eef85ccbef576",
            "value": 40000
          }
        },
        "2990ddeedd094c4c97fdaa46e8f071bb": {
          "model_module": "@jupyter-widgets/controls",
          "model_module_version": "1.5.0",
          "model_name": "FloatProgressModel",
          "state": {
            "_dom_classes": [],
            "_model_module": "@jupyter-widgets/controls",
            "_model_module_version": "1.5.0",
            "_model_name": "FloatProgressModel",
            "_view_count": null,
            "_view_module": "@jupyter-widgets/controls",
            "_view_module_version": "1.5.0",
            "_view_name": "ProgressView",
            "bar_style": "success",
            "description": "",
            "description_tooltip": null,
            "layout": "IPY_MODEL_e02ee97d8bb8419ebac0b8a325f949c1",
            "max": 791656,
            "min": 0,
            "orientation": "horizontal",
            "style": "IPY_MODEL_7d44748923874cb4a09b5dafd84e982d",
            "value": 791656
          }
        },
        "2a2af6859730429d9f386ab7eeb2c72b": {
          "model_module": "@jupyter-widgets/controls",
          "model_module_version": "1.5.0",
          "model_name": "HBoxModel",
          "state": {
            "_dom_classes": [],
            "_model_module": "@jupyter-widgets/controls",
            "_model_module_version": "1.5.0",
            "_model_name": "HBoxModel",
            "_view_count": null,
            "_view_module": "@jupyter-widgets/controls",
            "_view_module_version": "1.5.0",
            "_view_name": "HBoxView",
            "box_style": "",
            "children": [
              "IPY_MODEL_4caa82936df8402c8536d889ec6e6fb9",
              "IPY_MODEL_2990ddeedd094c4c97fdaa46e8f071bb",
              "IPY_MODEL_e5630c605eaa42c9a1b4a343d761e861"
            ],
            "layout": "IPY_MODEL_96c05852aa6e4246b9b2ac2879a1bc0a"
          }
        },
        "2c2264e6c5be46cb83f4d7eca3537216": {
          "model_module": "@jupyter-widgets/base",
          "model_module_version": "1.2.0",
          "model_name": "LayoutModel",
          "state": {
            "_model_module": "@jupyter-widgets/base",
            "_model_module_version": "1.2.0",
            "_model_name": "LayoutModel",
            "_view_count": null,
            "_view_module": "@jupyter-widgets/base",
            "_view_module_version": "1.2.0",
            "_view_name": "LayoutView",
            "align_content": null,
            "align_items": null,
            "align_self": null,
            "border": null,
            "bottom": null,
            "display": null,
            "flex": null,
            "flex_flow": null,
            "grid_area": null,
            "grid_auto_columns": null,
            "grid_auto_flow": null,
            "grid_auto_rows": null,
            "grid_column": null,
            "grid_gap": null,
            "grid_row": null,
            "grid_template_areas": null,
            "grid_template_columns": null,
            "grid_template_rows": null,
            "height": null,
            "justify_content": null,
            "justify_items": null,
            "left": null,
            "margin": null,
            "max_height": null,
            "max_width": null,
            "min_height": null,
            "min_width": null,
            "object_fit": null,
            "object_position": null,
            "order": null,
            "overflow": null,
            "overflow_x": null,
            "overflow_y": null,
            "padding": null,
            "right": null,
            "top": null,
            "visibility": null,
            "width": null
          }
        },
        "2cad6db4b0d645e79f01690e7183c5c9": {
          "model_module": "@jupyter-widgets/base",
          "model_module_version": "1.2.0",
          "model_name": "LayoutModel",
          "state": {
            "_model_module": "@jupyter-widgets/base",
            "_model_module_version": "1.2.0",
            "_model_name": "LayoutModel",
            "_view_count": null,
            "_view_module": "@jupyter-widgets/base",
            "_view_module_version": "1.2.0",
            "_view_name": "LayoutView",
            "align_content": null,
            "align_items": null,
            "align_self": null,
            "border": null,
            "bottom": null,
            "display": null,
            "flex": null,
            "flex_flow": null,
            "grid_area": null,
            "grid_auto_columns": null,
            "grid_auto_flow": null,
            "grid_auto_rows": null,
            "grid_column": null,
            "grid_gap": null,
            "grid_row": null,
            "grid_template_areas": null,
            "grid_template_columns": null,
            "grid_template_rows": null,
            "height": null,
            "justify_content": null,
            "justify_items": null,
            "left": null,
            "margin": null,
            "max_height": null,
            "max_width": null,
            "min_height": null,
            "min_width": null,
            "object_fit": null,
            "object_position": null,
            "order": null,
            "overflow": null,
            "overflow_x": null,
            "overflow_y": null,
            "padding": null,
            "right": null,
            "top": null,
            "visibility": null,
            "width": null
          }
        },
        "2d7f1c14871e424eb29f223e5d3b3320": {
          "model_module": "@jupyter-widgets/base",
          "model_module_version": "1.2.0",
          "model_name": "LayoutModel",
          "state": {
            "_model_module": "@jupyter-widgets/base",
            "_model_module_version": "1.2.0",
            "_model_name": "LayoutModel",
            "_view_count": null,
            "_view_module": "@jupyter-widgets/base",
            "_view_module_version": "1.2.0",
            "_view_name": "LayoutView",
            "align_content": null,
            "align_items": null,
            "align_self": null,
            "border": null,
            "bottom": null,
            "display": null,
            "flex": null,
            "flex_flow": null,
            "grid_area": null,
            "grid_auto_columns": null,
            "grid_auto_flow": null,
            "grid_auto_rows": null,
            "grid_column": null,
            "grid_gap": null,
            "grid_row": null,
            "grid_template_areas": null,
            "grid_template_columns": null,
            "grid_template_rows": null,
            "height": null,
            "justify_content": null,
            "justify_items": null,
            "left": null,
            "margin": null,
            "max_height": null,
            "max_width": null,
            "min_height": null,
            "min_width": null,
            "object_fit": null,
            "object_position": null,
            "order": null,
            "overflow": null,
            "overflow_x": null,
            "overflow_y": null,
            "padding": null,
            "right": null,
            "top": null,
            "visibility": null,
            "width": null
          }
        },
        "2e3b151a78154d57bc98896b600a7eb2": {
          "model_module": "@jupyter-widgets/controls",
          "model_module_version": "1.5.0",
          "model_name": "DescriptionStyleModel",
          "state": {
            "_model_module": "@jupyter-widgets/controls",
            "_model_module_version": "1.5.0",
            "_model_name": "DescriptionStyleModel",
            "_view_count": null,
            "_view_module": "@jupyter-widgets/base",
            "_view_module_version": "1.2.0",
            "_view_name": "StyleView",
            "description_width": ""
          }
        },
        "30c801b0f22e4690b37380fc154756fd": {
          "model_module": "@jupyter-widgets/controls",
          "model_module_version": "1.5.0",
          "model_name": "DescriptionStyleModel",
          "state": {
            "_model_module": "@jupyter-widgets/controls",
            "_model_module_version": "1.5.0",
            "_model_name": "DescriptionStyleModel",
            "_view_count": null,
            "_view_module": "@jupyter-widgets/base",
            "_view_module_version": "1.2.0",
            "_view_name": "StyleView",
            "description_width": ""
          }
        },
        "39400942c2104ed2855b9ab06394cad5": {
          "model_module": "@jupyter-widgets/controls",
          "model_module_version": "1.5.0",
          "model_name": "DescriptionStyleModel",
          "state": {
            "_model_module": "@jupyter-widgets/controls",
            "_model_module_version": "1.5.0",
            "_model_name": "DescriptionStyleModel",
            "_view_count": null,
            "_view_module": "@jupyter-widgets/base",
            "_view_module_version": "1.2.0",
            "_view_name": "StyleView",
            "description_width": ""
          }
        },
        "3b5d329bcb134f46a1e2e22a729fe9d1": {
          "model_module": "@jupyter-widgets/base",
          "model_module_version": "1.2.0",
          "model_name": "LayoutModel",
          "state": {
            "_model_module": "@jupyter-widgets/base",
            "_model_module_version": "1.2.0",
            "_model_name": "LayoutModel",
            "_view_count": null,
            "_view_module": "@jupyter-widgets/base",
            "_view_module_version": "1.2.0",
            "_view_name": "LayoutView",
            "align_content": null,
            "align_items": null,
            "align_self": null,
            "border": null,
            "bottom": null,
            "display": null,
            "flex": null,
            "flex_flow": null,
            "grid_area": null,
            "grid_auto_columns": null,
            "grid_auto_flow": null,
            "grid_auto_rows": null,
            "grid_column": null,
            "grid_gap": null,
            "grid_row": null,
            "grid_template_areas": null,
            "grid_template_columns": null,
            "grid_template_rows": null,
            "height": null,
            "justify_content": null,
            "justify_items": null,
            "left": null,
            "margin": null,
            "max_height": null,
            "max_width": null,
            "min_height": null,
            "min_width": null,
            "object_fit": null,
            "object_position": null,
            "order": null,
            "overflow": null,
            "overflow_x": null,
            "overflow_y": null,
            "padding": null,
            "right": null,
            "top": null,
            "visibility": null,
            "width": null
          }
        },
        "4380b99db8d84377b578f10230a9ce7a": {
          "model_module": "@jupyter-widgets/base",
          "model_module_version": "1.2.0",
          "model_name": "LayoutModel",
          "state": {
            "_model_module": "@jupyter-widgets/base",
            "_model_module_version": "1.2.0",
            "_model_name": "LayoutModel",
            "_view_count": null,
            "_view_module": "@jupyter-widgets/base",
            "_view_module_version": "1.2.0",
            "_view_name": "LayoutView",
            "align_content": null,
            "align_items": null,
            "align_self": null,
            "border": null,
            "bottom": null,
            "display": null,
            "flex": null,
            "flex_flow": null,
            "grid_area": null,
            "grid_auto_columns": null,
            "grid_auto_flow": null,
            "grid_auto_rows": null,
            "grid_column": null,
            "grid_gap": null,
            "grid_row": null,
            "grid_template_areas": null,
            "grid_template_columns": null,
            "grid_template_rows": null,
            "height": null,
            "justify_content": null,
            "justify_items": null,
            "left": null,
            "margin": null,
            "max_height": null,
            "max_width": null,
            "min_height": null,
            "min_width": null,
            "object_fit": null,
            "object_position": null,
            "order": null,
            "overflow": null,
            "overflow_x": null,
            "overflow_y": null,
            "padding": null,
            "right": null,
            "top": null,
            "visibility": null,
            "width": null
          }
        },
        "44878b86271241ec8343b1a46b57ca3d": {
          "model_module": "@jupyter-widgets/controls",
          "model_module_version": "1.5.0",
          "model_name": "HTMLModel",
          "state": {
            "_dom_classes": [],
            "_model_module": "@jupyter-widgets/controls",
            "_model_module_version": "1.5.0",
            "_model_name": "HTMLModel",
            "_view_count": null,
            "_view_module": "@jupyter-widgets/controls",
            "_view_module_version": "1.5.0",
            "_view_name": "HTMLView",
            "description": "",
            "description_tooltip": null,
            "layout": "IPY_MODEL_1ed038d56cb345a588db73f7ee72ec12",
            "placeholder": "​",
            "style": "IPY_MODEL_f001ca03b1214afcadd1b993bb9539cb",
            "value": "Generating train split: "
          }
        },
        "450cfc1bfd6f473094d3608d7e9f8829": {
          "model_module": "@jupyter-widgets/base",
          "model_module_version": "1.2.0",
          "model_name": "LayoutModel",
          "state": {
            "_model_module": "@jupyter-widgets/base",
            "_model_module_version": "1.2.0",
            "_model_name": "LayoutModel",
            "_view_count": null,
            "_view_module": "@jupyter-widgets/base",
            "_view_module_version": "1.2.0",
            "_view_name": "LayoutView",
            "align_content": null,
            "align_items": null,
            "align_self": null,
            "border": null,
            "bottom": null,
            "display": null,
            "flex": null,
            "flex_flow": null,
            "grid_area": null,
            "grid_auto_columns": null,
            "grid_auto_flow": null,
            "grid_auto_rows": null,
            "grid_column": null,
            "grid_gap": null,
            "grid_row": null,
            "grid_template_areas": null,
            "grid_template_columns": null,
            "grid_template_rows": null,
            "height": null,
            "justify_content": null,
            "justify_items": null,
            "left": null,
            "margin": null,
            "max_height": null,
            "max_width": null,
            "min_height": null,
            "min_width": null,
            "object_fit": null,
            "object_position": null,
            "order": null,
            "overflow": null,
            "overflow_x": null,
            "overflow_y": null,
            "padding": null,
            "right": null,
            "top": null,
            "visibility": null,
            "width": null
          }
        },
        "4caa82936df8402c8536d889ec6e6fb9": {
          "model_module": "@jupyter-widgets/controls",
          "model_module_version": "1.5.0",
          "model_name": "HTMLModel",
          "state": {
            "_dom_classes": [],
            "_model_module": "@jupyter-widgets/controls",
            "_model_module_version": "1.5.0",
            "_model_name": "HTMLModel",
            "_view_count": null,
            "_view_module": "@jupyter-widgets/controls",
            "_view_module_version": "1.5.0",
            "_view_name": "HTMLView",
            "description": "",
            "description_tooltip": null,
            "layout": "IPY_MODEL_897dbde546bf44bfbf1167b97ffc6a64",
            "placeholder": "​",
            "style": "IPY_MODEL_39400942c2104ed2855b9ab06394cad5",
            "value": "spiece.model: 100%"
          }
        },
        "4d20e1717cba4717b27af279b8e3d876": {
          "model_module": "@jupyter-widgets/base",
          "model_module_version": "1.2.0",
          "model_name": "LayoutModel",
          "state": {
            "_model_module": "@jupyter-widgets/base",
            "_model_module_version": "1.2.0",
            "_model_name": "LayoutModel",
            "_view_count": null,
            "_view_module": "@jupyter-widgets/base",
            "_view_module_version": "1.2.0",
            "_view_name": "LayoutView",
            "align_content": null,
            "align_items": null,
            "align_self": null,
            "border": null,
            "bottom": null,
            "display": null,
            "flex": null,
            "flex_flow": null,
            "grid_area": null,
            "grid_auto_columns": null,
            "grid_auto_flow": null,
            "grid_auto_rows": null,
            "grid_column": null,
            "grid_gap": null,
            "grid_row": null,
            "grid_template_areas": null,
            "grid_template_columns": null,
            "grid_template_rows": null,
            "height": null,
            "justify_content": null,
            "justify_items": null,
            "left": null,
            "margin": null,
            "max_height": null,
            "max_width": null,
            "min_height": null,
            "min_width": null,
            "object_fit": null,
            "object_position": null,
            "order": null,
            "overflow": null,
            "overflow_x": null,
            "overflow_y": null,
            "padding": null,
            "right": null,
            "top": null,
            "visibility": null,
            "width": null
          }
        },
        "537728bcf8dd4a7eb0a40855cc5459ff": {
          "model_module": "@jupyter-widgets/controls",
          "model_module_version": "1.5.0",
          "model_name": "HBoxModel",
          "state": {
            "_dom_classes": [],
            "_model_module": "@jupyter-widgets/controls",
            "_model_module_version": "1.5.0",
            "_model_name": "HBoxModel",
            "_view_count": null,
            "_view_module": "@jupyter-widgets/controls",
            "_view_module_version": "1.5.0",
            "_view_name": "HBoxView",
            "box_style": "",
            "children": [
              "IPY_MODEL_6396a342cc4a40e2a9a869c9b25f11b6",
              "IPY_MODEL_cda478b960ce4284a1b530022dcb25fc",
              "IPY_MODEL_91b42070641640bd972c5dbb94951091"
            ],
            "layout": "IPY_MODEL_2d7f1c14871e424eb29f223e5d3b3320"
          }
        },
        "5439cfba79104afa808894c28d79f39b": {
          "model_module": "@jupyter-widgets/controls",
          "model_module_version": "1.5.0",
          "model_name": "HTMLModel",
          "state": {
            "_dom_classes": [],
            "_model_module": "@jupyter-widgets/controls",
            "_model_module_version": "1.5.0",
            "_model_name": "HTMLModel",
            "_view_count": null,
            "_view_module": "@jupyter-widgets/controls",
            "_view_module_version": "1.5.0",
            "_view_name": "HTMLView",
            "description": "",
            "description_tooltip": null,
            "layout": "IPY_MODEL_f00e9144d3ea49a9962d30a9638fbcd5",
            "placeholder": "​",
            "style": "IPY_MODEL_7f160d8fbd0f4ac2b094f95f243be078",
            "value": "tokenizer.json: 100%"
          }
        },
        "561d945a17e14590a8525a80b643068a": {
          "model_module": "@jupyter-widgets/base",
          "model_module_version": "1.2.0",
          "model_name": "LayoutModel",
          "state": {
            "_model_module": "@jupyter-widgets/base",
            "_model_module_version": "1.2.0",
            "_model_name": "LayoutModel",
            "_view_count": null,
            "_view_module": "@jupyter-widgets/base",
            "_view_module_version": "1.2.0",
            "_view_name": "LayoutView",
            "align_content": null,
            "align_items": null,
            "align_self": null,
            "border": null,
            "bottom": null,
            "display": null,
            "flex": null,
            "flex_flow": null,
            "grid_area": null,
            "grid_auto_columns": null,
            "grid_auto_flow": null,
            "grid_auto_rows": null,
            "grid_column": null,
            "grid_gap": null,
            "grid_row": null,
            "grid_template_areas": null,
            "grid_template_columns": null,
            "grid_template_rows": null,
            "height": null,
            "justify_content": null,
            "justify_items": null,
            "left": null,
            "margin": null,
            "max_height": null,
            "max_width": null,
            "min_height": null,
            "min_width": null,
            "object_fit": null,
            "object_position": null,
            "order": null,
            "overflow": null,
            "overflow_x": null,
            "overflow_y": null,
            "padding": null,
            "right": null,
            "top": null,
            "visibility": null,
            "width": null
          }
        },
        "56a8485e838c4823b94c82c3617c5be9": {
          "model_module": "@jupyter-widgets/controls",
          "model_module_version": "1.5.0",
          "model_name": "FloatProgressModel",
          "state": {
            "_dom_classes": [],
            "_model_module": "@jupyter-widgets/controls",
            "_model_module_version": "1.5.0",
            "_model_name": "FloatProgressModel",
            "_view_count": null,
            "_view_module": "@jupyter-widgets/controls",
            "_view_module_version": "1.5.0",
            "_view_name": "ProgressView",
            "bar_style": "success",
            "description": "",
            "description_tooltip": null,
            "layout": "IPY_MODEL_ad89d0001a6847bda8b67634ef4e27be",
            "max": 45,
            "min": 0,
            "orientation": "horizontal",
            "style": "IPY_MODEL_c5bfdb8b6790468392793ee3fe1234a1",
            "value": 45
          }
        },
        "585118e9cb284584b95e09f34b7acd11": {
          "model_module": "@jupyter-widgets/controls",
          "model_module_version": "1.5.0",
          "model_name": "HTMLModel",
          "state": {
            "_dom_classes": [],
            "_model_module": "@jupyter-widgets/controls",
            "_model_module_version": "1.5.0",
            "_model_name": "HTMLModel",
            "_view_count": null,
            "_view_module": "@jupyter-widgets/controls",
            "_view_module_version": "1.5.0",
            "_view_name": "HTMLView",
            "description": "",
            "description_tooltip": null,
            "layout": "IPY_MODEL_c999de9a1d3349b0a1430247382e811e",
            "placeholder": "​",
            "style": "IPY_MODEL_30c801b0f22e4690b37380fc154756fd",
            "value": " 1.39M/1.39M [00:00&lt;00:00, 2.09MB/s]"
          }
        },
        "626113ef66ab42e4800232af0005cd3e": {
          "model_module": "@jupyter-widgets/controls",
          "model_module_version": "1.5.0",
          "model_name": "ProgressStyleModel",
          "state": {
            "_model_module": "@jupyter-widgets/controls",
            "_model_module_version": "1.5.0",
            "_model_name": "ProgressStyleModel",
            "_view_count": null,
            "_view_module": "@jupyter-widgets/base",
            "_view_module_version": "1.2.0",
            "_view_name": "StyleView",
            "bar_color": null,
            "description_width": ""
          }
        },
        "6396a342cc4a40e2a9a869c9b25f11b6": {
          "model_module": "@jupyter-widgets/controls",
          "model_module_version": "1.5.0",
          "model_name": "HTMLModel",
          "state": {
            "_dom_classes": [],
            "_model_module": "@jupyter-widgets/controls",
            "_model_module_version": "1.5.0",
            "_model_name": "HTMLModel",
            "_view_count": null,
            "_view_module": "@jupyter-widgets/controls",
            "_view_module_version": "1.5.0",
            "_view_name": "HTMLView",
            "description": "",
            "description_tooltip": null,
            "layout": "IPY_MODEL_fcf465d306a840858a149119c5171d7e",
            "placeholder": "​",
            "style": "IPY_MODEL_09cc4a89dbc842cabf921f3ba4635dad",
            "value": "config.json: 100%"
          }
        },
        "688cbb0d23ba4424a2e0528fcbd1449d": {
          "model_module": "@jupyter-widgets/base",
          "model_module_version": "1.2.0",
          "model_name": "LayoutModel",
          "state": {
            "_model_module": "@jupyter-widgets/base",
            "_model_module_version": "1.2.0",
            "_model_name": "LayoutModel",
            "_view_count": null,
            "_view_module": "@jupyter-widgets/base",
            "_view_module_version": "1.2.0",
            "_view_name": "LayoutView",
            "align_content": null,
            "align_items": null,
            "align_self": null,
            "border": null,
            "bottom": null,
            "display": null,
            "flex": null,
            "flex_flow": null,
            "grid_area": null,
            "grid_auto_columns": null,
            "grid_auto_flow": null,
            "grid_auto_rows": null,
            "grid_column": null,
            "grid_gap": null,
            "grid_row": null,
            "grid_template_areas": null,
            "grid_template_columns": null,
            "grid_template_rows": null,
            "height": null,
            "justify_content": null,
            "justify_items": null,
            "left": null,
            "margin": null,
            "max_height": null,
            "max_width": null,
            "min_height": null,
            "min_width": null,
            "object_fit": null,
            "object_position": null,
            "order": null,
            "overflow": null,
            "overflow_x": null,
            "overflow_y": null,
            "padding": null,
            "right": null,
            "top": null,
            "visibility": null,
            "width": null
          }
        },
        "70ac077802f9496c99b35a407dc4d149": {
          "model_module": "@jupyter-widgets/controls",
          "model_module_version": "1.5.0",
          "model_name": "DescriptionStyleModel",
          "state": {
            "_model_module": "@jupyter-widgets/controls",
            "_model_module_version": "1.5.0",
            "_model_name": "DescriptionStyleModel",
            "_view_count": null,
            "_view_module": "@jupyter-widgets/base",
            "_view_module_version": "1.2.0",
            "_view_name": "StyleView",
            "description_width": ""
          }
        },
        "744522ea479342c780d0e2595f556f0e": {
          "model_module": "@jupyter-widgets/controls",
          "model_module_version": "1.5.0",
          "model_name": "HTMLModel",
          "state": {
            "_dom_classes": [],
            "_model_module": "@jupyter-widgets/controls",
            "_model_module_version": "1.5.0",
            "_model_name": "HTMLModel",
            "_view_count": null,
            "_view_module": "@jupyter-widgets/controls",
            "_view_module_version": "1.5.0",
            "_view_name": "HTMLView",
            "description": "",
            "description_tooltip": null,
            "layout": "IPY_MODEL_feae1d171894484abf198af1760a74f5",
            "placeholder": "​",
            "style": "IPY_MODEL_ce2a924f079147fa856535db866e8134",
            "value": " 45/45 [00:24&lt;00:00, 24.28s/it]"
          }
        },
        "7697e76af772462fb2f4a62880bf1a3d": {
          "model_module": "@jupyter-widgets/base",
          "model_module_version": "1.2.0",
          "model_name": "LayoutModel",
          "state": {
            "_model_module": "@jupyter-widgets/base",
            "_model_module_version": "1.2.0",
            "_model_name": "LayoutModel",
            "_view_count": null,
            "_view_module": "@jupyter-widgets/base",
            "_view_module_version": "1.2.0",
            "_view_name": "LayoutView",
            "align_content": null,
            "align_items": null,
            "align_self": null,
            "border": null,
            "bottom": null,
            "display": null,
            "flex": null,
            "flex_flow": null,
            "grid_area": null,
            "grid_auto_columns": null,
            "grid_auto_flow": null,
            "grid_auto_rows": null,
            "grid_column": null,
            "grid_gap": null,
            "grid_row": null,
            "grid_template_areas": null,
            "grid_template_columns": null,
            "grid_template_rows": null,
            "height": null,
            "justify_content": null,
            "justify_items": null,
            "left": null,
            "margin": null,
            "max_height": null,
            "max_width": null,
            "min_height": null,
            "min_width": null,
            "object_fit": null,
            "object_position": null,
            "order": null,
            "overflow": null,
            "overflow_x": null,
            "overflow_y": null,
            "padding": null,
            "right": null,
            "top": null,
            "visibility": null,
            "width": null
          }
        },
        "77da013bac3a4bf997eb1346812d848f": {
          "model_module": "@jupyter-widgets/base",
          "model_module_version": "1.2.0",
          "model_name": "LayoutModel",
          "state": {
            "_model_module": "@jupyter-widgets/base",
            "_model_module_version": "1.2.0",
            "_model_name": "LayoutModel",
            "_view_count": null,
            "_view_module": "@jupyter-widgets/base",
            "_view_module_version": "1.2.0",
            "_view_name": "LayoutView",
            "align_content": null,
            "align_items": null,
            "align_self": null,
            "border": null,
            "bottom": null,
            "display": null,
            "flex": null,
            "flex_flow": null,
            "grid_area": null,
            "grid_auto_columns": null,
            "grid_auto_flow": null,
            "grid_auto_rows": null,
            "grid_column": null,
            "grid_gap": null,
            "grid_row": null,
            "grid_template_areas": null,
            "grid_template_columns": null,
            "grid_template_rows": null,
            "height": null,
            "justify_content": null,
            "justify_items": null,
            "left": null,
            "margin": null,
            "max_height": null,
            "max_width": null,
            "min_height": null,
            "min_width": null,
            "object_fit": null,
            "object_position": null,
            "order": null,
            "overflow": null,
            "overflow_x": null,
            "overflow_y": null,
            "padding": null,
            "right": null,
            "top": null,
            "visibility": null,
            "width": null
          }
        },
        "79642d74848c40d8b60750330d1b9886": {
          "model_module": "@jupyter-widgets/controls",
          "model_module_version": "1.5.0",
          "model_name": "ProgressStyleModel",
          "state": {
            "_model_module": "@jupyter-widgets/controls",
            "_model_module_version": "1.5.0",
            "_model_name": "ProgressStyleModel",
            "_view_count": null,
            "_view_module": "@jupyter-widgets/base",
            "_view_module_version": "1.2.0",
            "_view_name": "StyleView",
            "bar_color": null,
            "description_width": ""
          }
        },
        "7b8f620017da43b385a09e15fbf68727": {
          "model_module": "@jupyter-widgets/controls",
          "model_module_version": "1.5.0",
          "model_name": "HTMLModel",
          "state": {
            "_dom_classes": [],
            "_model_module": "@jupyter-widgets/controls",
            "_model_module_version": "1.5.0",
            "_model_name": "HTMLModel",
            "_view_count": null,
            "_view_module": "@jupyter-widgets/controls",
            "_view_module_version": "1.5.0",
            "_view_name": "HTMLView",
            "description": "",
            "description_tooltip": null,
            "layout": "IPY_MODEL_e8ffe9429a134bef955148127eb7b41d",
            "placeholder": "​",
            "style": "IPY_MODEL_7dfdc941c42747959dbc374dbfa25499",
            "value": " 1.21k/1.21k [00:00&lt;00:00, 102kB/s]"
          }
        },
        "7d44748923874cb4a09b5dafd84e982d": {
          "model_module": "@jupyter-widgets/controls",
          "model_module_version": "1.5.0",
          "model_name": "ProgressStyleModel",
          "state": {
            "_model_module": "@jupyter-widgets/controls",
            "_model_module_version": "1.5.0",
            "_model_name": "ProgressStyleModel",
            "_view_count": null,
            "_view_module": "@jupyter-widgets/base",
            "_view_module_version": "1.2.0",
            "_view_name": "StyleView",
            "bar_color": null,
            "description_width": ""
          }
        },
        "7dfdc941c42747959dbc374dbfa25499": {
          "model_module": "@jupyter-widgets/controls",
          "model_module_version": "1.5.0",
          "model_name": "DescriptionStyleModel",
          "state": {
            "_model_module": "@jupyter-widgets/controls",
            "_model_module_version": "1.5.0",
            "_model_name": "DescriptionStyleModel",
            "_view_count": null,
            "_view_module": "@jupyter-widgets/base",
            "_view_module_version": "1.2.0",
            "_view_name": "StyleView",
            "description_width": ""
          }
        },
        "7ebb96da85614c049a1388e34209fc86": {
          "model_module": "@jupyter-widgets/controls",
          "model_module_version": "1.5.0",
          "model_name": "HTMLModel",
          "state": {
            "_dom_classes": [],
            "_model_module": "@jupyter-widgets/controls",
            "_model_module_version": "1.5.0",
            "_model_name": "HTMLModel",
            "_view_count": null,
            "_view_module": "@jupyter-widgets/controls",
            "_view_module_version": "1.5.0",
            "_view_name": "HTMLView",
            "description": "",
            "description_tooltip": null,
            "layout": "IPY_MODEL_af89fdba22f445d4bc1bd7e9fc0cac42",
            "placeholder": "​",
            "style": "IPY_MODEL_2e3b151a78154d57bc98896b600a7eb2",
            "value": "Map: 100%"
          }
        },
        "7f160d8fbd0f4ac2b094f95f243be078": {
          "model_module": "@jupyter-widgets/controls",
          "model_module_version": "1.5.0",
          "model_name": "DescriptionStyleModel",
          "state": {
            "_model_module": "@jupyter-widgets/controls",
            "_model_module_version": "1.5.0",
            "_model_name": "DescriptionStyleModel",
            "_view_count": null,
            "_view_module": "@jupyter-widgets/base",
            "_view_module_version": "1.2.0",
            "_view_name": "StyleView",
            "description_width": ""
          }
        },
        "8118b3406aed480cb41550d5e92734b6": {
          "model_module": "@jupyter-widgets/base",
          "model_module_version": "1.2.0",
          "model_name": "LayoutModel",
          "state": {
            "_model_module": "@jupyter-widgets/base",
            "_model_module_version": "1.2.0",
            "_model_name": "LayoutModel",
            "_view_count": null,
            "_view_module": "@jupyter-widgets/base",
            "_view_module_version": "1.2.0",
            "_view_name": "LayoutView",
            "align_content": null,
            "align_items": null,
            "align_self": null,
            "border": null,
            "bottom": null,
            "display": null,
            "flex": null,
            "flex_flow": null,
            "grid_area": null,
            "grid_auto_columns": null,
            "grid_auto_flow": null,
            "grid_auto_rows": null,
            "grid_column": null,
            "grid_gap": null,
            "grid_row": null,
            "grid_template_areas": null,
            "grid_template_columns": null,
            "grid_template_rows": null,
            "height": null,
            "justify_content": null,
            "justify_items": null,
            "left": null,
            "margin": null,
            "max_height": null,
            "max_width": null,
            "min_height": null,
            "min_width": null,
            "object_fit": null,
            "object_position": null,
            "order": null,
            "overflow": null,
            "overflow_x": null,
            "overflow_y": null,
            "padding": null,
            "right": null,
            "top": null,
            "visibility": null,
            "width": null
          }
        },
        "81a9db1268524436b74f607db18f584a": {
          "model_module": "@jupyter-widgets/controls",
          "model_module_version": "1.5.0",
          "model_name": "DescriptionStyleModel",
          "state": {
            "_model_module": "@jupyter-widgets/controls",
            "_model_module_version": "1.5.0",
            "_model_name": "DescriptionStyleModel",
            "_view_count": null,
            "_view_module": "@jupyter-widgets/base",
            "_view_module_version": "1.2.0",
            "_view_name": "StyleView",
            "description_width": ""
          }
        },
        "8399271fb23d48f2b5a41273a022e473": {
          "model_module": "@jupyter-widgets/controls",
          "model_module_version": "1.5.0",
          "model_name": "HTMLModel",
          "state": {
            "_dom_classes": [],
            "_model_module": "@jupyter-widgets/controls",
            "_model_module_version": "1.5.0",
            "_model_name": "HTMLModel",
            "_view_count": null,
            "_view_module": "@jupyter-widgets/controls",
            "_view_module_version": "1.5.0",
            "_view_name": "HTMLView",
            "description": "",
            "description_tooltip": null,
            "layout": "IPY_MODEL_2c2264e6c5be46cb83f4d7eca3537216",
            "placeholder": "​",
            "style": "IPY_MODEL_ddcd6f49cf1f4b47aba476e2ebbd9d6e",
            "value": "config.json: 100%"
          }
        },
        "897dbde546bf44bfbf1167b97ffc6a64": {
          "model_module": "@jupyter-widgets/base",
          "model_module_version": "1.2.0",
          "model_name": "LayoutModel",
          "state": {
            "_model_module": "@jupyter-widgets/base",
            "_model_module_version": "1.2.0",
            "_model_name": "LayoutModel",
            "_view_count": null,
            "_view_module": "@jupyter-widgets/base",
            "_view_module_version": "1.2.0",
            "_view_name": "LayoutView",
            "align_content": null,
            "align_items": null,
            "align_self": null,
            "border": null,
            "bottom": null,
            "display": null,
            "flex": null,
            "flex_flow": null,
            "grid_area": null,
            "grid_auto_columns": null,
            "grid_auto_flow": null,
            "grid_auto_rows": null,
            "grid_column": null,
            "grid_gap": null,
            "grid_row": null,
            "grid_template_areas": null,
            "grid_template_columns": null,
            "grid_template_rows": null,
            "height": null,
            "justify_content": null,
            "justify_items": null,
            "left": null,
            "margin": null,
            "max_height": null,
            "max_width": null,
            "min_height": null,
            "min_width": null,
            "object_fit": null,
            "object_position": null,
            "order": null,
            "overflow": null,
            "overflow_x": null,
            "overflow_y": null,
            "padding": null,
            "right": null,
            "top": null,
            "visibility": null,
            "width": null
          }
        },
        "91213fe926b94691945608e49794b9b3": {
          "model_module": "@jupyter-widgets/base",
          "model_module_version": "1.2.0",
          "model_name": "LayoutModel",
          "state": {
            "_model_module": "@jupyter-widgets/base",
            "_model_module_version": "1.2.0",
            "_model_name": "LayoutModel",
            "_view_count": null,
            "_view_module": "@jupyter-widgets/base",
            "_view_module_version": "1.2.0",
            "_view_name": "LayoutView",
            "align_content": null,
            "align_items": null,
            "align_self": null,
            "border": null,
            "bottom": null,
            "display": null,
            "flex": null,
            "flex_flow": null,
            "grid_area": null,
            "grid_auto_columns": null,
            "grid_auto_flow": null,
            "grid_auto_rows": null,
            "grid_column": null,
            "grid_gap": null,
            "grid_row": null,
            "grid_template_areas": null,
            "grid_template_columns": null,
            "grid_template_rows": null,
            "height": null,
            "justify_content": null,
            "justify_items": null,
            "left": null,
            "margin": null,
            "max_height": null,
            "max_width": null,
            "min_height": null,
            "min_width": null,
            "object_fit": null,
            "object_position": null,
            "order": null,
            "overflow": null,
            "overflow_x": null,
            "overflow_y": null,
            "padding": null,
            "right": null,
            "top": null,
            "visibility": null,
            "width": null
          }
        },
        "91b42070641640bd972c5dbb94951091": {
          "model_module": "@jupyter-widgets/controls",
          "model_module_version": "1.5.0",
          "model_name": "HTMLModel",
          "state": {
            "_dom_classes": [],
            "_model_module": "@jupyter-widgets/controls",
            "_model_module_version": "1.5.0",
            "_model_name": "HTMLModel",
            "_view_count": null,
            "_view_module": "@jupyter-widgets/controls",
            "_view_module_version": "1.5.0",
            "_view_name": "HTMLView",
            "description": "",
            "description_tooltip": null,
            "layout": "IPY_MODEL_ed1ec8ef38c5400aa3ed81d0fbcf4dae",
            "placeholder": "​",
            "style": "IPY_MODEL_0ca11e5c99364960af0a230cd5a905cf",
            "value": " 1.21k/1.21k [00:00&lt;00:00, 105kB/s]"
          }
        },
        "96c05852aa6e4246b9b2ac2879a1bc0a": {
          "model_module": "@jupyter-widgets/base",
          "model_module_version": "1.2.0",
          "model_name": "LayoutModel",
          "state": {
            "_model_module": "@jupyter-widgets/base",
            "_model_module_version": "1.2.0",
            "_model_name": "LayoutModel",
            "_view_count": null,
            "_view_module": "@jupyter-widgets/base",
            "_view_module_version": "1.2.0",
            "_view_name": "LayoutView",
            "align_content": null,
            "align_items": null,
            "align_self": null,
            "border": null,
            "bottom": null,
            "display": null,
            "flex": null,
            "flex_flow": null,
            "grid_area": null,
            "grid_auto_columns": null,
            "grid_auto_flow": null,
            "grid_auto_rows": null,
            "grid_column": null,
            "grid_gap": null,
            "grid_row": null,
            "grid_template_areas": null,
            "grid_template_columns": null,
            "grid_template_rows": null,
            "height": null,
            "justify_content": null,
            "justify_items": null,
            "left": null,
            "margin": null,
            "max_height": null,
            "max_width": null,
            "min_height": null,
            "min_width": null,
            "object_fit": null,
            "object_position": null,
            "order": null,
            "overflow": null,
            "overflow_x": null,
            "overflow_y": null,
            "padding": null,
            "right": null,
            "top": null,
            "visibility": null,
            "width": null
          }
        },
        "97faa8b692334dabbe3ef78e16efdbfa": {
          "model_module": "@jupyter-widgets/base",
          "model_module_version": "1.2.0",
          "model_name": "LayoutModel",
          "state": {
            "_model_module": "@jupyter-widgets/base",
            "_model_module_version": "1.2.0",
            "_model_name": "LayoutModel",
            "_view_count": null,
            "_view_module": "@jupyter-widgets/base",
            "_view_module_version": "1.2.0",
            "_view_name": "LayoutView",
            "align_content": null,
            "align_items": null,
            "align_self": null,
            "border": null,
            "bottom": null,
            "display": null,
            "flex": null,
            "flex_flow": null,
            "grid_area": null,
            "grid_auto_columns": null,
            "grid_auto_flow": null,
            "grid_auto_rows": null,
            "grid_column": null,
            "grid_gap": null,
            "grid_row": null,
            "grid_template_areas": null,
            "grid_template_columns": null,
            "grid_template_rows": null,
            "height": null,
            "justify_content": null,
            "justify_items": null,
            "left": null,
            "margin": null,
            "max_height": null,
            "max_width": null,
            "min_height": null,
            "min_width": null,
            "object_fit": null,
            "object_position": null,
            "order": null,
            "overflow": null,
            "overflow_x": null,
            "overflow_y": null,
            "padding": null,
            "right": null,
            "top": null,
            "visibility": null,
            "width": null
          }
        },
        "9a8add02bbdb4348b8cf8b9cd43a6c3e": {
          "model_module": "@jupyter-widgets/controls",
          "model_module_version": "1.5.0",
          "model_name": "HTMLModel",
          "state": {
            "_dom_classes": [],
            "_model_module": "@jupyter-widgets/controls",
            "_model_module_version": "1.5.0",
            "_model_name": "HTMLModel",
            "_view_count": null,
            "_view_module": "@jupyter-widgets/controls",
            "_view_module_version": "1.5.0",
            "_view_name": "HTMLView",
            "description": "",
            "description_tooltip": null,
            "layout": "IPY_MODEL_450cfc1bfd6f473094d3608d7e9f8829",
            "placeholder": "​",
            "style": "IPY_MODEL_0e637188a7f1417991c60261d725d7fa",
            "value": "Loading dataset shards: 100%"
          }
        },
        "9bd1b6880574437d93ee8e02ba16a4e0": {
          "model_module": "@jupyter-widgets/controls",
          "model_module_version": "1.5.0",
          "model_name": "DescriptionStyleModel",
          "state": {
            "_model_module": "@jupyter-widgets/controls",
            "_model_module_version": "1.5.0",
            "_model_name": "DescriptionStyleModel",
            "_view_count": null,
            "_view_module": "@jupyter-widgets/base",
            "_view_module_version": "1.2.0",
            "_view_name": "StyleView",
            "description_width": ""
          }
        },
        "9e9ea4ae81cd4ab9a6e7d41ecdec01c1": {
          "model_module": "@jupyter-widgets/base",
          "model_module_version": "1.2.0",
          "model_name": "LayoutModel",
          "state": {
            "_model_module": "@jupyter-widgets/base",
            "_model_module_version": "1.2.0",
            "_model_name": "LayoutModel",
            "_view_count": null,
            "_view_module": "@jupyter-widgets/base",
            "_view_module_version": "1.2.0",
            "_view_name": "LayoutView",
            "align_content": null,
            "align_items": null,
            "align_self": null,
            "border": null,
            "bottom": null,
            "display": null,
            "flex": null,
            "flex_flow": null,
            "grid_area": null,
            "grid_auto_columns": null,
            "grid_auto_flow": null,
            "grid_auto_rows": null,
            "grid_column": null,
            "grid_gap": null,
            "grid_row": null,
            "grid_template_areas": null,
            "grid_template_columns": null,
            "grid_template_rows": null,
            "height": null,
            "justify_content": null,
            "justify_items": null,
            "left": null,
            "margin": null,
            "max_height": null,
            "max_width": null,
            "min_height": null,
            "min_width": null,
            "object_fit": null,
            "object_position": null,
            "order": null,
            "overflow": null,
            "overflow_x": null,
            "overflow_y": null,
            "padding": null,
            "right": null,
            "top": null,
            "visibility": null,
            "width": null
          }
        },
        "9fbff3b887be426f8705c5afaab93ea0": {
          "model_module": "@jupyter-widgets/controls",
          "model_module_version": "1.5.0",
          "model_name": "FloatProgressModel",
          "state": {
            "_dom_classes": [],
            "_model_module": "@jupyter-widgets/controls",
            "_model_module_version": "1.5.0",
            "_model_name": "FloatProgressModel",
            "_view_count": null,
            "_view_module": "@jupyter-widgets/controls",
            "_view_module_version": "1.5.0",
            "_view_name": "ProgressView",
            "bar_style": "success",
            "description": "",
            "description_tooltip": null,
            "layout": "IPY_MODEL_91213fe926b94691945608e49794b9b3",
            "max": 1389353,
            "min": 0,
            "orientation": "horizontal",
            "style": "IPY_MODEL_626113ef66ab42e4800232af0005cd3e",
            "value": 1389353
          }
        },
        "abed802e6544463f904ba993acdecea7": {
          "model_module": "@jupyter-widgets/controls",
          "model_module_version": "1.5.0",
          "model_name": "ProgressStyleModel",
          "state": {
            "_model_module": "@jupyter-widgets/controls",
            "_model_module_version": "1.5.0",
            "_model_name": "ProgressStyleModel",
            "_view_count": null,
            "_view_module": "@jupyter-widgets/base",
            "_view_module_version": "1.2.0",
            "_view_name": "StyleView",
            "bar_color": null,
            "description_width": ""
          }
        },
        "ad89d0001a6847bda8b67634ef4e27be": {
          "model_module": "@jupyter-widgets/base",
          "model_module_version": "1.2.0",
          "model_name": "LayoutModel",
          "state": {
            "_model_module": "@jupyter-widgets/base",
            "_model_module_version": "1.2.0",
            "_model_name": "LayoutModel",
            "_view_count": null,
            "_view_module": "@jupyter-widgets/base",
            "_view_module_version": "1.2.0",
            "_view_name": "LayoutView",
            "align_content": null,
            "align_items": null,
            "align_self": null,
            "border": null,
            "bottom": null,
            "display": null,
            "flex": null,
            "flex_flow": null,
            "grid_area": null,
            "grid_auto_columns": null,
            "grid_auto_flow": null,
            "grid_auto_rows": null,
            "grid_column": null,
            "grid_gap": null,
            "grid_row": null,
            "grid_template_areas": null,
            "grid_template_columns": null,
            "grid_template_rows": null,
            "height": null,
            "justify_content": null,
            "justify_items": null,
            "left": null,
            "margin": null,
            "max_height": null,
            "max_width": null,
            "min_height": null,
            "min_width": null,
            "object_fit": null,
            "object_position": null,
            "order": null,
            "overflow": null,
            "overflow_x": null,
            "overflow_y": null,
            "padding": null,
            "right": null,
            "top": null,
            "visibility": null,
            "width": null
          }
        },
        "ae76e2c3dfca4e85b29773febcbd1601": {
          "model_module": "@jupyter-widgets/controls",
          "model_module_version": "1.5.0",
          "model_name": "HBoxModel",
          "state": {
            "_dom_classes": [],
            "_model_module": "@jupyter-widgets/controls",
            "_model_module_version": "1.5.0",
            "_model_name": "HBoxModel",
            "_view_count": null,
            "_view_module": "@jupyter-widgets/controls",
            "_view_module_version": "1.5.0",
            "_view_name": "HBoxView",
            "box_style": "",
            "children": [
              "IPY_MODEL_9a8add02bbdb4348b8cf8b9cd43a6c3e",
              "IPY_MODEL_56a8485e838c4823b94c82c3617c5be9",
              "IPY_MODEL_744522ea479342c780d0e2595f556f0e"
            ],
            "layout": "IPY_MODEL_4380b99db8d84377b578f10230a9ce7a"
          }
        },
        "af89fdba22f445d4bc1bd7e9fc0cac42": {
          "model_module": "@jupyter-widgets/base",
          "model_module_version": "1.2.0",
          "model_name": "LayoutModel",
          "state": {
            "_model_module": "@jupyter-widgets/base",
            "_model_module_version": "1.2.0",
            "_model_name": "LayoutModel",
            "_view_count": null,
            "_view_module": "@jupyter-widgets/base",
            "_view_module_version": "1.2.0",
            "_view_name": "LayoutView",
            "align_content": null,
            "align_items": null,
            "align_self": null,
            "border": null,
            "bottom": null,
            "display": null,
            "flex": null,
            "flex_flow": null,
            "grid_area": null,
            "grid_auto_columns": null,
            "grid_auto_flow": null,
            "grid_auto_rows": null,
            "grid_column": null,
            "grid_gap": null,
            "grid_row": null,
            "grid_template_areas": null,
            "grid_template_columns": null,
            "grid_template_rows": null,
            "height": null,
            "justify_content": null,
            "justify_items": null,
            "left": null,
            "margin": null,
            "max_height": null,
            "max_width": null,
            "min_height": null,
            "min_width": null,
            "object_fit": null,
            "object_position": null,
            "order": null,
            "overflow": null,
            "overflow_x": null,
            "overflow_y": null,
            "padding": null,
            "right": null,
            "top": null,
            "visibility": null,
            "width": null
          }
        },
        "bde8cf4dd9904842b3767dc1a89a743b": {
          "model_module": "@jupyter-widgets/controls",
          "model_module_version": "1.5.0",
          "model_name": "FloatProgressModel",
          "state": {
            "_dom_classes": [],
            "_model_module": "@jupyter-widgets/controls",
            "_model_module_version": "1.5.0",
            "_model_name": "FloatProgressModel",
            "_view_count": null,
            "_view_module": "@jupyter-widgets/controls",
            "_view_module_version": "1.5.0",
            "_view_name": "ProgressView",
            "bar_style": "success",
            "description": "",
            "description_tooltip": null,
            "layout": "IPY_MODEL_0642667f9a7c45cabe8bb4c97e950b41",
            "max": 1,
            "min": 0,
            "orientation": "horizontal",
            "style": "IPY_MODEL_c7edc77916474228a5de800da8fa4fb1",
            "value": 1
          }
        },
        "c3313b20f759441fb24992cf76e7b214": {
          "model_module": "@jupyter-widgets/controls",
          "model_module_version": "1.5.0",
          "model_name": "HTMLModel",
          "state": {
            "_dom_classes": [],
            "_model_module": "@jupyter-widgets/controls",
            "_model_module_version": "1.5.0",
            "_model_name": "HTMLModel",
            "_view_count": null,
            "_view_module": "@jupyter-widgets/controls",
            "_view_module_version": "1.5.0",
            "_view_name": "HTMLView",
            "description": "",
            "description_tooltip": null,
            "layout": "IPY_MODEL_4d20e1717cba4717b27af279b8e3d876",
            "placeholder": "​",
            "style": "IPY_MODEL_81a9db1268524436b74f607db18f584a",
            "value": " 40000/40000 [01:26&lt;00:00, 461.66 examples/s]"
          }
        },
        "c39ffb4cc9c94b52861aa1abd38eb16e": {
          "model_module": "@jupyter-widgets/base",
          "model_module_version": "1.2.0",
          "model_name": "LayoutModel",
          "state": {
            "_model_module": "@jupyter-widgets/base",
            "_model_module_version": "1.2.0",
            "_model_name": "LayoutModel",
            "_view_count": null,
            "_view_module": "@jupyter-widgets/base",
            "_view_module_version": "1.2.0",
            "_view_name": "LayoutView",
            "align_content": null,
            "align_items": null,
            "align_self": null,
            "border": null,
            "bottom": null,
            "display": null,
            "flex": null,
            "flex_flow": null,
            "grid_area": null,
            "grid_auto_columns": null,
            "grid_auto_flow": null,
            "grid_auto_rows": null,
            "grid_column": null,
            "grid_gap": null,
            "grid_row": null,
            "grid_template_areas": null,
            "grid_template_columns": null,
            "grid_template_rows": null,
            "height": null,
            "justify_content": null,
            "justify_items": null,
            "left": null,
            "margin": null,
            "max_height": null,
            "max_width": null,
            "min_height": null,
            "min_width": null,
            "object_fit": null,
            "object_position": null,
            "order": null,
            "overflow": null,
            "overflow_x": null,
            "overflow_y": null,
            "padding": null,
            "right": null,
            "top": null,
            "visibility": null,
            "width": null
          }
        },
        "c5bfdb8b6790468392793ee3fe1234a1": {
          "model_module": "@jupyter-widgets/controls",
          "model_module_version": "1.5.0",
          "model_name": "ProgressStyleModel",
          "state": {
            "_model_module": "@jupyter-widgets/controls",
            "_model_module_version": "1.5.0",
            "_model_name": "ProgressStyleModel",
            "_view_count": null,
            "_view_module": "@jupyter-widgets/base",
            "_view_module_version": "1.2.0",
            "_view_name": "StyleView",
            "bar_color": null,
            "description_width": ""
          }
        },
        "c7c2c1ea8edc42219e260e3918f7dd80": {
          "model_module": "@jupyter-widgets/controls",
          "model_module_version": "1.5.0",
          "model_name": "DescriptionStyleModel",
          "state": {
            "_model_module": "@jupyter-widgets/controls",
            "_model_module_version": "1.5.0",
            "_model_name": "DescriptionStyleModel",
            "_view_count": null,
            "_view_module": "@jupyter-widgets/base",
            "_view_module_version": "1.2.0",
            "_view_name": "StyleView",
            "description_width": ""
          }
        },
        "c7edc77916474228a5de800da8fa4fb1": {
          "model_module": "@jupyter-widgets/controls",
          "model_module_version": "1.5.0",
          "model_name": "ProgressStyleModel",
          "state": {
            "_model_module": "@jupyter-widgets/controls",
            "_model_module_version": "1.5.0",
            "_model_name": "ProgressStyleModel",
            "_view_count": null,
            "_view_module": "@jupyter-widgets/base",
            "_view_module_version": "1.2.0",
            "_view_name": "StyleView",
            "bar_color": null,
            "description_width": ""
          }
        },
        "c999de9a1d3349b0a1430247382e811e": {
          "model_module": "@jupyter-widgets/base",
          "model_module_version": "1.2.0",
          "model_name": "LayoutModel",
          "state": {
            "_model_module": "@jupyter-widgets/base",
            "_model_module_version": "1.2.0",
            "_model_name": "LayoutModel",
            "_view_count": null,
            "_view_module": "@jupyter-widgets/base",
            "_view_module_version": "1.2.0",
            "_view_name": "LayoutView",
            "align_content": null,
            "align_items": null,
            "align_self": null,
            "border": null,
            "bottom": null,
            "display": null,
            "flex": null,
            "flex_flow": null,
            "grid_area": null,
            "grid_auto_columns": null,
            "grid_auto_flow": null,
            "grid_auto_rows": null,
            "grid_column": null,
            "grid_gap": null,
            "grid_row": null,
            "grid_template_areas": null,
            "grid_template_columns": null,
            "grid_template_rows": null,
            "height": null,
            "justify_content": null,
            "justify_items": null,
            "left": null,
            "margin": null,
            "max_height": null,
            "max_width": null,
            "min_height": null,
            "min_width": null,
            "object_fit": null,
            "object_position": null,
            "order": null,
            "overflow": null,
            "overflow_x": null,
            "overflow_y": null,
            "padding": null,
            "right": null,
            "top": null,
            "visibility": null,
            "width": null
          }
        },
        "cda478b960ce4284a1b530022dcb25fc": {
          "model_module": "@jupyter-widgets/controls",
          "model_module_version": "1.5.0",
          "model_name": "FloatProgressModel",
          "state": {
            "_dom_classes": [],
            "_model_module": "@jupyter-widgets/controls",
            "_model_module_version": "1.5.0",
            "_model_name": "FloatProgressModel",
            "_view_count": null,
            "_view_module": "@jupyter-widgets/controls",
            "_view_module_version": "1.5.0",
            "_view_name": "ProgressView",
            "bar_style": "success",
            "description": "",
            "description_tooltip": null,
            "layout": "IPY_MODEL_8118b3406aed480cb41550d5e92734b6",
            "max": 1208,
            "min": 0,
            "orientation": "horizontal",
            "style": "IPY_MODEL_081fdfd002eb4b3cab053e8f8aad8f85",
            "value": 1208
          }
        },
        "ce2a924f079147fa856535db866e8134": {
          "model_module": "@jupyter-widgets/controls",
          "model_module_version": "1.5.0",
          "model_name": "DescriptionStyleModel",
          "state": {
            "_model_module": "@jupyter-widgets/controls",
            "_model_module_version": "1.5.0",
            "_model_name": "DescriptionStyleModel",
            "_view_count": null,
            "_view_module": "@jupyter-widgets/base",
            "_view_module_version": "1.2.0",
            "_view_name": "StyleView",
            "description_width": ""
          }
        },
        "cf066321fc054640aa947a7ea45dc0c7": {
          "model_module": "@jupyter-widgets/base",
          "model_module_version": "1.2.0",
          "model_name": "LayoutModel",
          "state": {
            "_model_module": "@jupyter-widgets/base",
            "_model_module_version": "1.2.0",
            "_model_name": "LayoutModel",
            "_view_count": null,
            "_view_module": "@jupyter-widgets/base",
            "_view_module_version": "1.2.0",
            "_view_name": "LayoutView",
            "align_content": null,
            "align_items": null,
            "align_self": null,
            "border": null,
            "bottom": null,
            "display": null,
            "flex": null,
            "flex_flow": null,
            "grid_area": null,
            "grid_auto_columns": null,
            "grid_auto_flow": null,
            "grid_auto_rows": null,
            "grid_column": null,
            "grid_gap": null,
            "grid_row": null,
            "grid_template_areas": null,
            "grid_template_columns": null,
            "grid_template_rows": null,
            "height": null,
            "justify_content": null,
            "justify_items": null,
            "left": null,
            "margin": null,
            "max_height": null,
            "max_width": null,
            "min_height": null,
            "min_width": null,
            "object_fit": null,
            "object_position": null,
            "order": null,
            "overflow": null,
            "overflow_x": null,
            "overflow_y": null,
            "padding": null,
            "right": null,
            "top": null,
            "visibility": null,
            "width": null
          }
        },
        "d584c0468406482ea433d7dd9a700df1": {
          "model_module": "@jupyter-widgets/controls",
          "model_module_version": "1.5.0",
          "model_name": "HTMLModel",
          "state": {
            "_dom_classes": [],
            "_model_module": "@jupyter-widgets/controls",
            "_model_module_version": "1.5.0",
            "_model_name": "HTMLModel",
            "_view_count": null,
            "_view_module": "@jupyter-widgets/controls",
            "_view_module_version": "1.5.0",
            "_view_name": "HTMLView",
            "description": "",
            "description_tooltip": null,
            "layout": "IPY_MODEL_cf066321fc054640aa947a7ea45dc0c7",
            "placeholder": "​",
            "style": "IPY_MODEL_70ac077802f9496c99b35a407dc4d149",
            "value": " 160000/160000 [05:53&lt;00:00, 456.80 examples/s]"
          }
        },
        "dccb74def776436e957e69bb604ae97e": {
          "model_module": "@jupyter-widgets/controls",
          "model_module_version": "1.5.0",
          "model_name": "FloatProgressModel",
          "state": {
            "_dom_classes": [],
            "_model_module": "@jupyter-widgets/controls",
            "_model_module_version": "1.5.0",
            "_model_name": "FloatProgressModel",
            "_view_count": null,
            "_view_module": "@jupyter-widgets/controls",
            "_view_module_version": "1.5.0",
            "_view_name": "ProgressView",
            "bar_style": "success",
            "description": "",
            "description_tooltip": null,
            "layout": "IPY_MODEL_688cbb0d23ba4424a2e0528fcbd1449d",
            "max": 160000,
            "min": 0,
            "orientation": "horizontal",
            "style": "IPY_MODEL_abed802e6544463f904ba993acdecea7",
            "value": 160000
          }
        },
        "ddcd6f49cf1f4b47aba476e2ebbd9d6e": {
          "model_module": "@jupyter-widgets/controls",
          "model_module_version": "1.5.0",
          "model_name": "DescriptionStyleModel",
          "state": {
            "_model_module": "@jupyter-widgets/controls",
            "_model_module_version": "1.5.0",
            "_model_name": "DescriptionStyleModel",
            "_view_count": null,
            "_view_module": "@jupyter-widgets/base",
            "_view_module_version": "1.2.0",
            "_view_name": "StyleView",
            "description_width": ""
          }
        },
        "de2fc81bd9774310818c4111f9202f57": {
          "model_module": "@jupyter-widgets/base",
          "model_module_version": "1.2.0",
          "model_name": "LayoutModel",
          "state": {
            "_model_module": "@jupyter-widgets/base",
            "_model_module_version": "1.2.0",
            "_model_name": "LayoutModel",
            "_view_count": null,
            "_view_module": "@jupyter-widgets/base",
            "_view_module_version": "1.2.0",
            "_view_name": "LayoutView",
            "align_content": null,
            "align_items": null,
            "align_self": null,
            "border": null,
            "bottom": null,
            "display": null,
            "flex": null,
            "flex_flow": null,
            "grid_area": null,
            "grid_auto_columns": null,
            "grid_auto_flow": null,
            "grid_auto_rows": null,
            "grid_column": null,
            "grid_gap": null,
            "grid_row": null,
            "grid_template_areas": null,
            "grid_template_columns": null,
            "grid_template_rows": null,
            "height": null,
            "justify_content": null,
            "justify_items": null,
            "left": null,
            "margin": null,
            "max_height": null,
            "max_width": null,
            "min_height": null,
            "min_width": null,
            "object_fit": null,
            "object_position": null,
            "order": null,
            "overflow": null,
            "overflow_x": null,
            "overflow_y": null,
            "padding": null,
            "right": null,
            "top": null,
            "visibility": null,
            "width": null
          }
        },
        "e02ee97d8bb8419ebac0b8a325f949c1": {
          "model_module": "@jupyter-widgets/base",
          "model_module_version": "1.2.0",
          "model_name": "LayoutModel",
          "state": {
            "_model_module": "@jupyter-widgets/base",
            "_model_module_version": "1.2.0",
            "_model_name": "LayoutModel",
            "_view_count": null,
            "_view_module": "@jupyter-widgets/base",
            "_view_module_version": "1.2.0",
            "_view_name": "LayoutView",
            "align_content": null,
            "align_items": null,
            "align_self": null,
            "border": null,
            "bottom": null,
            "display": null,
            "flex": null,
            "flex_flow": null,
            "grid_area": null,
            "grid_auto_columns": null,
            "grid_auto_flow": null,
            "grid_auto_rows": null,
            "grid_column": null,
            "grid_gap": null,
            "grid_row": null,
            "grid_template_areas": null,
            "grid_template_columns": null,
            "grid_template_rows": null,
            "height": null,
            "justify_content": null,
            "justify_items": null,
            "left": null,
            "margin": null,
            "max_height": null,
            "max_width": null,
            "min_height": null,
            "min_width": null,
            "object_fit": null,
            "object_position": null,
            "order": null,
            "overflow": null,
            "overflow_x": null,
            "overflow_y": null,
            "padding": null,
            "right": null,
            "top": null,
            "visibility": null,
            "width": null
          }
        },
        "e0ca53f21ebc4a5b99e227f753a6a3c5": {
          "model_module": "@jupyter-widgets/controls",
          "model_module_version": "1.5.0",
          "model_name": "HTMLModel",
          "state": {
            "_dom_classes": [],
            "_model_module": "@jupyter-widgets/controls",
            "_model_module_version": "1.5.0",
            "_model_name": "HTMLModel",
            "_view_count": null,
            "_view_module": "@jupyter-widgets/controls",
            "_view_module_version": "1.5.0",
            "_view_name": "HTMLView",
            "description": "",
            "description_tooltip": null,
            "layout": "IPY_MODEL_3b5d329bcb134f46a1e2e22a729fe9d1",
            "placeholder": "​",
            "style": "IPY_MODEL_c7c2c1ea8edc42219e260e3918f7dd80",
            "value": " 10000000/0 [03:33&lt;00:00, 67013.77 examples/s]"
          }
        },
        "e2f08ff985994e459326eafce669c34e": {
          "model_module": "@jupyter-widgets/controls",
          "model_module_version": "1.5.0",
          "model_name": "HTMLModel",
          "state": {
            "_dom_classes": [],
            "_model_module": "@jupyter-widgets/controls",
            "_model_module_version": "1.5.0",
            "_model_name": "HTMLModel",
            "_view_count": null,
            "_view_module": "@jupyter-widgets/controls",
            "_view_module_version": "1.5.0",
            "_view_name": "HTMLView",
            "description": "",
            "description_tooltip": null,
            "layout": "IPY_MODEL_77da013bac3a4bf997eb1346812d848f",
            "placeholder": "​",
            "style": "IPY_MODEL_9bd1b6880574437d93ee8e02ba16a4e0",
            "value": "Map: 100%"
          }
        },
        "e37fdda3c4764d04874673a640237dba": {
          "model_module": "@jupyter-widgets/controls",
          "model_module_version": "1.5.0",
          "model_name": "FloatProgressModel",
          "state": {
            "_dom_classes": [],
            "_model_module": "@jupyter-widgets/controls",
            "_model_module_version": "1.5.0",
            "_model_name": "FloatProgressModel",
            "_view_count": null,
            "_view_module": "@jupyter-widgets/controls",
            "_view_module_version": "1.5.0",
            "_view_name": "ProgressView",
            "bar_style": "success",
            "description": "",
            "description_tooltip": null,
            "layout": "IPY_MODEL_c39ffb4cc9c94b52861aa1abd38eb16e",
            "max": 1208,
            "min": 0,
            "orientation": "horizontal",
            "style": "IPY_MODEL_79642d74848c40d8b60750330d1b9886",
            "value": 1208
          }
        },
        "e3d80ea13e874b90b5989eab20762eff": {
          "model_module": "@jupyter-widgets/controls",
          "model_module_version": "1.5.0",
          "model_name": "DescriptionStyleModel",
          "state": {
            "_model_module": "@jupyter-widgets/controls",
            "_model_module_version": "1.5.0",
            "_model_name": "DescriptionStyleModel",
            "_view_count": null,
            "_view_module": "@jupyter-widgets/base",
            "_view_module_version": "1.2.0",
            "_view_name": "StyleView",
            "description_width": ""
          }
        },
        "e5630c605eaa42c9a1b4a343d761e861": {
          "model_module": "@jupyter-widgets/controls",
          "model_module_version": "1.5.0",
          "model_name": "HTMLModel",
          "state": {
            "_dom_classes": [],
            "_model_module": "@jupyter-widgets/controls",
            "_model_module_version": "1.5.0",
            "_model_name": "HTMLModel",
            "_view_count": null,
            "_view_module": "@jupyter-widgets/controls",
            "_view_module_version": "1.5.0",
            "_view_name": "HTMLView",
            "description": "",
            "description_tooltip": null,
            "layout": "IPY_MODEL_f6b2a1b8e27a455382b38650bae7c92d",
            "placeholder": "​",
            "style": "IPY_MODEL_e3d80ea13e874b90b5989eab20762eff",
            "value": " 792k/792k [00:00&lt;00:00, 22.0MB/s]"
          }
        },
        "e8ffe9429a134bef955148127eb7b41d": {
          "model_module": "@jupyter-widgets/base",
          "model_module_version": "1.2.0",
          "model_name": "LayoutModel",
          "state": {
            "_model_module": "@jupyter-widgets/base",
            "_model_module_version": "1.2.0",
            "_model_name": "LayoutModel",
            "_view_count": null,
            "_view_module": "@jupyter-widgets/base",
            "_view_module_version": "1.2.0",
            "_view_name": "LayoutView",
            "align_content": null,
            "align_items": null,
            "align_self": null,
            "border": null,
            "bottom": null,
            "display": null,
            "flex": null,
            "flex_flow": null,
            "grid_area": null,
            "grid_auto_columns": null,
            "grid_auto_flow": null,
            "grid_auto_rows": null,
            "grid_column": null,
            "grid_gap": null,
            "grid_row": null,
            "grid_template_areas": null,
            "grid_template_columns": null,
            "grid_template_rows": null,
            "height": null,
            "justify_content": null,
            "justify_items": null,
            "left": null,
            "margin": null,
            "max_height": null,
            "max_width": null,
            "min_height": null,
            "min_width": null,
            "object_fit": null,
            "object_position": null,
            "order": null,
            "overflow": null,
            "overflow_x": null,
            "overflow_y": null,
            "padding": null,
            "right": null,
            "top": null,
            "visibility": null,
            "width": null
          }
        },
        "ed1ec8ef38c5400aa3ed81d0fbcf4dae": {
          "model_module": "@jupyter-widgets/base",
          "model_module_version": "1.2.0",
          "model_name": "LayoutModel",
          "state": {
            "_model_module": "@jupyter-widgets/base",
            "_model_module_version": "1.2.0",
            "_model_name": "LayoutModel",
            "_view_count": null,
            "_view_module": "@jupyter-widgets/base",
            "_view_module_version": "1.2.0",
            "_view_name": "LayoutView",
            "align_content": null,
            "align_items": null,
            "align_self": null,
            "border": null,
            "bottom": null,
            "display": null,
            "flex": null,
            "flex_flow": null,
            "grid_area": null,
            "grid_auto_columns": null,
            "grid_auto_flow": null,
            "grid_auto_rows": null,
            "grid_column": null,
            "grid_gap": null,
            "grid_row": null,
            "grid_template_areas": null,
            "grid_template_columns": null,
            "grid_template_rows": null,
            "height": null,
            "justify_content": null,
            "justify_items": null,
            "left": null,
            "margin": null,
            "max_height": null,
            "max_width": null,
            "min_height": null,
            "min_width": null,
            "object_fit": null,
            "object_position": null,
            "order": null,
            "overflow": null,
            "overflow_x": null,
            "overflow_y": null,
            "padding": null,
            "right": null,
            "top": null,
            "visibility": null,
            "width": null
          }
        },
        "eebc7f2778bc457290efe2ea48301da0": {
          "model_module": "@jupyter-widgets/controls",
          "model_module_version": "1.5.0",
          "model_name": "HBoxModel",
          "state": {
            "_dom_classes": [],
            "_model_module": "@jupyter-widgets/controls",
            "_model_module_version": "1.5.0",
            "_model_name": "HBoxModel",
            "_view_count": null,
            "_view_module": "@jupyter-widgets/controls",
            "_view_module_version": "1.5.0",
            "_view_name": "HBoxView",
            "box_style": "",
            "children": [
              "IPY_MODEL_8399271fb23d48f2b5a41273a022e473",
              "IPY_MODEL_e37fdda3c4764d04874673a640237dba",
              "IPY_MODEL_7b8f620017da43b385a09e15fbf68727"
            ],
            "layout": "IPY_MODEL_561d945a17e14590a8525a80b643068a"
          }
        },
        "f001ca03b1214afcadd1b993bb9539cb": {
          "model_module": "@jupyter-widgets/controls",
          "model_module_version": "1.5.0",
          "model_name": "DescriptionStyleModel",
          "state": {
            "_model_module": "@jupyter-widgets/controls",
            "_model_module_version": "1.5.0",
            "_model_name": "DescriptionStyleModel",
            "_view_count": null,
            "_view_module": "@jupyter-widgets/base",
            "_view_module_version": "1.2.0",
            "_view_name": "StyleView",
            "description_width": ""
          }
        },
        "f00e9144d3ea49a9962d30a9638fbcd5": {
          "model_module": "@jupyter-widgets/base",
          "model_module_version": "1.2.0",
          "model_name": "LayoutModel",
          "state": {
            "_model_module": "@jupyter-widgets/base",
            "_model_module_version": "1.2.0",
            "_model_name": "LayoutModel",
            "_view_count": null,
            "_view_module": "@jupyter-widgets/base",
            "_view_module_version": "1.2.0",
            "_view_name": "LayoutView",
            "align_content": null,
            "align_items": null,
            "align_self": null,
            "border": null,
            "bottom": null,
            "display": null,
            "flex": null,
            "flex_flow": null,
            "grid_area": null,
            "grid_auto_columns": null,
            "grid_auto_flow": null,
            "grid_auto_rows": null,
            "grid_column": null,
            "grid_gap": null,
            "grid_row": null,
            "grid_template_areas": null,
            "grid_template_columns": null,
            "grid_template_rows": null,
            "height": null,
            "justify_content": null,
            "justify_items": null,
            "left": null,
            "margin": null,
            "max_height": null,
            "max_width": null,
            "min_height": null,
            "min_width": null,
            "object_fit": null,
            "object_position": null,
            "order": null,
            "overflow": null,
            "overflow_x": null,
            "overflow_y": null,
            "padding": null,
            "right": null,
            "top": null,
            "visibility": null,
            "width": null
          }
        },
        "f471143da5574456ac301cffe42b06ca": {
          "model_module": "@jupyter-widgets/controls",
          "model_module_version": "1.5.0",
          "model_name": "HBoxModel",
          "state": {
            "_dom_classes": [],
            "_model_module": "@jupyter-widgets/controls",
            "_model_module_version": "1.5.0",
            "_model_name": "HBoxModel",
            "_view_count": null,
            "_view_module": "@jupyter-widgets/controls",
            "_view_module_version": "1.5.0",
            "_view_name": "HBoxView",
            "box_style": "",
            "children": [
              "IPY_MODEL_5439cfba79104afa808894c28d79f39b",
              "IPY_MODEL_9fbff3b887be426f8705c5afaab93ea0",
              "IPY_MODEL_585118e9cb284584b95e09f34b7acd11"
            ],
            "layout": "IPY_MODEL_2cad6db4b0d645e79f01690e7183c5c9"
          }
        },
        "f6b2a1b8e27a455382b38650bae7c92d": {
          "model_module": "@jupyter-widgets/base",
          "model_module_version": "1.2.0",
          "model_name": "LayoutModel",
          "state": {
            "_model_module": "@jupyter-widgets/base",
            "_model_module_version": "1.2.0",
            "_model_name": "LayoutModel",
            "_view_count": null,
            "_view_module": "@jupyter-widgets/base",
            "_view_module_version": "1.2.0",
            "_view_name": "LayoutView",
            "align_content": null,
            "align_items": null,
            "align_self": null,
            "border": null,
            "bottom": null,
            "display": null,
            "flex": null,
            "flex_flow": null,
            "grid_area": null,
            "grid_auto_columns": null,
            "grid_auto_flow": null,
            "grid_auto_rows": null,
            "grid_column": null,
            "grid_gap": null,
            "grid_row": null,
            "grid_template_areas": null,
            "grid_template_columns": null,
            "grid_template_rows": null,
            "height": null,
            "justify_content": null,
            "justify_items": null,
            "left": null,
            "margin": null,
            "max_height": null,
            "max_width": null,
            "min_height": null,
            "min_width": null,
            "object_fit": null,
            "object_position": null,
            "order": null,
            "overflow": null,
            "overflow_x": null,
            "overflow_y": null,
            "padding": null,
            "right": null,
            "top": null,
            "visibility": null,
            "width": null
          }
        },
        "f90d54352a634f7a92f55f6f874e07a5": {
          "model_module": "@jupyter-widgets/controls",
          "model_module_version": "1.5.0",
          "model_name": "HBoxModel",
          "state": {
            "_dom_classes": [],
            "_model_module": "@jupyter-widgets/controls",
            "_model_module_version": "1.5.0",
            "_model_name": "HBoxModel",
            "_view_count": null,
            "_view_module": "@jupyter-widgets/controls",
            "_view_module_version": "1.5.0",
            "_view_name": "HBoxView",
            "box_style": "",
            "children": [
              "IPY_MODEL_44878b86271241ec8343b1a46b57ca3d",
              "IPY_MODEL_bde8cf4dd9904842b3767dc1a89a743b",
              "IPY_MODEL_e0ca53f21ebc4a5b99e227f753a6a3c5"
            ],
            "layout": "IPY_MODEL_97faa8b692334dabbe3ef78e16efdbfa"
          }
        },
        "fcf465d306a840858a149119c5171d7e": {
          "model_module": "@jupyter-widgets/base",
          "model_module_version": "1.2.0",
          "model_name": "LayoutModel",
          "state": {
            "_model_module": "@jupyter-widgets/base",
            "_model_module_version": "1.2.0",
            "_model_name": "LayoutModel",
            "_view_count": null,
            "_view_module": "@jupyter-widgets/base",
            "_view_module_version": "1.2.0",
            "_view_name": "LayoutView",
            "align_content": null,
            "align_items": null,
            "align_self": null,
            "border": null,
            "bottom": null,
            "display": null,
            "flex": null,
            "flex_flow": null,
            "grid_area": null,
            "grid_auto_columns": null,
            "grid_auto_flow": null,
            "grid_auto_rows": null,
            "grid_column": null,
            "grid_gap": null,
            "grid_row": null,
            "grid_template_areas": null,
            "grid_template_columns": null,
            "grid_template_rows": null,
            "height": null,
            "justify_content": null,
            "justify_items": null,
            "left": null,
            "margin": null,
            "max_height": null,
            "max_width": null,
            "min_height": null,
            "min_width": null,
            "object_fit": null,
            "object_position": null,
            "order": null,
            "overflow": null,
            "overflow_x": null,
            "overflow_y": null,
            "padding": null,
            "right": null,
            "top": null,
            "visibility": null,
            "width": null
          }
        },
        "feae1d171894484abf198af1760a74f5": {
          "model_module": "@jupyter-widgets/base",
          "model_module_version": "1.2.0",
          "model_name": "LayoutModel",
          "state": {
            "_model_module": "@jupyter-widgets/base",
            "_model_module_version": "1.2.0",
            "_model_name": "LayoutModel",
            "_view_count": null,
            "_view_module": "@jupyter-widgets/base",
            "_view_module_version": "1.2.0",
            "_view_name": "LayoutView",
            "align_content": null,
            "align_items": null,
            "align_self": null,
            "border": null,
            "bottom": null,
            "display": null,
            "flex": null,
            "flex_flow": null,
            "grid_area": null,
            "grid_auto_columns": null,
            "grid_auto_flow": null,
            "grid_auto_rows": null,
            "grid_column": null,
            "grid_gap": null,
            "grid_row": null,
            "grid_template_areas": null,
            "grid_template_columns": null,
            "grid_template_rows": null,
            "height": null,
            "justify_content": null,
            "justify_items": null,
            "left": null,
            "margin": null,
            "max_height": null,
            "max_width": null,
            "min_height": null,
            "min_width": null,
            "object_fit": null,
            "object_position": null,
            "order": null,
            "overflow": null,
            "overflow_x": null,
            "overflow_y": null,
            "padding": null,
            "right": null,
            "top": null,
            "visibility": null,
            "width": null
          }
        }
      }
    }
  },
  "nbformat": 4,
  "nbformat_minor": 0
}